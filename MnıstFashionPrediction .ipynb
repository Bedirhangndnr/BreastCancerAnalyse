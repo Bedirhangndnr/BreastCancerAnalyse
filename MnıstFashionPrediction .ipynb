{
 "cells": [
  {
   "cell_type": "code",
   "execution_count": null,
   "metadata": {},
   "outputs": [],
   "source": [
    "!pip uninstall tensorflow\n",
    "#!pip install tensorflow"
   ]
  },
  {
   "cell_type": "code",
   "execution_count": null,
   "metadata": {},
   "outputs": [],
   "source": [
    "!pip install tensorflow"
   ]
  },
  {
   "cell_type": "code",
   "execution_count": 2,
   "metadata": {
    "collapsed": true,
    "jupyter": {
     "outputs_hidden": true
    }
   },
   "outputs": [
    {
     "name": "stdout",
     "output_type": "stream",
     "text": [
      "Requirement already satisfied: hyperas in c:\\users\\bedir\\anaconda3\\lib\\site-packages (0.4.1)\n",
      "Requirement already satisfied: nbconvert in c:\\users\\bedir\\anaconda3\\lib\\site-packages (from hyperas) (5.6.1)\n",
      "Requirement already satisfied: hyperopt in c:\\users\\bedir\\anaconda3\\lib\\site-packages (from hyperas) (0.2.5)\n",
      "Requirement already satisfied: keras in c:\\users\\bedir\\anaconda3\\lib\\site-packages (from hyperas) (2.4.3)\n",
      "Requirement already satisfied: entrypoints in c:\\users\\bedir\\anaconda3\\lib\\site-packages (from hyperas) (0.3)\n",
      "Requirement already satisfied: jupyter in c:\\users\\bedir\\anaconda3\\lib\\site-packages (from hyperas) (1.0.0)\n",
      "Requirement already satisfied: nbformat in c:\\users\\bedir\\anaconda3\\lib\\site-packages (from hyperas) (5.0.4)\n",
      "Requirement already satisfied: jinja2>=2.4 in c:\\users\\bedir\\anaconda3\\lib\\site-packages (from nbconvert->hyperas) (2.11.1)\n",
      "Requirement already satisfied: defusedxml in c:\\users\\bedir\\anaconda3\\lib\\site-packages (from nbconvert->hyperas) (0.6.0)\n",
      "Requirement already satisfied: mistune<2,>=0.8.1 in c:\\users\\bedir\\anaconda3\\lib\\site-packages (from nbconvert->hyperas) (0.8.4)\n",
      "Requirement already satisfied: bleach in c:\\users\\bedir\\anaconda3\\lib\\site-packages (from nbconvert->hyperas) (3.1.0)\n",
      "Requirement already satisfied: pandocfilters>=1.4.1 in c:\\users\\bedir\\anaconda3\\lib\\site-packages (from nbconvert->hyperas) (1.4.2)\n",
      "Requirement already satisfied: testpath in c:\\users\\bedir\\anaconda3\\lib\\site-packages (from nbconvert->hyperas) (0.4.4)\n",
      "Requirement already satisfied: jupyter-core in c:\\users\\bedir\\anaconda3\\lib\\site-packages (from nbconvert->hyperas) (4.6.1)\n",
      "Requirement already satisfied: traitlets>=4.2 in c:\\users\\bedir\\anaconda3\\lib\\site-packages (from nbconvert->hyperas) (4.3.3)\n",
      "Requirement already satisfied: pygments in c:\\users\\bedir\\anaconda3\\lib\\site-packages (from nbconvert->hyperas) (2.5.2)\n",
      "Requirement already satisfied: scipy in c:\\users\\bedir\\anaconda3\\lib\\site-packages (from hyperopt->hyperas) (1.4.1)\n",
      "Requirement already satisfied: tqdm in c:\\users\\bedir\\anaconda3\\lib\\site-packages (from hyperopt->hyperas) (4.42.1)\n",
      "Requirement already satisfied: numpy in c:\\users\\bedir\\anaconda3\\lib\\site-packages (from hyperopt->hyperas) (1.19.5)\n",
      "Requirement already satisfied: cloudpickle in c:\\users\\bedir\\anaconda3\\lib\\site-packages (from hyperopt->hyperas) (1.3.0)\n",
      "Requirement already satisfied: six in c:\\users\\bedir\\anaconda3\\lib\\site-packages (from hyperopt->hyperas) (1.15.0)\n",
      "Requirement already satisfied: future in c:\\users\\bedir\\anaconda3\\lib\\site-packages (from hyperopt->hyperas) (0.18.2)\n",
      "Requirement already satisfied: networkx>=2.2 in c:\\users\\bedir\\anaconda3\\lib\\site-packages (from hyperopt->hyperas) (2.4)\n",
      "Requirement already satisfied: h5py in c:\\users\\bedir\\anaconda3\\lib\\site-packages (from keras->hyperas) (3.1.0)\n",
      "Requirement already satisfied: pyyaml in c:\\users\\bedir\\anaconda3\\lib\\site-packages (from keras->hyperas) (5.3)\n",
      "Requirement already satisfied: qtconsole in c:\\users\\bedir\\anaconda3\\lib\\site-packages (from jupyter->hyperas) (4.6.0)\n",
      "Requirement already satisfied: ipywidgets in c:\\users\\bedir\\anaconda3\\lib\\site-packages (from jupyter->hyperas) (7.5.1)\n",
      "Requirement already satisfied: ipykernel in c:\\users\\bedir\\anaconda3\\lib\\site-packages (from jupyter->hyperas) (5.1.4)\n",
      "Requirement already satisfied: notebook in c:\\users\\bedir\\anaconda3\\lib\\site-packages (from jupyter->hyperas) (6.0.3)\n",
      "Requirement already satisfied: jupyter-console in c:\\users\\bedir\\anaconda3\\lib\\site-packages (from jupyter->hyperas) (6.1.0)\n",
      "Requirement already satisfied: jsonschema!=2.5.0,>=2.4 in c:\\users\\bedir\\anaconda3\\lib\\site-packages (from nbformat->hyperas) (3.2.0)\n",
      "Requirement already satisfied: ipython-genutils in c:\\users\\bedir\\anaconda3\\lib\\site-packages (from nbformat->hyperas) (0.2.0)\n",
      "Requirement already satisfied: MarkupSafe>=0.23 in c:\\users\\bedir\\anaconda3\\lib\\site-packages (from jinja2>=2.4->nbconvert->hyperas) (1.1.1)\n",
      "Requirement already satisfied: webencodings in c:\\users\\bedir\\anaconda3\\lib\\site-packages (from bleach->nbconvert->hyperas) (0.5.1)\n",
      "Requirement already satisfied: pywin32>=1.0; sys_platform == \"win32\" in c:\\users\\bedir\\anaconda3\\lib\\site-packages (from jupyter-core->nbconvert->hyperas) (227)\n",
      "Requirement already satisfied: decorator in c:\\users\\bedir\\anaconda3\\lib\\site-packages (from traitlets>=4.2->nbconvert->hyperas) (4.4.1)\n",
      "Requirement already satisfied: cached-property; python_version < \"3.8\" in c:\\users\\bedir\\anaconda3\\lib\\site-packages (from h5py->keras->hyperas) (1.5.2)\n",
      "Requirement already satisfied: jupyter-client>=4.1 in c:\\users\\bedir\\anaconda3\\lib\\site-packages (from qtconsole->jupyter->hyperas) (5.3.4)\n",
      "Requirement already satisfied: ipython>=4.0.0; python_version >= \"3.3\" in c:\\users\\bedir\\anaconda3\\lib\\site-packages (from ipywidgets->jupyter->hyperas) (7.12.0)\n",
      "Requirement already satisfied: widgetsnbextension~=3.5.0 in c:\\users\\bedir\\anaconda3\\lib\\site-packages (from ipywidgets->jupyter->hyperas) (3.5.1)\n",
      "Requirement already satisfied: tornado>=4.2 in c:\\users\\bedir\\anaconda3\\lib\\site-packages (from ipykernel->jupyter->hyperas) (6.0.3)\n",
      "Requirement already satisfied: pyzmq>=17 in c:\\users\\bedir\\anaconda3\\lib\\site-packages (from notebook->jupyter->hyperas) (18.1.1)\n",
      "Requirement already satisfied: terminado>=0.8.1 in c:\\users\\bedir\\anaconda3\\lib\\site-packages (from notebook->jupyter->hyperas) (0.8.3)\n",
      "Requirement already satisfied: prometheus-client in c:\\users\\bedir\\anaconda3\\lib\\site-packages (from notebook->jupyter->hyperas) (0.7.1)\n",
      "Requirement already satisfied: Send2Trash in c:\\users\\bedir\\anaconda3\\lib\\site-packages (from notebook->jupyter->hyperas) (1.5.0)\n",
      "Requirement already satisfied: prompt-toolkit!=3.0.0,!=3.0.1,<3.1.0,>=2.0.0 in c:\\users\\bedir\\anaconda3\\lib\\site-packages (from jupyter-console->jupyter->hyperas) (3.0.3)\n",
      "Requirement already satisfied: importlib-metadata; python_version < \"3.8\" in c:\\users\\bedir\\anaconda3\\lib\\site-packages (from jsonschema!=2.5.0,>=2.4->nbformat->hyperas) (1.7.0)\n",
      "Requirement already satisfied: setuptools in c:\\users\\bedir\\anaconda3\\lib\\site-packages (from jsonschema!=2.5.0,>=2.4->nbformat->hyperas) (45.2.0.post20200210)\n",
      "Requirement already satisfied: pyrsistent>=0.14.0 in c:\\users\\bedir\\anaconda3\\lib\\site-packages (from jsonschema!=2.5.0,>=2.4->nbformat->hyperas) (0.15.7)\n",
      "Requirement already satisfied: attrs>=17.4.0 in c:\\users\\bedir\\anaconda3\\lib\\site-packages (from jsonschema!=2.5.0,>=2.4->nbformat->hyperas) (19.3.0)\n",
      "Requirement already satisfied: python-dateutil>=2.1 in c:\\users\\bedir\\anaconda3\\lib\\site-packages (from jupyter-client>=4.1->qtconsole->jupyter->hyperas) (2.8.1)\n",
      "Requirement already satisfied: backcall in c:\\users\\bedir\\anaconda3\\lib\\site-packages (from ipython>=4.0.0; python_version >= \"3.3\"->ipywidgets->jupyter->hyperas) (0.1.0)\n",
      "Requirement already satisfied: jedi>=0.10 in c:\\users\\bedir\\anaconda3\\lib\\site-packages (from ipython>=4.0.0; python_version >= \"3.3\"->ipywidgets->jupyter->hyperas) (0.14.1)\n",
      "Requirement already satisfied: pickleshare in c:\\users\\bedir\\anaconda3\\lib\\site-packages (from ipython>=4.0.0; python_version >= \"3.3\"->ipywidgets->jupyter->hyperas) (0.7.5)\n",
      "Requirement already satisfied: colorama; sys_platform == \"win32\" in c:\\users\\bedir\\anaconda3\\lib\\site-packages (from ipython>=4.0.0; python_version >= \"3.3\"->ipywidgets->jupyter->hyperas) (0.4.3)\n",
      "Requirement already satisfied: wcwidth in c:\\users\\bedir\\anaconda3\\lib\\site-packages (from prompt-toolkit!=3.0.0,!=3.0.1,<3.1.0,>=2.0.0->jupyter-console->jupyter->hyperas) (0.1.8)\n",
      "Requirement already satisfied: zipp>=0.5 in c:\\users\\bedir\\anaconda3\\lib\\site-packages (from importlib-metadata; python_version < \"3.8\"->jsonschema!=2.5.0,>=2.4->nbformat->hyperas) (2.2.0)\n",
      "Requirement already satisfied: parso>=0.5.0 in c:\\users\\bedir\\anaconda3\\lib\\site-packages (from jedi>=0.10->ipython>=4.0.0; python_version >= \"3.3\"->ipywidgets->jupyter->hyperas) (0.5.2)\n",
      "Requirement already satisfied: hyperopt in c:\\users\\bedir\\anaconda3\\lib\\site-packages (0.2.5)\n",
      "Requirement already satisfied: networkx>=2.2 in c:\\users\\bedir\\anaconda3\\lib\\site-packages (from hyperopt) (2.4)\n",
      "Requirement already satisfied: scipy in c:\\users\\bedir\\anaconda3\\lib\\site-packages (from hyperopt) (1.4.1)\n",
      "Requirement already satisfied: six in c:\\users\\bedir\\anaconda3\\lib\\site-packages (from hyperopt) (1.15.0)\n",
      "Requirement already satisfied: tqdm in c:\\users\\bedir\\anaconda3\\lib\\site-packages (from hyperopt) (4.42.1)\n",
      "Requirement already satisfied: numpy in c:\\users\\bedir\\anaconda3\\lib\\site-packages (from hyperopt) (1.19.5)\n",
      "Requirement already satisfied: cloudpickle in c:\\users\\bedir\\anaconda3\\lib\\site-packages (from hyperopt) (1.3.0)\n",
      "Requirement already satisfied: future in c:\\users\\bedir\\anaconda3\\lib\\site-packages (from hyperopt) (0.18.2)\n",
      "Requirement already satisfied: decorator>=4.3.0 in c:\\users\\bedir\\anaconda3\\lib\\site-packages (from networkx>=2.2->hyperopt) (4.4.1)\n"
     ]
    }
   ],
   "source": [
    "!pip install hyperas\n",
    "!pip install hyperopt"
   ]
  },
  {
   "cell_type": "code",
   "execution_count": 10,
   "metadata": {
    "collapsed": true,
    "jupyter": {
     "outputs_hidden": true
    }
   },
   "outputs": [
    {
     "ename": "AttributeError",
     "evalue": "module '_pywrap_tensorflow_internal' has no attribute 'TF_OK_swigconstant'",
     "output_type": "error",
     "traceback": [
      "\u001b[1;31m---------------------------------------------------------------------------\u001b[0m",
      "\u001b[1;31mAttributeError\u001b[0m                            Traceback (most recent call last)",
      "\u001b[1;32m<ipython-input-10-a95cdad765f0>\u001b[0m in \u001b[0;36m<module>\u001b[1;34m\u001b[0m\n\u001b[1;32m----> 1\u001b[1;33m \u001b[1;32mfrom\u001b[0m \u001b[0mtensorflow\u001b[0m \u001b[1;32mimport\u001b[0m \u001b[0mkeras\u001b[0m\u001b[1;33m\u001b[0m\u001b[1;33m\u001b[0m\u001b[0m\n\u001b[0m",
      "\u001b[1;32m~\\anaconda3\\lib\\site-packages\\tensorflow\\__init__.py\u001b[0m in \u001b[0;36m<module>\u001b[1;34m\u001b[0m\n\u001b[0;32m     38\u001b[0m \u001b[1;32mimport\u001b[0m \u001b[0msys\u001b[0m \u001b[1;32mas\u001b[0m \u001b[0m_sys\u001b[0m\u001b[1;33m\u001b[0m\u001b[1;33m\u001b[0m\u001b[0m\n\u001b[0;32m     39\u001b[0m \u001b[1;33m\u001b[0m\u001b[0m\n\u001b[1;32m---> 40\u001b[1;33m \u001b[1;32mfrom\u001b[0m \u001b[0mtensorflow\u001b[0m\u001b[1;33m.\u001b[0m\u001b[0mpython\u001b[0m\u001b[1;33m.\u001b[0m\u001b[0mtools\u001b[0m \u001b[1;32mimport\u001b[0m \u001b[0mmodule_util\u001b[0m \u001b[1;32mas\u001b[0m \u001b[0m_module_util\u001b[0m\u001b[1;33m\u001b[0m\u001b[1;33m\u001b[0m\u001b[0m\n\u001b[0m\u001b[0;32m     41\u001b[0m \u001b[1;33m\u001b[0m\u001b[0m\n\u001b[0;32m     42\u001b[0m \u001b[1;32mfrom\u001b[0m \u001b[0mtensorflow\u001b[0m\u001b[1;33m.\u001b[0m\u001b[0m_api\u001b[0m\u001b[1;33m.\u001b[0m\u001b[0mv2\u001b[0m \u001b[1;32mimport\u001b[0m \u001b[0maudio\u001b[0m\u001b[1;33m\u001b[0m\u001b[1;33m\u001b[0m\u001b[0m\n",
      "\u001b[1;32m~\\anaconda3\\lib\\site-packages\\tensorflow\\python\\__init__.py\u001b[0m in \u001b[0;36m<module>\u001b[1;34m\u001b[0m\n\u001b[0;32m     38\u001b[0m \u001b[1;31m# pylint: disable=wildcard-import,g-bad-import-order,g-import-not-at-top\u001b[0m\u001b[1;33m\u001b[0m\u001b[1;33m\u001b[0m\u001b[1;33m\u001b[0m\u001b[0m\n\u001b[0;32m     39\u001b[0m \u001b[1;33m\u001b[0m\u001b[0m\n\u001b[1;32m---> 40\u001b[1;33m \u001b[1;32mfrom\u001b[0m \u001b[0mtensorflow\u001b[0m\u001b[1;33m.\u001b[0m\u001b[0mpython\u001b[0m\u001b[1;33m.\u001b[0m\u001b[0meager\u001b[0m \u001b[1;32mimport\u001b[0m \u001b[0mcontext\u001b[0m\u001b[1;33m\u001b[0m\u001b[1;33m\u001b[0m\u001b[0m\n\u001b[0m\u001b[0;32m     41\u001b[0m \u001b[1;32mfrom\u001b[0m \u001b[0mtensorflow\u001b[0m\u001b[1;33m.\u001b[0m\u001b[0mpython\u001b[0m \u001b[1;32mimport\u001b[0m \u001b[0mpywrap_tensorflow\u001b[0m \u001b[1;32mas\u001b[0m \u001b[0m_pywrap_tensorflow\u001b[0m\u001b[1;33m\u001b[0m\u001b[1;33m\u001b[0m\u001b[0m\n\u001b[0;32m     42\u001b[0m \u001b[1;33m\u001b[0m\u001b[0m\n",
      "\u001b[1;32m~\\anaconda3\\lib\\site-packages\\tensorflow\\python\\eager\\context.py\u001b[0m in \u001b[0;36m<module>\u001b[1;34m\u001b[0m\n\u001b[0;32m     33\u001b[0m \u001b[1;32mfrom\u001b[0m \u001b[0mtensorflow\u001b[0m\u001b[1;33m.\u001b[0m\u001b[0mcore\u001b[0m\u001b[1;33m.\u001b[0m\u001b[0mprotobuf\u001b[0m \u001b[1;32mimport\u001b[0m \u001b[0mconfig_pb2\u001b[0m\u001b[1;33m\u001b[0m\u001b[1;33m\u001b[0m\u001b[0m\n\u001b[0;32m     34\u001b[0m \u001b[1;32mfrom\u001b[0m \u001b[0mtensorflow\u001b[0m\u001b[1;33m.\u001b[0m\u001b[0mcore\u001b[0m\u001b[1;33m.\u001b[0m\u001b[0mprotobuf\u001b[0m \u001b[1;32mimport\u001b[0m \u001b[0mrewriter_config_pb2\u001b[0m\u001b[1;33m\u001b[0m\u001b[1;33m\u001b[0m\u001b[0m\n\u001b[1;32m---> 35\u001b[1;33m \u001b[1;32mfrom\u001b[0m \u001b[0mtensorflow\u001b[0m\u001b[1;33m.\u001b[0m\u001b[0mpython\u001b[0m \u001b[1;32mimport\u001b[0m \u001b[0mpywrap_tfe\u001b[0m\u001b[1;33m\u001b[0m\u001b[1;33m\u001b[0m\u001b[0m\n\u001b[0m\u001b[0;32m     36\u001b[0m \u001b[1;32mfrom\u001b[0m \u001b[0mtensorflow\u001b[0m\u001b[1;33m.\u001b[0m\u001b[0mpython\u001b[0m \u001b[1;32mimport\u001b[0m \u001b[0mtf2\u001b[0m\u001b[1;33m\u001b[0m\u001b[1;33m\u001b[0m\u001b[0m\n\u001b[0;32m     37\u001b[0m \u001b[1;32mfrom\u001b[0m \u001b[0mtensorflow\u001b[0m\u001b[1;33m.\u001b[0m\u001b[0mpython\u001b[0m\u001b[1;33m.\u001b[0m\u001b[0mclient\u001b[0m \u001b[1;32mimport\u001b[0m \u001b[0mpywrap_tf_session\u001b[0m\u001b[1;33m\u001b[0m\u001b[1;33m\u001b[0m\u001b[0m\n",
      "\u001b[1;32m~\\anaconda3\\lib\\site-packages\\tensorflow\\python\\pywrap_tfe.py\u001b[0m in \u001b[0;36m<module>\u001b[1;34m\u001b[0m\n\u001b[0;32m     26\u001b[0m \u001b[1;33m\u001b[0m\u001b[0m\n\u001b[0;32m     27\u001b[0m \u001b[1;31m# pylint: disable=invalid-import-order,g-bad-import-order, wildcard-import, unused-import\u001b[0m\u001b[1;33m\u001b[0m\u001b[1;33m\u001b[0m\u001b[1;33m\u001b[0m\u001b[0m\n\u001b[1;32m---> 28\u001b[1;33m \u001b[1;32mfrom\u001b[0m \u001b[0mtensorflow\u001b[0m\u001b[1;33m.\u001b[0m\u001b[0mpython\u001b[0m \u001b[1;32mimport\u001b[0m \u001b[0mpywrap_tensorflow\u001b[0m\u001b[1;33m\u001b[0m\u001b[1;33m\u001b[0m\u001b[0m\n\u001b[0m\u001b[0;32m     29\u001b[0m \u001b[1;32mfrom\u001b[0m \u001b[0mtensorflow\u001b[0m\u001b[1;33m.\u001b[0m\u001b[0mpython\u001b[0m\u001b[1;33m.\u001b[0m\u001b[0m_pywrap_tfe\u001b[0m \u001b[1;32mimport\u001b[0m \u001b[1;33m*\u001b[0m\u001b[1;33m\u001b[0m\u001b[1;33m\u001b[0m\u001b[0m\n",
      "\u001b[1;32m~\\anaconda3\\lib\\site-packages\\tensorflow\\python\\pywrap_tensorflow.py\u001b[0m in \u001b[0;36m<module>\u001b[1;34m\u001b[0m\n\u001b[0;32m     56\u001b[0m     \u001b[0msys\u001b[0m\u001b[1;33m.\u001b[0m\u001b[0msetdlopenflags\u001b[0m\u001b[1;33m(\u001b[0m\u001b[0m_default_dlopen_flags\u001b[0m \u001b[1;33m|\u001b[0m \u001b[0mctypes\u001b[0m\u001b[1;33m.\u001b[0m\u001b[0mRTLD_LOCAL\u001b[0m\u001b[1;33m)\u001b[0m\u001b[1;33m\u001b[0m\u001b[1;33m\u001b[0m\u001b[0m\n\u001b[0;32m     57\u001b[0m \u001b[1;33m\u001b[0m\u001b[0m\n\u001b[1;32m---> 58\u001b[1;33m   \u001b[1;32mfrom\u001b[0m \u001b[0mtensorflow\u001b[0m\u001b[1;33m.\u001b[0m\u001b[0mpython\u001b[0m\u001b[1;33m.\u001b[0m\u001b[0mpywrap_tensorflow_internal\u001b[0m \u001b[1;32mimport\u001b[0m \u001b[1;33m*\u001b[0m\u001b[1;33m\u001b[0m\u001b[1;33m\u001b[0m\u001b[0m\n\u001b[0m\u001b[0;32m     59\u001b[0m   \u001b[1;32mfrom\u001b[0m \u001b[0mtensorflow\u001b[0m\u001b[1;33m.\u001b[0m\u001b[0mpython\u001b[0m\u001b[1;33m.\u001b[0m\u001b[0mpywrap_tensorflow_internal\u001b[0m \u001b[1;32mimport\u001b[0m \u001b[0m__version__\u001b[0m\u001b[1;33m\u001b[0m\u001b[1;33m\u001b[0m\u001b[0m\n\u001b[0;32m     60\u001b[0m   \u001b[1;32mfrom\u001b[0m \u001b[0mtensorflow\u001b[0m\u001b[1;33m.\u001b[0m\u001b[0mpython\u001b[0m\u001b[1;33m.\u001b[0m\u001b[0mpywrap_tensorflow_internal\u001b[0m \u001b[1;32mimport\u001b[0m \u001b[0m__git_version__\u001b[0m\u001b[1;33m\u001b[0m\u001b[1;33m\u001b[0m\u001b[0m\n",
      "\u001b[1;32m~\\anaconda3\\lib\\site-packages\\tensorflow\\python\\pywrap_tensorflow_internal.py\u001b[0m in \u001b[0;36m<module>\u001b[1;34m\u001b[0m\n\u001b[0;32m     92\u001b[0m \u001b[1;33m\u001b[0m\u001b[0m\n\u001b[0;32m     93\u001b[0m \u001b[1;33m\u001b[0m\u001b[0m\n\u001b[1;32m---> 94\u001b[1;33m \u001b[0m_pywrap_tensorflow_internal\u001b[0m\u001b[1;33m.\u001b[0m\u001b[0mTF_OK_swigconstant\u001b[0m\u001b[1;33m(\u001b[0m\u001b[0m_pywrap_tensorflow_internal\u001b[0m\u001b[1;33m)\u001b[0m\u001b[1;33m\u001b[0m\u001b[1;33m\u001b[0m\u001b[0m\n\u001b[0m\u001b[0;32m     95\u001b[0m \u001b[0mTF_OK\u001b[0m \u001b[1;33m=\u001b[0m \u001b[0m_pywrap_tensorflow_internal\u001b[0m\u001b[1;33m.\u001b[0m\u001b[0mTF_OK\u001b[0m\u001b[1;33m\u001b[0m\u001b[1;33m\u001b[0m\u001b[0m\n\u001b[0;32m     96\u001b[0m \u001b[1;33m\u001b[0m\u001b[0m\n",
      "\u001b[1;31mAttributeError\u001b[0m: module '_pywrap_tensorflow_internal' has no attribute 'TF_OK_swigconstant'"
     ]
    }
   ],
   "source": [
    "from tensorflow import keras"
   ]
  },
  {
   "cell_type": "code",
   "execution_count": 13,
   "metadata": {},
   "outputs": [
    {
     "ename": "AttributeError",
     "evalue": "module '_pywrap_tensorflow_internal' has no attribute 'TF_OK_swigconstant'",
     "output_type": "error",
     "traceback": [
      "\u001b[1;31m---------------------------------------------------------------------------\u001b[0m",
      "\u001b[1;31mAttributeError\u001b[0m                            Traceback (most recent call last)",
      "\u001b[1;32m<ipython-input-13-64156d691fe5>\u001b[0m in \u001b[0;36m<module>\u001b[1;34m\u001b[0m\n\u001b[1;32m----> 1\u001b[1;33m \u001b[1;32mimport\u001b[0m \u001b[0mtensorflow\u001b[0m \u001b[1;32mas\u001b[0m \u001b[0mtf\u001b[0m\u001b[1;33m\u001b[0m\u001b[1;33m\u001b[0m\u001b[0m\n\u001b[0m",
      "\u001b[1;32m~\\anaconda3\\lib\\site-packages\\tensorflow\\__init__.py\u001b[0m in \u001b[0;36m<module>\u001b[1;34m\u001b[0m\n\u001b[0;32m     38\u001b[0m \u001b[1;32mimport\u001b[0m \u001b[0msys\u001b[0m \u001b[1;32mas\u001b[0m \u001b[0m_sys\u001b[0m\u001b[1;33m\u001b[0m\u001b[1;33m\u001b[0m\u001b[0m\n\u001b[0;32m     39\u001b[0m \u001b[1;33m\u001b[0m\u001b[0m\n\u001b[1;32m---> 40\u001b[1;33m \u001b[1;32mfrom\u001b[0m \u001b[0mtensorflow\u001b[0m\u001b[1;33m.\u001b[0m\u001b[0mpython\u001b[0m\u001b[1;33m.\u001b[0m\u001b[0mtools\u001b[0m \u001b[1;32mimport\u001b[0m \u001b[0mmodule_util\u001b[0m \u001b[1;32mas\u001b[0m \u001b[0m_module_util\u001b[0m\u001b[1;33m\u001b[0m\u001b[1;33m\u001b[0m\u001b[0m\n\u001b[0m\u001b[0;32m     41\u001b[0m \u001b[1;33m\u001b[0m\u001b[0m\n\u001b[0;32m     42\u001b[0m \u001b[1;32mfrom\u001b[0m \u001b[0mtensorflow\u001b[0m\u001b[1;33m.\u001b[0m\u001b[0m_api\u001b[0m\u001b[1;33m.\u001b[0m\u001b[0mv2\u001b[0m \u001b[1;32mimport\u001b[0m \u001b[0maudio\u001b[0m\u001b[1;33m\u001b[0m\u001b[1;33m\u001b[0m\u001b[0m\n",
      "\u001b[1;32m~\\anaconda3\\lib\\site-packages\\tensorflow\\python\\__init__.py\u001b[0m in \u001b[0;36m<module>\u001b[1;34m\u001b[0m\n\u001b[0;32m     38\u001b[0m \u001b[1;31m# pylint: disable=wildcard-import,g-bad-import-order,g-import-not-at-top\u001b[0m\u001b[1;33m\u001b[0m\u001b[1;33m\u001b[0m\u001b[1;33m\u001b[0m\u001b[0m\n\u001b[0;32m     39\u001b[0m \u001b[1;33m\u001b[0m\u001b[0m\n\u001b[1;32m---> 40\u001b[1;33m \u001b[1;32mfrom\u001b[0m \u001b[0mtensorflow\u001b[0m\u001b[1;33m.\u001b[0m\u001b[0mpython\u001b[0m\u001b[1;33m.\u001b[0m\u001b[0meager\u001b[0m \u001b[1;32mimport\u001b[0m \u001b[0mcontext\u001b[0m\u001b[1;33m\u001b[0m\u001b[1;33m\u001b[0m\u001b[0m\n\u001b[0m\u001b[0;32m     41\u001b[0m \u001b[1;32mfrom\u001b[0m \u001b[0mtensorflow\u001b[0m\u001b[1;33m.\u001b[0m\u001b[0mpython\u001b[0m \u001b[1;32mimport\u001b[0m \u001b[0mpywrap_tensorflow\u001b[0m \u001b[1;32mas\u001b[0m \u001b[0m_pywrap_tensorflow\u001b[0m\u001b[1;33m\u001b[0m\u001b[1;33m\u001b[0m\u001b[0m\n\u001b[0;32m     42\u001b[0m \u001b[1;33m\u001b[0m\u001b[0m\n",
      "\u001b[1;32m~\\anaconda3\\lib\\site-packages\\tensorflow\\python\\eager\\context.py\u001b[0m in \u001b[0;36m<module>\u001b[1;34m\u001b[0m\n\u001b[0;32m     33\u001b[0m \u001b[1;32mfrom\u001b[0m \u001b[0mtensorflow\u001b[0m\u001b[1;33m.\u001b[0m\u001b[0mcore\u001b[0m\u001b[1;33m.\u001b[0m\u001b[0mprotobuf\u001b[0m \u001b[1;32mimport\u001b[0m \u001b[0mconfig_pb2\u001b[0m\u001b[1;33m\u001b[0m\u001b[1;33m\u001b[0m\u001b[0m\n\u001b[0;32m     34\u001b[0m \u001b[1;32mfrom\u001b[0m \u001b[0mtensorflow\u001b[0m\u001b[1;33m.\u001b[0m\u001b[0mcore\u001b[0m\u001b[1;33m.\u001b[0m\u001b[0mprotobuf\u001b[0m \u001b[1;32mimport\u001b[0m \u001b[0mrewriter_config_pb2\u001b[0m\u001b[1;33m\u001b[0m\u001b[1;33m\u001b[0m\u001b[0m\n\u001b[1;32m---> 35\u001b[1;33m \u001b[1;32mfrom\u001b[0m \u001b[0mtensorflow\u001b[0m\u001b[1;33m.\u001b[0m\u001b[0mpython\u001b[0m \u001b[1;32mimport\u001b[0m \u001b[0mpywrap_tfe\u001b[0m\u001b[1;33m\u001b[0m\u001b[1;33m\u001b[0m\u001b[0m\n\u001b[0m\u001b[0;32m     36\u001b[0m \u001b[1;32mfrom\u001b[0m \u001b[0mtensorflow\u001b[0m\u001b[1;33m.\u001b[0m\u001b[0mpython\u001b[0m \u001b[1;32mimport\u001b[0m \u001b[0mtf2\u001b[0m\u001b[1;33m\u001b[0m\u001b[1;33m\u001b[0m\u001b[0m\n\u001b[0;32m     37\u001b[0m \u001b[1;32mfrom\u001b[0m \u001b[0mtensorflow\u001b[0m\u001b[1;33m.\u001b[0m\u001b[0mpython\u001b[0m\u001b[1;33m.\u001b[0m\u001b[0mclient\u001b[0m \u001b[1;32mimport\u001b[0m \u001b[0mpywrap_tf_session\u001b[0m\u001b[1;33m\u001b[0m\u001b[1;33m\u001b[0m\u001b[0m\n",
      "\u001b[1;32m~\\anaconda3\\lib\\site-packages\\tensorflow\\python\\pywrap_tfe.py\u001b[0m in \u001b[0;36m<module>\u001b[1;34m\u001b[0m\n\u001b[0;32m     26\u001b[0m \u001b[1;33m\u001b[0m\u001b[0m\n\u001b[0;32m     27\u001b[0m \u001b[1;31m# pylint: disable=invalid-import-order,g-bad-import-order, wildcard-import, unused-import\u001b[0m\u001b[1;33m\u001b[0m\u001b[1;33m\u001b[0m\u001b[1;33m\u001b[0m\u001b[0m\n\u001b[1;32m---> 28\u001b[1;33m \u001b[1;32mfrom\u001b[0m \u001b[0mtensorflow\u001b[0m\u001b[1;33m.\u001b[0m\u001b[0mpython\u001b[0m \u001b[1;32mimport\u001b[0m \u001b[0mpywrap_tensorflow\u001b[0m\u001b[1;33m\u001b[0m\u001b[1;33m\u001b[0m\u001b[0m\n\u001b[0m\u001b[0;32m     29\u001b[0m \u001b[1;32mfrom\u001b[0m \u001b[0mtensorflow\u001b[0m\u001b[1;33m.\u001b[0m\u001b[0mpython\u001b[0m\u001b[1;33m.\u001b[0m\u001b[0m_pywrap_tfe\u001b[0m \u001b[1;32mimport\u001b[0m \u001b[1;33m*\u001b[0m\u001b[1;33m\u001b[0m\u001b[1;33m\u001b[0m\u001b[0m\n",
      "\u001b[1;32m~\\anaconda3\\lib\\site-packages\\tensorflow\\python\\pywrap_tensorflow.py\u001b[0m in \u001b[0;36m<module>\u001b[1;34m\u001b[0m\n\u001b[0;32m     56\u001b[0m     \u001b[0msys\u001b[0m\u001b[1;33m.\u001b[0m\u001b[0msetdlopenflags\u001b[0m\u001b[1;33m(\u001b[0m\u001b[0m_default_dlopen_flags\u001b[0m \u001b[1;33m|\u001b[0m \u001b[0mctypes\u001b[0m\u001b[1;33m.\u001b[0m\u001b[0mRTLD_LOCAL\u001b[0m\u001b[1;33m)\u001b[0m\u001b[1;33m\u001b[0m\u001b[1;33m\u001b[0m\u001b[0m\n\u001b[0;32m     57\u001b[0m \u001b[1;33m\u001b[0m\u001b[0m\n\u001b[1;32m---> 58\u001b[1;33m   \u001b[1;32mfrom\u001b[0m \u001b[0mtensorflow\u001b[0m\u001b[1;33m.\u001b[0m\u001b[0mpython\u001b[0m\u001b[1;33m.\u001b[0m\u001b[0mpywrap_tensorflow_internal\u001b[0m \u001b[1;32mimport\u001b[0m \u001b[1;33m*\u001b[0m\u001b[1;33m\u001b[0m\u001b[1;33m\u001b[0m\u001b[0m\n\u001b[0m\u001b[0;32m     59\u001b[0m   \u001b[1;32mfrom\u001b[0m \u001b[0mtensorflow\u001b[0m\u001b[1;33m.\u001b[0m\u001b[0mpython\u001b[0m\u001b[1;33m.\u001b[0m\u001b[0mpywrap_tensorflow_internal\u001b[0m \u001b[1;32mimport\u001b[0m \u001b[0m__version__\u001b[0m\u001b[1;33m\u001b[0m\u001b[1;33m\u001b[0m\u001b[0m\n\u001b[0;32m     60\u001b[0m   \u001b[1;32mfrom\u001b[0m \u001b[0mtensorflow\u001b[0m\u001b[1;33m.\u001b[0m\u001b[0mpython\u001b[0m\u001b[1;33m.\u001b[0m\u001b[0mpywrap_tensorflow_internal\u001b[0m \u001b[1;32mimport\u001b[0m \u001b[0m__git_version__\u001b[0m\u001b[1;33m\u001b[0m\u001b[1;33m\u001b[0m\u001b[0m\n",
      "\u001b[1;32m~\\anaconda3\\lib\\site-packages\\tensorflow\\python\\pywrap_tensorflow_internal.py\u001b[0m in \u001b[0;36m<module>\u001b[1;34m\u001b[0m\n\u001b[0;32m     92\u001b[0m \u001b[1;33m\u001b[0m\u001b[0m\n\u001b[0;32m     93\u001b[0m \u001b[1;33m\u001b[0m\u001b[0m\n\u001b[1;32m---> 94\u001b[1;33m \u001b[0m_pywrap_tensorflow_internal\u001b[0m\u001b[1;33m.\u001b[0m\u001b[0mTF_OK_swigconstant\u001b[0m\u001b[1;33m(\u001b[0m\u001b[0m_pywrap_tensorflow_internal\u001b[0m\u001b[1;33m)\u001b[0m\u001b[1;33m\u001b[0m\u001b[1;33m\u001b[0m\u001b[0m\n\u001b[0m\u001b[0;32m     95\u001b[0m \u001b[0mTF_OK\u001b[0m \u001b[1;33m=\u001b[0m \u001b[0m_pywrap_tensorflow_internal\u001b[0m\u001b[1;33m.\u001b[0m\u001b[0mTF_OK\u001b[0m\u001b[1;33m\u001b[0m\u001b[1;33m\u001b[0m\u001b[0m\n\u001b[0;32m     96\u001b[0m \u001b[1;33m\u001b[0m\u001b[0m\n",
      "\u001b[1;31mAttributeError\u001b[0m: module '_pywrap_tensorflow_internal' has no attribute 'TF_OK_swigconstant'"
     ]
    }
   ],
   "source": [
    "import tensorflow as tf"
   ]
  },
  {
   "cell_type": "code",
   "execution_count": 12,
   "metadata": {},
   "outputs": [],
   "source": [
    "import pandas as pd \n",
    "import numpy as np \n",
    "import matplotlib.pyplot as plt\n",
    "import warnings\n",
    "warnings.filterwarnings(\"ignore\")\n",
    "from sklearn.model_selection import train_test_split\n",
    "from sklearn.preprocessing import StandardScaler\n",
    "import tensorflow as tf\n",
    "import datetime\n",
    "from tensorflow import keras\n",
    "from sklearn.metrics import confusion_matrix\n",
    "from sklearn.metrics import precision_score, recall_score, f1_score"
   ]
  },
  {
   "cell_type": "code",
   "execution_count": null,
   "metadata": {},
   "outputs": [],
   "source": [
    "pip uninstall hyperas"
   ]
  },
  {
   "cell_type": "code",
   "execution_count": 83,
   "metadata": {},
   "outputs": [
    {
     "name": "stderr",
     "output_type": "stream",
     "text": [
      "Using TensorFlow backend.\n"
     ]
    },
    {
     "ename": "ImportError",
     "evalue": "cannot import name 'transpose_shape' from 'keras.utils.generic_utils' (C:\\Users\\bedir\\anaconda3\\lib\\site-packages\\keras\\utils\\generic_utils.py)",
     "output_type": "error",
     "traceback": [
      "\u001b[1;31m---------------------------------------------------------------------------\u001b[0m",
      "\u001b[1;31mImportError\u001b[0m                               Traceback (most recent call last)",
      "\u001b[1;32m<ipython-input-83-c5b806e9e1d8>\u001b[0m in \u001b[0;36m<module>\u001b[1;34m\u001b[0m\n\u001b[1;32m----> 1\u001b[1;33m \u001b[1;32mfrom\u001b[0m \u001b[0mhyperas\u001b[0m \u001b[1;32mimport\u001b[0m \u001b[0moptim\u001b[0m\u001b[1;33m\u001b[0m\u001b[1;33m\u001b[0m\u001b[0m\n\u001b[0m",
      "\u001b[1;32m~\\anaconda3\\lib\\site-packages\\hyperas\\optim.py\u001b[0m in \u001b[0;36m<module>\u001b[1;34m\u001b[0m\n\u001b[0;32m      9\u001b[0m \u001b[1;32mfrom\u001b[0m \u001b[0mnbconvert\u001b[0m \u001b[1;32mimport\u001b[0m \u001b[0mPythonExporter\u001b[0m\u001b[1;33m\u001b[0m\u001b[1;33m\u001b[0m\u001b[0m\n\u001b[0;32m     10\u001b[0m \u001b[1;33m\u001b[0m\u001b[0m\n\u001b[1;32m---> 11\u001b[1;33m \u001b[1;32mfrom\u001b[0m \u001b[1;33m.\u001b[0m\u001b[0mensemble\u001b[0m \u001b[1;32mimport\u001b[0m \u001b[0mVotingModel\u001b[0m\u001b[1;33m\u001b[0m\u001b[1;33m\u001b[0m\u001b[0m\n\u001b[0m\u001b[0;32m     12\u001b[0m from .utils import (\n\u001b[0;32m     13\u001b[0m     \u001b[0mremove_imports\u001b[0m\u001b[1;33m,\u001b[0m \u001b[0mremove_all_comments\u001b[0m\u001b[1;33m,\u001b[0m \u001b[0mextract_imports\u001b[0m\u001b[1;33m,\u001b[0m \u001b[0mtemp_string\u001b[0m\u001b[1;33m,\u001b[0m\u001b[1;33m\u001b[0m\u001b[1;33m\u001b[0m\u001b[0m\n",
      "\u001b[1;32m~\\anaconda3\\lib\\site-packages\\hyperas\\ensemble.py\u001b[0m in \u001b[0;36m<module>\u001b[1;34m\u001b[0m\n\u001b[0;32m      1\u001b[0m \u001b[1;32mimport\u001b[0m \u001b[0mnumpy\u001b[0m \u001b[1;32mas\u001b[0m \u001b[0mnp\u001b[0m\u001b[1;33m\u001b[0m\u001b[1;33m\u001b[0m\u001b[0m\n\u001b[1;32m----> 2\u001b[1;33m \u001b[1;32mfrom\u001b[0m \u001b[0mkeras\u001b[0m\u001b[1;33m.\u001b[0m\u001b[0mmodels\u001b[0m \u001b[1;32mimport\u001b[0m \u001b[0mmodel_from_yaml\u001b[0m\u001b[1;33m\u001b[0m\u001b[1;33m\u001b[0m\u001b[0m\n\u001b[0m\u001b[0;32m      3\u001b[0m \u001b[1;33m\u001b[0m\u001b[0m\n\u001b[0;32m      4\u001b[0m \u001b[1;33m\u001b[0m\u001b[0m\n\u001b[0;32m      5\u001b[0m \u001b[1;32mclass\u001b[0m \u001b[0mVotingModel\u001b[0m\u001b[1;33m(\u001b[0m\u001b[0mobject\u001b[0m\u001b[1;33m)\u001b[0m\u001b[1;33m:\u001b[0m\u001b[1;33m\u001b[0m\u001b[1;33m\u001b[0m\u001b[0m\n",
      "\u001b[1;32m~\\anaconda3\\lib\\site-packages\\keras\\__init__.py\u001b[0m in \u001b[0;36m<module>\u001b[1;34m\u001b[0m\n\u001b[0;32m     23\u001b[0m \u001b[1;33m\u001b[0m\u001b[0m\n\u001b[0;32m     24\u001b[0m \u001b[1;31m# See b/110718070#comment18 for more details about this import.\u001b[0m\u001b[1;33m\u001b[0m\u001b[1;33m\u001b[0m\u001b[1;33m\u001b[0m\u001b[0m\n\u001b[1;32m---> 25\u001b[1;33m \u001b[1;32mfrom\u001b[0m \u001b[0mkeras\u001b[0m \u001b[1;32mimport\u001b[0m \u001b[0mmodels\u001b[0m\u001b[1;33m\u001b[0m\u001b[1;33m\u001b[0m\u001b[0m\n\u001b[0m\u001b[0;32m     26\u001b[0m \u001b[1;33m\u001b[0m\u001b[0m\n\u001b[0;32m     27\u001b[0m \u001b[1;32mfrom\u001b[0m \u001b[0mkeras\u001b[0m\u001b[1;33m.\u001b[0m\u001b[0mengine\u001b[0m\u001b[1;33m.\u001b[0m\u001b[0minput_layer\u001b[0m \u001b[1;32mimport\u001b[0m \u001b[0mInput\u001b[0m\u001b[1;33m\u001b[0m\u001b[1;33m\u001b[0m\u001b[0m\n",
      "\u001b[1;32m~\\anaconda3\\lib\\site-packages\\keras\\models.py\u001b[0m in \u001b[0;36m<module>\u001b[1;34m\u001b[0m\n\u001b[0;32m     17\u001b[0m \u001b[1;33m\u001b[0m\u001b[0m\n\u001b[0;32m     18\u001b[0m \u001b[1;32mimport\u001b[0m \u001b[0mtensorflow\u001b[0m\u001b[1;33m.\u001b[0m\u001b[0mcompat\u001b[0m\u001b[1;33m.\u001b[0m\u001b[0mv2\u001b[0m \u001b[1;32mas\u001b[0m \u001b[0mtf\u001b[0m\u001b[1;33m\u001b[0m\u001b[1;33m\u001b[0m\u001b[0m\n\u001b[1;32m---> 19\u001b[1;33m \u001b[1;32mfrom\u001b[0m \u001b[0mkeras\u001b[0m \u001b[1;32mimport\u001b[0m \u001b[0mbackend\u001b[0m\u001b[1;33m\u001b[0m\u001b[1;33m\u001b[0m\u001b[0m\n\u001b[0m\u001b[0;32m     20\u001b[0m \u001b[1;32mfrom\u001b[0m \u001b[0mkeras\u001b[0m \u001b[1;32mimport\u001b[0m \u001b[0mmetrics\u001b[0m \u001b[1;32mas\u001b[0m \u001b[0mmetrics_module\u001b[0m\u001b[1;33m\u001b[0m\u001b[1;33m\u001b[0m\u001b[0m\n\u001b[0;32m     21\u001b[0m \u001b[1;32mfrom\u001b[0m \u001b[0mkeras\u001b[0m \u001b[1;32mimport\u001b[0m \u001b[0moptimizer_v1\u001b[0m\u001b[1;33m\u001b[0m\u001b[1;33m\u001b[0m\u001b[0m\n",
      "\u001b[1;32m~\\anaconda3\\lib\\site-packages\\keras\\backend\\__init__.py\u001b[0m in \u001b[0;36m<module>\u001b[1;34m\u001b[0m\n\u001b[1;32m----> 1\u001b[1;33m \u001b[1;32mfrom\u001b[0m \u001b[1;33m.\u001b[0m\u001b[0mload_backend\u001b[0m \u001b[1;32mimport\u001b[0m \u001b[0mepsilon\u001b[0m\u001b[1;33m\u001b[0m\u001b[1;33m\u001b[0m\u001b[0m\n\u001b[0m\u001b[0;32m      2\u001b[0m \u001b[1;32mfrom\u001b[0m \u001b[1;33m.\u001b[0m\u001b[0mload_backend\u001b[0m \u001b[1;32mimport\u001b[0m \u001b[0mset_epsilon\u001b[0m\u001b[1;33m\u001b[0m\u001b[1;33m\u001b[0m\u001b[0m\n\u001b[0;32m      3\u001b[0m \u001b[1;32mfrom\u001b[0m \u001b[1;33m.\u001b[0m\u001b[0mload_backend\u001b[0m \u001b[1;32mimport\u001b[0m \u001b[0mfloatx\u001b[0m\u001b[1;33m\u001b[0m\u001b[1;33m\u001b[0m\u001b[0m\n\u001b[0;32m      4\u001b[0m \u001b[1;32mfrom\u001b[0m \u001b[1;33m.\u001b[0m\u001b[0mload_backend\u001b[0m \u001b[1;32mimport\u001b[0m \u001b[0mset_floatx\u001b[0m\u001b[1;33m\u001b[0m\u001b[1;33m\u001b[0m\u001b[0m\n\u001b[0;32m      5\u001b[0m \u001b[1;32mfrom\u001b[0m \u001b[1;33m.\u001b[0m\u001b[0mload_backend\u001b[0m \u001b[1;32mimport\u001b[0m \u001b[0mcast_to_floatx\u001b[0m\u001b[1;33m\u001b[0m\u001b[1;33m\u001b[0m\u001b[0m\n",
      "\u001b[1;32m~\\anaconda3\\lib\\site-packages\\keras\\backend\\load_backend.py\u001b[0m in \u001b[0;36m<module>\u001b[1;34m\u001b[0m\n\u001b[0;32m     88\u001b[0m \u001b[1;32melif\u001b[0m \u001b[0m_BACKEND\u001b[0m \u001b[1;33m==\u001b[0m \u001b[1;34m'tensorflow'\u001b[0m\u001b[1;33m:\u001b[0m\u001b[1;33m\u001b[0m\u001b[1;33m\u001b[0m\u001b[0m\n\u001b[0;32m     89\u001b[0m     \u001b[0msys\u001b[0m\u001b[1;33m.\u001b[0m\u001b[0mstderr\u001b[0m\u001b[1;33m.\u001b[0m\u001b[0mwrite\u001b[0m\u001b[1;33m(\u001b[0m\u001b[1;34m'Using TensorFlow backend.\\n'\u001b[0m\u001b[1;33m)\u001b[0m\u001b[1;33m\u001b[0m\u001b[1;33m\u001b[0m\u001b[0m\n\u001b[1;32m---> 90\u001b[1;33m     \u001b[1;32mfrom\u001b[0m \u001b[1;33m.\u001b[0m\u001b[0mtensorflow_backend\u001b[0m \u001b[1;32mimport\u001b[0m \u001b[1;33m*\u001b[0m\u001b[1;33m\u001b[0m\u001b[1;33m\u001b[0m\u001b[0m\n\u001b[0m\u001b[0;32m     91\u001b[0m \u001b[1;32melse\u001b[0m\u001b[1;33m:\u001b[0m\u001b[1;33m\u001b[0m\u001b[1;33m\u001b[0m\u001b[0m\n\u001b[0;32m     92\u001b[0m     \u001b[1;31m# Try and load external backend.\u001b[0m\u001b[1;33m\u001b[0m\u001b[1;33m\u001b[0m\u001b[1;33m\u001b[0m\u001b[0m\n",
      "\u001b[1;32m~\\anaconda3\\lib\\site-packages\\keras\\backend\\tensorflow_backend.py\u001b[0m in \u001b[0;36m<module>\u001b[1;34m\u001b[0m\n\u001b[0;32m     23\u001b[0m \u001b[1;32mfrom\u001b[0m \u001b[0mdistutils\u001b[0m\u001b[1;33m.\u001b[0m\u001b[0mversion\u001b[0m \u001b[1;32mimport\u001b[0m \u001b[0mStrictVersion\u001b[0m\u001b[1;33m\u001b[0m\u001b[1;33m\u001b[0m\u001b[0m\n\u001b[0;32m     24\u001b[0m \u001b[1;33m\u001b[0m\u001b[0m\n\u001b[1;32m---> 25\u001b[1;33m \u001b[1;32mfrom\u001b[0m \u001b[1;33m.\u001b[0m\u001b[1;33m.\u001b[0m\u001b[0mutils\u001b[0m\u001b[1;33m.\u001b[0m\u001b[0mgeneric_utils\u001b[0m \u001b[1;32mimport\u001b[0m \u001b[0mtranspose_shape\u001b[0m\u001b[1;33m\u001b[0m\u001b[1;33m\u001b[0m\u001b[0m\n\u001b[0m\u001b[0;32m     26\u001b[0m \u001b[1;33m\u001b[0m\u001b[0m\n\u001b[0;32m     27\u001b[0m \u001b[0mpy_all\u001b[0m \u001b[1;33m=\u001b[0m \u001b[0mall\u001b[0m\u001b[1;33m\u001b[0m\u001b[1;33m\u001b[0m\u001b[0m\n",
      "\u001b[1;31mImportError\u001b[0m: cannot import name 'transpose_shape' from 'keras.utils.generic_utils' (C:\\Users\\bedir\\anaconda3\\lib\\site-packages\\keras\\utils\\generic_utils.py)"
     ]
    }
   ],
   "source": [
    "from hyperas import optim"
   ]
  },
  {
   "cell_type": "code",
   "execution_count": 17,
   "metadata": {},
   "outputs": [],
   "source": [
    "%%capture\n",
    "# install tensorflow 2.0 beta\n",
    "!pip install -q tensorflow-gpu==2.0.0-beta0\n",
    "\n",
    "# install GapCV\n",
    "!pip install -q gapcv\n",
    "\n",
    "# install hyperas\n",
    "!pip install -q hyperas"
   ]
  },
  {
   "cell_type": "code",
   "execution_count": 44,
   "metadata": {},
   "outputs": [],
   "source": [
    "import tensorflow.keras.utils"
   ]
  },
  {
   "cell_type": "code",
   "execution_count": 48,
   "metadata": {},
   "outputs": [],
   "source": [
    "from tensorflow.keras.layers import Dense"
   ]
  },
  {
   "cell_type": "code",
   "execution_count": 54,
   "metadata": {},
   "outputs": [],
   "source": [
    "from __future__ import print_function\n",
    "\n",
    "from hyperopt import Trials, STATUS_OK, tpe\n",
    "from tensorflow.keras.layers import Dense, Dropout, Activation\n",
    "from tensorflow.keras.models import Sequential\n",
    "from keras.utils import np_utils\n"
   ]
  },
  {
   "cell_type": "code",
   "execution_count": 56,
   "metadata": {},
   "outputs": [
    {
     "ename": "ModuleNotFoundError",
     "evalue": "No module named 'tensorflow.hyperas'",
     "output_type": "error",
     "traceback": [
      "\u001b[1;31m---------------------------------------------------------------------------\u001b[0m",
      "\u001b[1;31mModuleNotFoundError\u001b[0m                       Traceback (most recent call last)",
      "\u001b[1;32m<ipython-input-56-621d382dd5fd>\u001b[0m in \u001b[0;36m<module>\u001b[1;34m\u001b[0m\n\u001b[0;32m      1\u001b[0m \u001b[1;32mfrom\u001b[0m \u001b[0mhyperas\u001b[0m\u001b[1;33m.\u001b[0m\u001b[0mdistributions\u001b[0m \u001b[1;32mimport\u001b[0m \u001b[0muniform\u001b[0m\u001b[1;33m\u001b[0m\u001b[1;33m\u001b[0m\u001b[0m\n\u001b[1;32m----> 2\u001b[1;33m \u001b[1;32mfrom\u001b[0m \u001b[0mtensorflow\u001b[0m\u001b[1;33m.\u001b[0m\u001b[0mhyperas\u001b[0m \u001b[1;32mimport\u001b[0m \u001b[0muniform\u001b[0m\u001b[1;33m\u001b[0m\u001b[1;33m\u001b[0m\u001b[0m\n\u001b[0m",
      "\u001b[1;31mModuleNotFoundError\u001b[0m: No module named 'tensorflow.hyperas'"
     ]
    }
   ],
   "source": [
    "from hyperas.distributions import uniform\n",
    "from tensorflow.hyperas import uniform"
   ]
  },
  {
   "cell_type": "code",
   "execution_count": 10,
   "metadata": {},
   "outputs": [
    {
     "name": "stderr",
     "output_type": "stream",
     "text": [
      "Using TensorFlow backend.\n"
     ]
    },
    {
     "ename": "ImportError",
     "evalue": "cannot import name 'transpose_shape' from 'keras.utils.generic_utils' (C:\\Users\\bedir\\anaconda3\\lib\\site-packages\\keras\\utils\\generic_utils.py)",
     "output_type": "error",
     "traceback": [
      "\u001b[1;31m---------------------------------------------------------------------------\u001b[0m",
      "\u001b[1;31mImportError\u001b[0m                               Traceback (most recent call last)",
      "\u001b[1;32m<ipython-input-10-d3595641c52a>\u001b[0m in \u001b[0;36m<module>\u001b[1;34m\u001b[0m\n\u001b[0;32m      3\u001b[0m \u001b[1;33m\u001b[0m\u001b[0m\n\u001b[0;32m      4\u001b[0m \u001b[1;32mfrom\u001b[0m \u001b[0mhyperopt\u001b[0m \u001b[1;32mimport\u001b[0m \u001b[0mTrials\u001b[0m\u001b[1;33m,\u001b[0m \u001b[0mSTATUS_OK\u001b[0m\u001b[1;33m,\u001b[0m \u001b[0mtpe\u001b[0m\u001b[1;33m\u001b[0m\u001b[1;33m\u001b[0m\u001b[0m\n\u001b[1;32m----> 5\u001b[1;33m \u001b[1;32mfrom\u001b[0m \u001b[0mkeras\u001b[0m\u001b[1;33m.\u001b[0m\u001b[0mlayers\u001b[0m\u001b[1;33m.\u001b[0m\u001b[0mcore\u001b[0m \u001b[1;32mimport\u001b[0m \u001b[0mDense\u001b[0m\u001b[1;33m,\u001b[0m \u001b[0mDropout\u001b[0m\u001b[1;33m,\u001b[0m \u001b[0mActivation\u001b[0m\u001b[1;33m\u001b[0m\u001b[1;33m\u001b[0m\u001b[0m\n\u001b[0m\u001b[0;32m      6\u001b[0m \u001b[1;32mfrom\u001b[0m \u001b[0mkeras\u001b[0m\u001b[1;33m.\u001b[0m\u001b[0mmodels\u001b[0m \u001b[1;32mimport\u001b[0m \u001b[0mSequential\u001b[0m\u001b[1;33m\u001b[0m\u001b[1;33m\u001b[0m\u001b[0m\n\u001b[0;32m      7\u001b[0m \u001b[1;32mfrom\u001b[0m \u001b[0mkeras\u001b[0m\u001b[1;33m.\u001b[0m\u001b[0mutils\u001b[0m \u001b[1;32mimport\u001b[0m \u001b[0mnp_utils\u001b[0m\u001b[1;33m\u001b[0m\u001b[1;33m\u001b[0m\u001b[0m\n",
      "\u001b[1;32m~\\anaconda3\\lib\\site-packages\\keras\\__init__.py\u001b[0m in \u001b[0;36m<module>\u001b[1;34m\u001b[0m\n\u001b[0;32m     23\u001b[0m \u001b[1;33m\u001b[0m\u001b[0m\n\u001b[0;32m     24\u001b[0m \u001b[1;31m# See b/110718070#comment18 for more details about this import.\u001b[0m\u001b[1;33m\u001b[0m\u001b[1;33m\u001b[0m\u001b[1;33m\u001b[0m\u001b[0m\n\u001b[1;32m---> 25\u001b[1;33m \u001b[1;32mfrom\u001b[0m \u001b[0mkeras\u001b[0m \u001b[1;32mimport\u001b[0m \u001b[0mmodels\u001b[0m\u001b[1;33m\u001b[0m\u001b[1;33m\u001b[0m\u001b[0m\n\u001b[0m\u001b[0;32m     26\u001b[0m \u001b[1;33m\u001b[0m\u001b[0m\n\u001b[0;32m     27\u001b[0m \u001b[1;32mfrom\u001b[0m \u001b[0mkeras\u001b[0m\u001b[1;33m.\u001b[0m\u001b[0mengine\u001b[0m\u001b[1;33m.\u001b[0m\u001b[0minput_layer\u001b[0m \u001b[1;32mimport\u001b[0m \u001b[0mInput\u001b[0m\u001b[1;33m\u001b[0m\u001b[1;33m\u001b[0m\u001b[0m\n",
      "\u001b[1;32m~\\anaconda3\\lib\\site-packages\\keras\\models.py\u001b[0m in \u001b[0;36m<module>\u001b[1;34m\u001b[0m\n\u001b[0;32m     17\u001b[0m \u001b[1;33m\u001b[0m\u001b[0m\n\u001b[0;32m     18\u001b[0m \u001b[1;32mimport\u001b[0m \u001b[0mtensorflow\u001b[0m\u001b[1;33m.\u001b[0m\u001b[0mcompat\u001b[0m\u001b[1;33m.\u001b[0m\u001b[0mv2\u001b[0m \u001b[1;32mas\u001b[0m \u001b[0mtf\u001b[0m\u001b[1;33m\u001b[0m\u001b[1;33m\u001b[0m\u001b[0m\n\u001b[1;32m---> 19\u001b[1;33m \u001b[1;32mfrom\u001b[0m \u001b[0mkeras\u001b[0m \u001b[1;32mimport\u001b[0m \u001b[0mbackend\u001b[0m\u001b[1;33m\u001b[0m\u001b[1;33m\u001b[0m\u001b[0m\n\u001b[0m\u001b[0;32m     20\u001b[0m \u001b[1;32mfrom\u001b[0m \u001b[0mkeras\u001b[0m \u001b[1;32mimport\u001b[0m \u001b[0mmetrics\u001b[0m \u001b[1;32mas\u001b[0m \u001b[0mmetrics_module\u001b[0m\u001b[1;33m\u001b[0m\u001b[1;33m\u001b[0m\u001b[0m\n\u001b[0;32m     21\u001b[0m \u001b[1;32mfrom\u001b[0m \u001b[0mkeras\u001b[0m \u001b[1;32mimport\u001b[0m \u001b[0moptimizer_v1\u001b[0m\u001b[1;33m\u001b[0m\u001b[1;33m\u001b[0m\u001b[0m\n",
      "\u001b[1;32m~\\anaconda3\\lib\\site-packages\\keras\\backend\\__init__.py\u001b[0m in \u001b[0;36m<module>\u001b[1;34m\u001b[0m\n\u001b[1;32m----> 1\u001b[1;33m \u001b[1;32mfrom\u001b[0m \u001b[1;33m.\u001b[0m\u001b[0mload_backend\u001b[0m \u001b[1;32mimport\u001b[0m \u001b[0mepsilon\u001b[0m\u001b[1;33m\u001b[0m\u001b[1;33m\u001b[0m\u001b[0m\n\u001b[0m\u001b[0;32m      2\u001b[0m \u001b[1;32mfrom\u001b[0m \u001b[1;33m.\u001b[0m\u001b[0mload_backend\u001b[0m \u001b[1;32mimport\u001b[0m \u001b[0mset_epsilon\u001b[0m\u001b[1;33m\u001b[0m\u001b[1;33m\u001b[0m\u001b[0m\n\u001b[0;32m      3\u001b[0m \u001b[1;32mfrom\u001b[0m \u001b[1;33m.\u001b[0m\u001b[0mload_backend\u001b[0m \u001b[1;32mimport\u001b[0m \u001b[0mfloatx\u001b[0m\u001b[1;33m\u001b[0m\u001b[1;33m\u001b[0m\u001b[0m\n\u001b[0;32m      4\u001b[0m \u001b[1;32mfrom\u001b[0m \u001b[1;33m.\u001b[0m\u001b[0mload_backend\u001b[0m \u001b[1;32mimport\u001b[0m \u001b[0mset_floatx\u001b[0m\u001b[1;33m\u001b[0m\u001b[1;33m\u001b[0m\u001b[0m\n\u001b[0;32m      5\u001b[0m \u001b[1;32mfrom\u001b[0m \u001b[1;33m.\u001b[0m\u001b[0mload_backend\u001b[0m \u001b[1;32mimport\u001b[0m \u001b[0mcast_to_floatx\u001b[0m\u001b[1;33m\u001b[0m\u001b[1;33m\u001b[0m\u001b[0m\n",
      "\u001b[1;32m~\\anaconda3\\lib\\site-packages\\keras\\backend\\load_backend.py\u001b[0m in \u001b[0;36m<module>\u001b[1;34m\u001b[0m\n\u001b[0;32m     88\u001b[0m \u001b[1;32melif\u001b[0m \u001b[0m_BACKEND\u001b[0m \u001b[1;33m==\u001b[0m \u001b[1;34m'tensorflow'\u001b[0m\u001b[1;33m:\u001b[0m\u001b[1;33m\u001b[0m\u001b[1;33m\u001b[0m\u001b[0m\n\u001b[0;32m     89\u001b[0m     \u001b[0msys\u001b[0m\u001b[1;33m.\u001b[0m\u001b[0mstderr\u001b[0m\u001b[1;33m.\u001b[0m\u001b[0mwrite\u001b[0m\u001b[1;33m(\u001b[0m\u001b[1;34m'Using TensorFlow backend.\\n'\u001b[0m\u001b[1;33m)\u001b[0m\u001b[1;33m\u001b[0m\u001b[1;33m\u001b[0m\u001b[0m\n\u001b[1;32m---> 90\u001b[1;33m     \u001b[1;32mfrom\u001b[0m \u001b[1;33m.\u001b[0m\u001b[0mtensorflow_backend\u001b[0m \u001b[1;32mimport\u001b[0m \u001b[1;33m*\u001b[0m\u001b[1;33m\u001b[0m\u001b[1;33m\u001b[0m\u001b[0m\n\u001b[0m\u001b[0;32m     91\u001b[0m \u001b[1;32melse\u001b[0m\u001b[1;33m:\u001b[0m\u001b[1;33m\u001b[0m\u001b[1;33m\u001b[0m\u001b[0m\n\u001b[0;32m     92\u001b[0m     \u001b[1;31m# Try and load external backend.\u001b[0m\u001b[1;33m\u001b[0m\u001b[1;33m\u001b[0m\u001b[1;33m\u001b[0m\u001b[0m\n",
      "\u001b[1;32m~\\anaconda3\\lib\\site-packages\\keras\\backend\\tensorflow_backend.py\u001b[0m in \u001b[0;36m<module>\u001b[1;34m\u001b[0m\n\u001b[0;32m     23\u001b[0m \u001b[1;32mfrom\u001b[0m \u001b[0mdistutils\u001b[0m\u001b[1;33m.\u001b[0m\u001b[0mversion\u001b[0m \u001b[1;32mimport\u001b[0m \u001b[0mStrictVersion\u001b[0m\u001b[1;33m\u001b[0m\u001b[1;33m\u001b[0m\u001b[0m\n\u001b[0;32m     24\u001b[0m \u001b[1;33m\u001b[0m\u001b[0m\n\u001b[1;32m---> 25\u001b[1;33m \u001b[1;32mfrom\u001b[0m \u001b[1;33m.\u001b[0m\u001b[1;33m.\u001b[0m\u001b[0mutils\u001b[0m\u001b[1;33m.\u001b[0m\u001b[0mgeneric_utils\u001b[0m \u001b[1;32mimport\u001b[0m \u001b[0mtranspose_shape\u001b[0m\u001b[1;33m\u001b[0m\u001b[1;33m\u001b[0m\u001b[0m\n\u001b[0m\u001b[0;32m     26\u001b[0m \u001b[1;33m\u001b[0m\u001b[0m\n\u001b[0;32m     27\u001b[0m \u001b[0mpy_all\u001b[0m \u001b[1;33m=\u001b[0m \u001b[0mall\u001b[0m\u001b[1;33m\u001b[0m\u001b[1;33m\u001b[0m\u001b[0m\n",
      "\u001b[1;31mImportError\u001b[0m: cannot import name 'transpose_shape' from 'keras.utils.generic_utils' (C:\\Users\\bedir\\anaconda3\\lib\\site-packages\\keras\\utils\\generic_utils.py)"
     ]
    }
   ],
   "source": [
    "\n",
    "from __future__ import print_function\n",
    "import numpy as np\n",
    "\n",
    "from hyperopt import Trials, STATUS_OK, tpe\n",
    "from keras.layers.core import Dense, Dropout, Activation\n",
    "from keras.models import Sequential\n",
    "from keras.utils import np_utils\n",
    "\n",
    "from hyperas import optim\n",
    "from hyperas.distributions import choice, uniform"
   ]
  },
  {
   "cell_type": "markdown",
   "metadata": {},
   "source": [
    "#### Fashion Mnıst dataset is consist fashion items as 70.000 grayscale image of 28*28 pixels each, with 10 classes."
   ]
  },
  {
   "cell_type": "markdown",
   "metadata": {},
   "source": [
    "Load fashion MNIST dataset: "
   ]
  },
  {
   "cell_type": "code",
   "execution_count": 69,
   "metadata": {},
   "outputs": [],
   "source": [
    "fashion_mnist= keras.datasets.fashion_mnist"
   ]
  },
  {
   "cell_type": "code",
   "execution_count": 70,
   "metadata": {},
   "outputs": [],
   "source": [
    "fashion_mnist= keras.datasets.mnist"
   ]
  },
  {
   "cell_type": "markdown",
   "metadata": {},
   "source": [
    "This data already splitted:"
   ]
  },
  {
   "cell_type": "code",
   "execution_count": 71,
   "metadata": {},
   "outputs": [
    {
     "name": "stdout",
     "output_type": "stream",
     "text": [
      "Downloading data from https://storage.googleapis.com/tensorflow/tf-keras-datasets/mnist.npz\n",
      "11493376/11490434 [==============================] - 9s 1us/step\n"
     ]
    }
   ],
   "source": [
    "(X_train_full, y_train_full), ( X_test, y_test)= fashion_mnist.load_data()"
   ]
  },
  {
   "cell_type": "code",
   "execution_count": 72,
   "metadata": {},
   "outputs": [
    {
     "data": {
      "text/plain": [
       "((60000, 28, 28), (60000,), (10000, 28, 28), (10000,))"
      ]
     },
     "execution_count": 72,
     "metadata": {},
     "output_type": "execute_result"
    }
   ],
   "source": [
    "X_train_full.shape,y_train_full.shape, X_test.shape,y_test.shape"
   ]
  },
  {
   "cell_type": "markdown",
   "metadata": {},
   "source": [
    "But there is no validation set. Let's create one: "
   ]
  },
  {
   "cell_type": "code",
   "execution_count": 73,
   "metadata": {},
   "outputs": [],
   "source": [
    "X_train, X_valid, y_train, y_valid = train_test_split(X_train_full, y_train_full, test_size=0.20, random_state=42)"
   ]
  },
  {
   "cell_type": "code",
   "execution_count": 74,
   "metadata": {},
   "outputs": [
    {
     "data": {
      "text/plain": [
       "((48000, 28, 28), (48000,), (12000, 28, 28), (12000,))"
      ]
     },
     "execution_count": 74,
     "metadata": {},
     "output_type": "execute_result"
    }
   ],
   "source": [
    "X_train.shape, y_train.shape, X_valid.shape, y_valid.shape"
   ]
  },
  {
   "cell_type": "markdown",
   "metadata": {},
   "source": [
    "And since pixels intensities is between 0-255, we should scale these values by dividing 255 each value:"
   ]
  },
  {
   "cell_type": "code",
   "execution_count": 75,
   "metadata": {},
   "outputs": [],
   "source": [
    "X_train= X_train/255\n",
    "X_test= X_test/255\n",
    "X_valid= X_valid/255"
   ]
  },
  {
   "cell_type": "markdown",
   "metadata": {},
   "source": [
    "Labels information of this data:\n",
    "\n",
    "Each training and test example is assigned to one of the following labels:\n",
    "\n",
    "    0 T-shirt/top\n",
    "    1 Trouser\n",
    "    2 Pullover\n",
    "    3 Dress\n",
    "    4 Coat\n",
    "    5 Sandal\n",
    "    6 Shirt\n",
    "    7 Sneaker\n",
    "    8 Bag\n",
    "    9 Ankle boot"
   ]
  },
  {
   "cell_type": "markdown",
   "metadata": {},
   "source": [
    "So let's give class name for each label:"
   ]
  },
  {
   "cell_type": "code",
   "execution_count": 76,
   "metadata": {},
   "outputs": [
    {
     "name": "stdout",
     "output_type": "stream",
     "text": [
      "Sandal\n",
      "T-shirt/top\n",
      "Trouser\n",
      "Shirt\n",
      "Trouser\n"
     ]
    }
   ],
   "source": [
    "class_names = [\"T-shirt/top\", \"Trouser\", \"Pullover\", \"Dress\", \"Coat\",\n",
    "               \"Sandal\", \"Shirt\", \"Sneaker\", \"Bag\", \"Ankle boot\"]\n",
    "\n",
    "for i in y_train[0:5]:\n",
    "    print(class_names[i])"
   ]
  },
  {
   "cell_type": "markdown",
   "metadata": {},
   "source": [
    "Labels:"
   ]
  },
  {
   "cell_type": "code",
   "execution_count": 77,
   "metadata": {},
   "outputs": [
    {
     "data": {
      "image/png": "[encoded data removed]",
      "text/plain": [
       "<Figure size 1152x216 with 30 Axes>"
      ]
     },
     "metadata": {
      "needs_background": "light"
     },
     "output_type": "display_data"
    }
   ],
   "source": [
    "def display_images(X_values,y_targets,n_rows=4,n_cols=10):\n",
    "    import matplotlib.pyplot as plt \n",
    "    plt.figure(figsize=(n_cols * 1.6, n_rows * 1))\n",
    "    for row in range(n_rows):\n",
    "        for col in range(n_cols):\n",
    "            index = n_cols * row + col\n",
    "            plt.subplot(n_rows, n_cols, index + 1)\n",
    "            plt.imshow(X_values[index], cmap=\"binary\", interpolation=\"nearest\")\n",
    "            plt.axis('off')\n",
    "            plt.title(class_names[y_targets[index]], fontsize=12)\n",
    "    plt.subplots_adjust(wspace=0.6, hspace=0.6)\n",
    "    plt.show()\n",
    "display_images(X_train, y_train,3,10)"
   ]
  },
  {
   "cell_type": "markdown",
   "metadata": {},
   "source": [
    "Lets build a simple neural network model for predict label."
   ]
  },
  {
   "cell_type": "code",
   "execution_count": 78,
   "metadata": {},
   "outputs": [
    {
     "data": {
      "text/plain": [
       "(28, 28)"
      ]
     },
     "execution_count": 78,
     "metadata": {},
     "output_type": "execute_result"
    }
   ],
   "source": [
    "X_train.shape[1:]"
   ]
  },
  {
   "cell_type": "markdown",
   "metadata": {},
   "source": [
    "Now build a basic model and observe accuracy. Than try to improve accuracy."
   ]
  },
  {
   "cell_type": "code",
   "execution_count": 79,
   "metadata": {},
   "outputs": [],
   "source": [
    "#### This section for tensorboard. Not really importand for now. (Important but not now.)\n",
    "import os\n",
    "root_logdir = os.path.join(os.curdir, \"my_logs\")\n",
    "\n",
    "def get_run_logdir():\n",
    "    import time\n",
    "    run_id = time.strftime(\"run_%Y_%m_%d-%H_%M_%S\")\n",
    "    return os.path.join(root_logdir, run_id)\n",
    "\n",
    "run_logdir = get_run_logdir() # e.g., './my_logs/run_2019_06_07-15_15_22'\n",
    "tensorboard_cb = keras.callbacks.TensorBoard(run_logdir)"
   ]
  },
  {
   "cell_type": "code",
   "execution_count": 80,
   "metadata": {},
   "outputs": [
    {
     "name": "stdout",
     "output_type": "stream",
     "text": [
      "Epoch 1/30\n",
      "1500/1500 [==============================] - 3s 2ms/step - loss: 0.7690 - accuracy: 0.8068 - val_loss: 0.4190 - val_accuracy: 0.8817\n",
      "Epoch 2/30\n",
      "1500/1500 [==============================] - 2s 1ms/step - loss: 0.3708 - accuracy: 0.8971 - val_loss: 0.3310 - val_accuracy: 0.9080\n",
      "Epoch 3/30\n",
      "1500/1500 [==============================] - 2s 1ms/step - loss: 0.3164 - accuracy: 0.9107 - val_loss: 0.2970 - val_accuracy: 0.9159\n",
      "Epoch 4/30\n",
      "1500/1500 [==============================] - 2s 1ms/step - loss: 0.2860 - accuracy: 0.9188 - val_loss: 0.2728 - val_accuracy: 0.9222\n",
      "Epoch 5/30\n",
      "1500/1500 [==============================] - 2s 1ms/step - loss: 0.2632 - accuracy: 0.9254 - val_loss: 0.2543 - val_accuracy: 0.9277\n",
      "Epoch 6/30\n",
      "1500/1500 [==============================] - 2s 1ms/step - loss: 0.2449 - accuracy: 0.9307 - val_loss: 0.2400 - val_accuracy: 0.9326\n",
      "Epoch 7/30\n",
      "1500/1500 [==============================] - 2s 1ms/step - loss: 0.2300 - accuracy: 0.9353 - val_loss: 0.2282 - val_accuracy: 0.9352\n",
      "Epoch 8/30\n",
      "1500/1500 [==============================] - 2s 1ms/step - loss: 0.2169 - accuracy: 0.9382 - val_loss: 0.2177 - val_accuracy: 0.9398\n",
      "Epoch 9/30\n",
      "1500/1500 [==============================] - 2s 1ms/step - loss: 0.2053 - accuracy: 0.9426 - val_loss: 0.2092 - val_accuracy: 0.9419\n",
      "Epoch 10/30\n",
      "1500/1500 [==============================] - 2s 1ms/step - loss: 0.1953 - accuracy: 0.9444 - val_loss: 0.1988 - val_accuracy: 0.9442\n",
      "Epoch 11/30\n",
      "1500/1500 [==============================] - 2s 1ms/step - loss: 0.1862 - accuracy: 0.9474 - val_loss: 0.1944 - val_accuracy: 0.9452\n",
      "Epoch 12/30\n",
      "1500/1500 [==============================] - 2s 1ms/step - loss: 0.1784 - accuracy: 0.9491 - val_loss: 0.1864 - val_accuracy: 0.9483\n",
      "Epoch 13/30\n",
      "1500/1500 [==============================] - 2s 1ms/step - loss: 0.1711 - accuracy: 0.9516 - val_loss: 0.1797 - val_accuracy: 0.9488\n",
      "Epoch 14/30\n",
      "1500/1500 [==============================] - 2s 1ms/step - loss: 0.1646 - accuracy: 0.9533 - val_loss: 0.1750 - val_accuracy: 0.9507\n",
      "Epoch 15/30\n",
      "1500/1500 [==============================] - 2s 1ms/step - loss: 0.1587 - accuracy: 0.9548 - val_loss: 0.1698 - val_accuracy: 0.9518\n",
      "Epoch 16/30\n",
      "1500/1500 [==============================] - 2s 1ms/step - loss: 0.1533 - accuracy: 0.9565 - val_loss: 0.1661 - val_accuracy: 0.9523\n",
      "Epoch 17/30\n",
      "1500/1500 [==============================] - 2s 2ms/step - loss: 0.1483 - accuracy: 0.9578 - val_loss: 0.1627 - val_accuracy: 0.9537\n",
      "Epoch 18/30\n",
      "1500/1500 [==============================] - 2s 1ms/step - loss: 0.1436 - accuracy: 0.9590 - val_loss: 0.1587 - val_accuracy: 0.9552\n",
      "Epoch 19/30\n",
      "1500/1500 [==============================] - 2s 1ms/step - loss: 0.1392 - accuracy: 0.9603 - val_loss: 0.1546 - val_accuracy: 0.9572\n",
      "Epoch 20/30\n",
      "1500/1500 [==============================] - 2s 2ms/step - loss: 0.1350 - accuracy: 0.9619 - val_loss: 0.1525 - val_accuracy: 0.9571\n",
      "Epoch 21/30\n",
      "1500/1500 [==============================] - 3s 2ms/step - loss: 0.1314 - accuracy: 0.9627 - val_loss: 0.1500 - val_accuracy: 0.9576\n",
      "Epoch 22/30\n",
      "1500/1500 [==============================] - 2s 2ms/step - loss: 0.1276 - accuracy: 0.9640 - val_loss: 0.1471 - val_accuracy: 0.9588\n",
      "Epoch 23/30\n",
      "1500/1500 [==============================] - 2s 1ms/step - loss: 0.1242 - accuracy: 0.9653 - val_loss: 0.1452 - val_accuracy: 0.9590\n",
      "Epoch 24/30\n",
      "1500/1500 [==============================] - 3s 2ms/step - loss: 0.1210 - accuracy: 0.9659 - val_loss: 0.1431 - val_accuracy: 0.9587\n",
      "Epoch 25/30\n",
      "1500/1500 [==============================] - 2s 2ms/step - loss: 0.1179 - accuracy: 0.9670 - val_loss: 0.1407 - val_accuracy: 0.9607\n",
      "Epoch 26/30\n",
      "1500/1500 [==============================] - 2s 1ms/step - loss: 0.1152 - accuracy: 0.9679 - val_loss: 0.1382 - val_accuracy: 0.9603\n",
      "Epoch 27/30\n",
      "1500/1500 [==============================] - 2s 2ms/step - loss: 0.1123 - accuracy: 0.9688 - val_loss: 0.1367 - val_accuracy: 0.9619\n",
      "Epoch 28/30\n",
      "1500/1500 [==============================] - 2s 1ms/step - loss: 0.1098 - accuracy: 0.9694 - val_loss: 0.1353 - val_accuracy: 0.9609\n",
      "Epoch 29/30\n",
      "1500/1500 [==============================] - 2s 1ms/step - loss: 0.1074 - accuracy: 0.9701 - val_loss: 0.1334 - val_accuracy: 0.9617\n",
      "Epoch 30/30\n",
      "1500/1500 [==============================] - 2s 1ms/step - loss: 0.1048 - accuracy: 0.9710 - val_loss: 0.1312 - val_accuracy: 0.9622\n"
     ]
    }
   ],
   "source": [
    "# Build and compile a basic model\n",
    "def model_():\n",
    "    \n",
    "    model = keras.models.Sequential([\n",
    "        keras.layers.Flatten(input_shape=[28, 28]),\n",
    "        keras.layers.Dense(50, activation=\"relu\"),\n",
    "        keras.layers.Dense(10, activation=\"softmax\")#  If we were doing binary classification or multilabel binary classification, then we would use the \"sigmoid\"\n",
    "                                                    #  (i.e., logistic) activation function in the output layer instead of the \"softmax\"\n",
    "                                                    #  activation function, and we would use the \"binary_crossentropy\" loss.      \n",
    "    ])\n",
    "       \n",
    "            \n",
    "    return model\n",
    "model=model_()\n",
    "model.compile(loss=\"sparse_categorical_crossentropy\",  #  we use the \"sparse_categorical_crossentropy\" loss because we have sparse labels (i.e., for each instance, there is just a target class \n",
    "                                                       #  index, from 0 to 9 in this case), and the classes are exclusive. If instead we had one target probability\n",
    "                                                       #  per class for each instance (such as one-hot vectors, e.g. [0., 0., 0., 1., 0., 0., 0., 0., 0., 0.]\n",
    "                                                       #  to represent class 3), then we would need to use the \"categorical_crossentropy\" loss instead. \n",
    "             optimizer=\"sgd\",\n",
    "             metrics=[\"accuracy\"])\n",
    "history = model.fit(X_train, y_train, epochs=30,\n",
    "                    validation_data=(X_valid, y_valid),\n",
    "                   callbacks=[tensorboard_cb])"
   ]
  },
  {
   "cell_type": "markdown",
   "metadata": {},
   "source": [
    "Take look to evaluation parameters improving "
   ]
  },
  {
   "cell_type": "code",
   "execution_count": 13,
   "metadata": {},
   "outputs": [
    {
     "data": {
      "text/plain": [
       "Reusing TensorBoard on port 6006 (pid 9232), started 1 day, 8:15:32 ago. (Use '!kill 9232' to kill it.)"
      ]
     },
     "metadata": {},
     "output_type": "display_data"
    },
    {
     "data": {
      "text/html": [
       "\n",
       "      <iframe id=\"tensorboard-frame-b5fea59dd5c93dfe\" width=\"100%\" height=\"800\" frameborder=\"0\">\n",
       "      </iframe>\n",
       "      <script>\n",
       "        (function() {\n",
       "          const frame = document.getElementById(\"tensorboard-frame-b5fea59dd5c93dfe\");\n",
       "          const url = new URL(\"/\", window.location);\n",
       "          const port = 6006;\n",
       "          if (port) {\n",
       "            url.port = port;\n",
       "          }\n",
       "          frame.src = url;\n",
       "        })();\n",
       "      </script>\n",
       "    "
      ],
      "text/plain": [
       "<IPython.core.display.HTML object>"
      ]
     },
     "metadata": {},
     "output_type": "display_data"
    }
   ],
   "source": [
    "%load_ext tensorboard\n",
    "%tensorboard --logdir=./my_logs --port=6006"
   ]
  },
  {
   "cell_type": "markdown",
   "metadata": {},
   "source": [
    "Yo can see how changed loss and accuracy values. Lets observe this change. "
   ]
  },
  {
   "cell_type": "markdown",
   "metadata": {},
   "source": [
    "Let's add a callback to earlystop. To do this, ve just can add **tf.keras.callbacks.EarlyStopping(patience=3)** Thiss code will stop training when validation loss not improve 3 time in a row. \n",
    "\n",
    "Normally, 3 is not good number for this. But in here, i try to understandable and traceable.\n"
   ]
  },
  {
   "cell_type": "markdown",
   "metadata": {},
   "source": [
    "---\n",
    "\n",
    "Now, let's measure basic model's accuracy:"
   ]
  },
  {
   "cell_type": "code",
   "execution_count": 14,
   "metadata": {},
   "outputs": [
    {
     "name": "stdout",
     "output_type": "stream",
     "text": [
      "1500/1500 [==============================] - 2s 1ms/step - loss: 0.2752 - accuracy: 0.9003\n",
      "Train      [0.27524876594543457, 0.9002500176429749]\n",
      "375/375 [==============================] - 0s 1ms/step - loss: 0.3468 - accuracy: 0.8767\n",
      "Validation [0.34680190682411194, 0.8766666650772095]\n",
      "313/313 [==============================] - 1s 2ms/step - loss: 0.3684 - accuracy: 0.8703\n",
      "Test       [0.3683675229549408, 0.8702999949455261]\n"
     ]
    }
   ],
   "source": [
    "def print_accuracy():\n",
    "    print(\"Train     \", model.evaluate(X_train, y_train))\n",
    "    print(\"Validation\", model.evaluate(X_valid, y_valid))\n",
    "    print(\"Test      \", model.evaluate(X_test, y_test))\n",
    "print_accuracy()"
   ]
  },
  {
   "cell_type": "code",
   "execution_count": 15,
   "metadata": {},
   "outputs": [],
   "source": [
    "#model=model_()\n",
    "#history = model.fit(X_train, y_train, epochs=30,\n",
    "#                    validation_data=(X_valid, y_valid),\n",
    "#                    callbacks=[tensorboard_cb,\n",
    "#                              tf.keras.callbacks.EarlyStopping(patience=5, monitor=\"val_loss\")]\n",
    "#                   )"
   ]
  },
  {
   "cell_type": "markdown",
   "metadata": {},
   "source": [
    "we got 0.86 accuracy. Not good at all. Lets try to improve. "
   ]
  },
  {
   "cell_type": "markdown",
   "metadata": {},
   "source": [
    "First, i will try just learning rate set and find the best. Than shile using this learning rate, i change hidden layer, n_neurons etc.\n",
    "Lets find an learning rate:"
   ]
  },
  {
   "cell_type": "code",
   "execution_count": 122,
   "metadata": {
    "collapsed": true,
    "jupyter": {
     "outputs_hidden": true
    }
   },
   "outputs": [
    {
     "ename": "RuntimeError",
     "evalue": "You must compile your model before training/testing. Use `model.compile(optimizer, loss)`.",
     "output_type": "error",
     "traceback": [
      "\u001b[1;31m---------------------------------------------------------------------------\u001b[0m",
      "\u001b[1;31mRuntimeError\u001b[0m                              Traceback (most recent call last)",
      "\u001b[1;32m<ipython-input-122-0c259d5223ce>\u001b[0m in \u001b[0;36m<module>\u001b[1;34m\u001b[0m\n\u001b[0;32m      2\u001b[0m history = model.fit(X_train, y_train, epochs=3,\n\u001b[0;32m      3\u001b[0m                     \u001b[0mvalidation_data\u001b[0m\u001b[1;33m=\u001b[0m\u001b[1;33m(\u001b[0m\u001b[0mX_valid\u001b[0m\u001b[1;33m,\u001b[0m \u001b[0my_valid\u001b[0m\u001b[1;33m)\u001b[0m\u001b[1;33m,\u001b[0m\u001b[1;33m\u001b[0m\u001b[1;33m\u001b[0m\u001b[0m\n\u001b[1;32m----> 4\u001b[1;33m                    callbacks=[tensorboard_cb])\n\u001b[0m",
      "\u001b[1;32m~\\anaconda3\\lib\\site-packages\\tensorflow\\python\\keras\\engine\\training.py\u001b[0m in \u001b[0;36mfit\u001b[1;34m(self, x, y, batch_size, epochs, verbose, callbacks, validation_split, validation_data, shuffle, class_weight, sample_weight, initial_epoch, steps_per_epoch, validation_steps, validation_batch_size, validation_freq, max_queue_size, workers, use_multiprocessing)\u001b[0m\n\u001b[0;32m   1103\u001b[0m     \u001b[1;31m# Legacy graph support is contained in `training_v1.Model`.\u001b[0m\u001b[1;33m\u001b[0m\u001b[1;33m\u001b[0m\u001b[1;33m\u001b[0m\u001b[0m\n\u001b[0;32m   1104\u001b[0m     \u001b[0mversion_utils\u001b[0m\u001b[1;33m.\u001b[0m\u001b[0mdisallow_legacy_graph\u001b[0m\u001b[1;33m(\u001b[0m\u001b[1;34m'Model'\u001b[0m\u001b[1;33m,\u001b[0m \u001b[1;34m'fit'\u001b[0m\u001b[1;33m)\u001b[0m\u001b[1;33m\u001b[0m\u001b[1;33m\u001b[0m\u001b[0m\n\u001b[1;32m-> 1105\u001b[1;33m     \u001b[0mself\u001b[0m\u001b[1;33m.\u001b[0m\u001b[0m_assert_compile_was_called\u001b[0m\u001b[1;33m(\u001b[0m\u001b[1;33m)\u001b[0m\u001b[1;33m\u001b[0m\u001b[1;33m\u001b[0m\u001b[0m\n\u001b[0m\u001b[0;32m   1106\u001b[0m     \u001b[0mself\u001b[0m\u001b[1;33m.\u001b[0m\u001b[0m_check_call_args\u001b[0m\u001b[1;33m(\u001b[0m\u001b[1;34m'fit'\u001b[0m\u001b[1;33m)\u001b[0m\u001b[1;33m\u001b[0m\u001b[1;33m\u001b[0m\u001b[0m\n\u001b[0;32m   1107\u001b[0m     \u001b[0m_disallow_inside_tf_function\u001b[0m\u001b[1;33m(\u001b[0m\u001b[1;34m'fit'\u001b[0m\u001b[1;33m)\u001b[0m\u001b[1;33m\u001b[0m\u001b[1;33m\u001b[0m\u001b[0m\n",
      "\u001b[1;32m~\\anaconda3\\lib\\site-packages\\tensorflow\\python\\keras\\engine\\training.py\u001b[0m in \u001b[0;36m_assert_compile_was_called\u001b[1;34m(self)\u001b[0m\n\u001b[0;32m   2691\u001b[0m     \u001b[1;31m# (i.e. whether the model is built and its inputs/outputs are set).\u001b[0m\u001b[1;33m\u001b[0m\u001b[1;33m\u001b[0m\u001b[1;33m\u001b[0m\u001b[0m\n\u001b[0;32m   2692\u001b[0m     \u001b[1;32mif\u001b[0m \u001b[1;32mnot\u001b[0m \u001b[0mself\u001b[0m\u001b[1;33m.\u001b[0m\u001b[0m_is_compiled\u001b[0m\u001b[1;33m:\u001b[0m\u001b[1;33m\u001b[0m\u001b[1;33m\u001b[0m\u001b[0m\n\u001b[1;32m-> 2693\u001b[1;33m       raise RuntimeError('You must compile your model before '\n\u001b[0m\u001b[0;32m   2694\u001b[0m                          \u001b[1;34m'training/testing. '\u001b[0m\u001b[1;33m\u001b[0m\u001b[1;33m\u001b[0m\u001b[0m\n\u001b[0;32m   2695\u001b[0m                          'Use `model.compile(optimizer, loss)`.')\n",
      "\u001b[1;31mRuntimeError\u001b[0m: You must compile your model before training/testing. Use `model.compile(optimizer, loss)`."
     ]
    }
   ],
   "source": [
    "model=model_()\n",
    "history = model.fit(X_train, y_train, epochs=3,\n",
    "                    validation_data=(X_valid, y_valid),\n",
    "                   callbacks=[tensorboard_cb])"
   ]
  },
  {
   "cell_type": "code",
   "execution_count": 16,
   "metadata": {},
   "outputs": [
    {
     "name": "stdout",
     "output_type": "stream",
     "text": [
      "1500/1500 [==============================] - 4s 3ms/step - loss: 1.3607 - accuracy: 0.5365 - val_loss: 1.8457 - val_accuracy: 0.1997\n"
     ]
    }
   ],
   "source": [
    "K = keras.backend\n",
    "\n",
    "class ExponentialLearningRate(keras.callbacks.Callback):\n",
    "    def __init__(self, factor):\n",
    "        self.factor = factor\n",
    "        self.rates = []\n",
    "        self.losses = []\n",
    "    def on_batch_end(self, batch, logs):\n",
    "        self.rates.append(K.get_value(self.model.optimizer.lr))\n",
    "        self.losses.append(logs[\"loss\"])\n",
    "        K.set_value(self.model.optimizer.lr, self.model.optimizer.lr * self.factor)\n",
    "        \n",
    "        \n",
    "keras.backend.clear_session()\n",
    "np.random.seed(42)\n",
    "tf.random.set_seed(42)\n",
    "\n",
    "model=model_()\n",
    "model.compile(loss=\"sparse_categorical_crossentropy\",\n",
    "              optimizer=keras.optimizers.SGD(lr=1e-3),\n",
    "              metrics=[\"accuracy\"])\n",
    "expon_lr = ExponentialLearningRate(factor=1.005)\n",
    "\n",
    "history = model.fit(X_train, y_train, epochs=1,\n",
    "                    validation_data=(X_valid, y_valid),\n",
    "                    callbacks=[expon_lr])"
   ]
  },
  {
   "cell_type": "code",
   "execution_count": 17,
   "metadata": {},
   "outputs": [
    {
     "data": {
      "text/plain": [
       "Text(0, 0.5, 'Loss')"
      ]
     },
     "execution_count": 17,
     "metadata": {},
     "output_type": "execute_result"
    },
    {
     "data": {
      "image/png": "[encoded data removed]",
      "text/plain": [
       "<Figure size 432x288 with 1 Axes>"
      ]
     },
     "metadata": {
      "needs_background": "light"
     },
     "output_type": "display_data"
    }
   ],
   "source": [
    "plt.plot(expon_lr.rates, expon_lr.losses)\n",
    "plt.gca().set_xscale('log')\n",
    "plt.hlines(min(expon_lr.losses), min(expon_lr.rates), max(expon_lr.rates))\n",
    "plt.axis([min(expon_lr.rates), max(expon_lr.rates), 0, expon_lr.losses[0]])\n",
    "plt.grid()\n",
    "plt.xlabel(\"Learning rate\")\n",
    "plt.ylabel(\"Loss\")"
   ]
  },
  {
   "cell_type": "markdown",
   "metadata": {},
   "source": [
    "=> In general, the optimal learning rate is about half of the maximum learning rate, thats mean is, when learning rate did minimize loss function, half of this lr is the best. \n",
    "\n",
    "So in here, 10^-1= 3e-1 close to the best. I will use it.\n",
    "\n",
    "Now, i will try 3e-1 learning rate and took if there is a different on test set or not. "
   ]
  },
  {
   "cell_type": "code",
   "execution_count": 20,
   "metadata": {},
   "outputs": [
    {
     "name": "stdout",
     "output_type": "stream",
     "text": [
      "Epoch 1/40\n",
      "1500/1500 [==============================] - 5s 3ms/step - loss: 0.6838 - accuracy: 0.7449 - val_loss: 0.5725 - val_accuracy: 0.7909\n",
      "Epoch 2/40\n",
      "1500/1500 [==============================] - 2s 1ms/step - loss: 0.4727 - accuracy: 0.8285 - val_loss: 0.6079 - val_accuracy: 0.7731\n",
      "Epoch 3/40\n",
      "1500/1500 [==============================] - 2s 1ms/step - loss: 0.4322 - accuracy: 0.8420 - val_loss: 0.4225 - val_accuracy: 0.8493\n",
      "Epoch 4/40\n",
      "1500/1500 [==============================] - 2s 1ms/step - loss: 0.4057 - accuracy: 0.8509 - val_loss: 0.4101 - val_accuracy: 0.8511\n",
      "Epoch 5/40\n",
      "1500/1500 [==============================] - 2s 1ms/step - loss: 0.3905 - accuracy: 0.8559 - val_loss: 0.4608 - val_accuracy: 0.8411\n",
      "Epoch 6/40\n",
      "1500/1500 [==============================] - 2s 1ms/step - loss: 0.3817 - accuracy: 0.8597 - val_loss: 0.4039 - val_accuracy: 0.8508\n",
      "Epoch 7/40\n",
      "1500/1500 [==============================] - 2s 1ms/step - loss: 0.3700 - accuracy: 0.8640 - val_loss: 0.4203 - val_accuracy: 0.8481\n",
      "Epoch 8/40\n",
      "1500/1500 [==============================] - 2s 1ms/step - loss: 0.3617 - accuracy: 0.8663 - val_loss: 0.3952 - val_accuracy: 0.8591\n",
      "Epoch 9/40\n",
      "1500/1500 [==============================] - 2s 1ms/step - loss: 0.3514 - accuracy: 0.8716 - val_loss: 0.3736 - val_accuracy: 0.8667\n",
      "Epoch 10/40\n",
      "1500/1500 [==============================] - 2s 1ms/step - loss: 0.3446 - accuracy: 0.8721 - val_loss: 0.3986 - val_accuracy: 0.8643\n",
      "Epoch 11/40\n",
      "1500/1500 [==============================] - 2s 1ms/step - loss: 0.3392 - accuracy: 0.8745 - val_loss: 0.4075 - val_accuracy: 0.8579\n",
      "Epoch 12/40\n",
      "1500/1500 [==============================] - 2s 1ms/step - loss: 0.3330 - accuracy: 0.8771 - val_loss: 0.3894 - val_accuracy: 0.8633\n",
      "Epoch 13/40\n",
      "1500/1500 [==============================] - 2s 1ms/step - loss: 0.3303 - accuracy: 0.8770 - val_loss: 0.3837 - val_accuracy: 0.8687\n",
      "Epoch 14/40\n",
      "1500/1500 [==============================] - 2s 1ms/step - loss: 0.3231 - accuracy: 0.8806 - val_loss: 0.3839 - val_accuracy: 0.8667\n",
      "Epoch 15/40\n",
      "1500/1500 [==============================] - 2s 1ms/step - loss: 0.3186 - accuracy: 0.8808 - val_loss: 0.3664 - val_accuracy: 0.8719\n",
      "Epoch 16/40\n",
      "1500/1500 [==============================] - 3s 2ms/step - loss: 0.3168 - accuracy: 0.8824 - val_loss: 0.4348 - val_accuracy: 0.8496\n",
      "Epoch 17/40\n",
      "1500/1500 [==============================] - 2s 2ms/step - loss: 0.3132 - accuracy: 0.8841 - val_loss: 0.3627 - val_accuracy: 0.8755\n",
      "Epoch 18/40\n",
      "1500/1500 [==============================] - 2s 2ms/step - loss: 0.3073 - accuracy: 0.8869 - val_loss: 0.3607 - val_accuracy: 0.8765\n",
      "Epoch 19/40\n",
      "1500/1500 [==============================] - 3s 2ms/step - loss: 0.3036 - accuracy: 0.8875 - val_loss: 0.4454 - val_accuracy: 0.8443\n",
      "Epoch 20/40\n",
      "1500/1500 [==============================] - 2s 1ms/step - loss: 0.3020 - accuracy: 0.8870 - val_loss: 0.3749 - val_accuracy: 0.8745\n",
      "Epoch 21/40\n",
      "1500/1500 [==============================] - 2s 2ms/step - loss: 0.2990 - accuracy: 0.8881 - val_loss: 0.3863 - val_accuracy: 0.8725\n",
      "Epoch 22/40\n",
      "1500/1500 [==============================] - 2s 1ms/step - loss: 0.2930 - accuracy: 0.8903 - val_loss: 0.4064 - val_accuracy: 0.8602\n",
      "Epoch 23/40\n",
      "1500/1500 [==============================] - 2s 1ms/step - loss: 0.2922 - accuracy: 0.8898 - val_loss: 0.3827 - val_accuracy: 0.8728\n",
      "Epoch 24/40\n",
      "1500/1500 [==============================] - 3s 2ms/step - loss: 0.2876 - accuracy: 0.8908 - val_loss: 0.4093 - val_accuracy: 0.8597\n",
      "Epoch 25/40\n",
      "1500/1500 [==============================] - 3s 2ms/step - loss: 0.2827 - accuracy: 0.8939 - val_loss: 0.3903 - val_accuracy: 0.8678\n",
      "Epoch 26/40\n",
      "1500/1500 [==============================] - 3s 2ms/step - loss: 0.2870 - accuracy: 0.8939 - val_loss: 0.3831 - val_accuracy: 0.8729\n",
      "Epoch 27/40\n",
      "1500/1500 [==============================] - 3s 2ms/step - loss: 0.2779 - accuracy: 0.8943 - val_loss: 0.3901 - val_accuracy: 0.8711\n",
      "Epoch 28/40\n",
      "1500/1500 [==============================] - 2s 1ms/step - loss: 0.2805 - accuracy: 0.8952 - val_loss: 0.4239 - val_accuracy: 0.8542\n",
      "Epoch 29/40\n",
      "1500/1500 [==============================] - 2s 1ms/step - loss: 0.2761 - accuracy: 0.8969 - val_loss: 0.3920 - val_accuracy: 0.8712\n",
      "Epoch 30/40\n",
      "1500/1500 [==============================] - 2s 1ms/step - loss: 0.2747 - accuracy: 0.8960 - val_loss: 0.3985 - val_accuracy: 0.8754\n",
      "Epoch 31/40\n",
      "1500/1500 [==============================] - 2s 1ms/step - loss: 0.2721 - accuracy: 0.8986 - val_loss: 0.4221 - val_accuracy: 0.8652\n",
      "Epoch 32/40\n",
      "1500/1500 [==============================] - 2s 1ms/step - loss: 0.2716 - accuracy: 0.8982 - val_loss: 0.4111 - val_accuracy: 0.8729\n",
      "Epoch 33/40\n",
      "1500/1500 [==============================] - 2s 1ms/step - loss: 0.2675 - accuracy: 0.9007 - val_loss: 0.3858 - val_accuracy: 0.8764\n",
      "Epoch 34/40\n",
      "1500/1500 [==============================] - 2s 1ms/step - loss: 0.2669 - accuracy: 0.8997 - val_loss: 0.4713 - val_accuracy: 0.8574\n",
      "Epoch 35/40\n",
      "1500/1500 [==============================] - 2s 1ms/step - loss: 0.2848 - accuracy: 0.8957 - val_loss: 0.3829 - val_accuracy: 0.8748\n",
      "Epoch 36/40\n",
      "1500/1500 [==============================] - 2s 1ms/step - loss: 0.2672 - accuracy: 0.9005 - val_loss: 0.4410 - val_accuracy: 0.8651\n",
      "Epoch 37/40\n",
      "1500/1500 [==============================] - 2s 1ms/step - loss: 0.2652 - accuracy: 0.9016 - val_loss: 0.4207 - val_accuracy: 0.8723\n",
      "Epoch 38/40\n",
      "1500/1500 [==============================] - 2s 1ms/step - loss: 0.2590 - accuracy: 0.9036 - val_loss: 0.4044 - val_accuracy: 0.8702\n"
     ]
    }
   ],
   "source": [
    "model=model_()\n",
    "model.compile(loss=\"sparse_categorical_crossentropy\",\n",
    "              optimizer=keras.optimizers.SGD(learning_rate=3e-1),\n",
    "              metrics=[\"accuracy\"])\n",
    "\n",
    "early_stopping_cb = keras.callbacks.EarlyStopping(patience=20)\n",
    "checkpoint_cb = keras.callbacks.ModelCheckpoint(\"my_mnist_model.h5\", save_best_only=True)\n",
    "tensorboard_cb = keras.callbacks.TensorBoard(run_logdir)\n",
    "\n",
    "history = model.fit(X_train, y_train, epochs=40,\n",
    "                    validation_data=(X_valid, y_valid),\n",
    "                    callbacks=[checkpoint_cb, early_stopping_cb, tensorboard_cb])"
   ]
  },
  {
   "cell_type": "code",
   "execution_count": 21,
   "metadata": {},
   "outputs": [
    {
     "name": "stdout",
     "output_type": "stream",
     "text": [
      "1500/1500 [==============================] - 1s 985us/step - loss: 0.2507 - accuracy: 0.9047\n",
      "Train      [0.2506762146949768, 0.9046875238418579]\n",
      "375/375 [==============================] - 0s 953us/step - loss: 0.4044 - accuracy: 0.8702\n",
      "Validation [0.4043923020362854, 0.8701666593551636]\n",
      "313/313 [==============================] - 1s 1ms/step - loss: 0.4255 - accuracy: 0.8658\n",
      "Test       [0.42553281784057617, 0.8658000230789185]\n"
     ]
    }
   ],
   "source": [
    "print_accuracy()"
   ]
  },
  {
   "cell_type": "markdown",
   "metadata": {},
   "source": [
    "we got less accuracy. Sometimes it could be. But this shouldnt may couse you give up from this tricks."
   ]
  },
  {
   "cell_type": "code",
   "execution_count": null,
   "metadata": {},
   "outputs": [],
   "source": []
  },
  {
   "cell_type": "markdown",
   "metadata": {},
   "source": [
    "Now... Let's try other hyperparameter sets. We can do this in multiple ways. \n",
    "\n",
    "First: \n",
    "\n",
    "***GridSearchCV:*** This way does not make GPU acceleration. That's bad. \n",
    "\n",
    "***Hyperas:*** This way enable GPU acceleration. And enabling 10x fast and also easyer than GridSearch. \n",
    "\n",
    "I will apply GridSeachCV first, than apply Hyperas. "
   ]
  },
  {
   "cell_type": "code",
   "execution_count": 23,
   "metadata": {
    "collapsed": true,
    "jupyter": {
     "outputs_hidden": true
    }
   },
   "outputs": [
    {
     "name": "stdout",
     "output_type": "stream",
     "text": [
      "Epoch 1/40\n",
      "1500/1500 [==============================] - 5s 3ms/step - loss: 1.6279 - accuracy: 0.3110 - val_loss: 1.3649 - val_accuracy: 0.4055\n",
      "Epoch 2/40\n",
      "1500/1500 [==============================] - 2s 2ms/step - loss: 2.0885 - accuracy: 0.1740 - val_loss: 2.3040 - val_accuracy: 0.1004\n",
      "Epoch 3/40\n",
      "1500/1500 [==============================] - 3s 2ms/step - loss: 2.3051 - accuracy: 0.0990 - val_loss: 2.3042 - val_accuracy: 0.1002\n",
      "Epoch 4/40\n",
      "1500/1500 [==============================] - 3s 2ms/step - loss: 2.3049 - accuracy: 0.0990 - val_loss: 2.3053 - val_accuracy: 0.1002\n",
      "Epoch 5/40\n",
      "1500/1500 [==============================] - 2s 2ms/step - loss: 2.3049 - accuracy: 0.0990 - val_loss: 2.3044 - val_accuracy: 0.1002\n",
      "Epoch 6/40\n",
      "1500/1500 [==============================] - 2s 1ms/step - loss: 2.3049 - accuracy: 0.1011 - val_loss: 2.3040 - val_accuracy: 0.0966\n",
      "Epoch 1/40\n",
      "1000/1000 [==============================] - 3s 3ms/step - loss: 1.2372 - accuracy: 0.5286 - val_loss: 0.9557 - val_accuracy: 0.5891\n",
      "Epoch 2/40\n",
      "1000/1000 [==============================] - 1s 1ms/step - loss: 0.8568 - accuracy: 0.6667 - val_loss: 0.9771 - val_accuracy: 0.6207\n",
      "Epoch 3/40\n",
      "1000/1000 [==============================] - 1s 1ms/step - loss: 0.8149 - accuracy: 0.6830 - val_loss: 1.3890 - val_accuracy: 0.4892\n",
      "Epoch 4/40\n",
      "1000/1000 [==============================] - 1s 1ms/step - loss: 0.8137 - accuracy: 0.6822 - val_loss: 0.7692 - val_accuracy: 0.7021\n",
      "Epoch 5/40\n",
      "1000/1000 [==============================] - 1s 1ms/step - loss: 0.7818 - accuracy: 0.6952 - val_loss: 0.9283 - val_accuracy: 0.6695\n",
      "Epoch 6/40\n",
      "1000/1000 [==============================] - 1s 1ms/step - loss: 1.2489 - accuracy: 0.5299 - val_loss: 1.9689 - val_accuracy: 0.2262\n",
      "Epoch 7/40\n",
      "1000/1000 [==============================] - 1s 1ms/step - loss: 1.7063 - accuracy: 0.2879 - val_loss: 1.4366 - val_accuracy: 0.3511\n",
      "Epoch 8/40\n",
      "1000/1000 [==============================] - 1s 1ms/step - loss: 1.7582 - accuracy: 0.2401 - val_loss: 1.4692 - val_accuracy: 0.3520\n",
      "Epoch 9/40\n",
      "1000/1000 [==============================] - 2s 2ms/step - loss: 1.3143 - accuracy: 0.4277 - val_loss: 1.2086 - val_accuracy: 0.4470\n",
      "500/500 [==============================] - 0s 860us/step - loss: 1.1965 - accuracy: 0.4536\n",
      "Epoch 1/40\n",
      "1000/1000 [==============================] - 2s 2ms/step - loss: 1.1877 - accuracy: 0.5222 - val_loss: 1.0515 - val_accuracy: 0.5630\n",
      "Epoch 2/40\n",
      "1000/1000 [==============================] - 1s 1ms/step - loss: 1.0017 - accuracy: 0.5788 - val_loss: 1.1197 - val_accuracy: 0.5620\n",
      "Epoch 3/40\n",
      "1000/1000 [==============================] - 1s 1ms/step - loss: 1.0337 - accuracy: 0.5527 - val_loss: 1.0450 - val_accuracy: 0.5263\n",
      "Epoch 4/40\n",
      "1000/1000 [==============================] - 1s 1ms/step - loss: 1.0602 - accuracy: 0.5354 - val_loss: 1.0105 - val_accuracy: 0.5485\n",
      "Epoch 5/40\n",
      "1000/1000 [==============================] - 1s 1ms/step - loss: 0.9790 - accuracy: 0.5907 - val_loss: 1.5445 - val_accuracy: 0.4701\n",
      "Epoch 6/40\n",
      "1000/1000 [==============================] - 1s 1ms/step - loss: 0.9522 - accuracy: 0.5938 - val_loss: 0.8842 - val_accuracy: 0.6117\n",
      "Epoch 7/40\n",
      "1000/1000 [==============================] - 1s 1ms/step - loss: 0.9707 - accuracy: 0.5890 - val_loss: 1.0299 - val_accuracy: 0.5200\n",
      "Epoch 8/40\n",
      "1000/1000 [==============================] - 1s 1ms/step - loss: 1.0365 - accuracy: 0.5459 - val_loss: 0.9951 - val_accuracy: 0.5642\n",
      "Epoch 9/40\n",
      "1000/1000 [==============================] - 2s 2ms/step - loss: 1.0145 - accuracy: 0.5473 - val_loss: 0.9708 - val_accuracy: 0.5443\n",
      "Epoch 10/40\n",
      "1000/1000 [==============================] - 1s 1ms/step - loss: 1.0072 - accuracy: 0.5576 - val_loss: 1.0438 - val_accuracy: 0.5416\n",
      "Epoch 11/40\n",
      "1000/1000 [==============================] - 1s 1ms/step - loss: 1.0891 - accuracy: 0.5253 - val_loss: 1.0170 - val_accuracy: 0.5512\n",
      "500/500 [==============================] - 0s 795us/step - loss: 1.0034 - accuracy: 0.5574\n",
      "Epoch 1/40\n",
      "1000/1000 [==============================] - 3s 2ms/step - loss: 1.2038 - accuracy: 0.5300 - val_loss: 0.7845 - val_accuracy: 0.6973\n",
      "Epoch 2/40\n",
      "1000/1000 [==============================] - 1s 994us/step - loss: 0.7906 - accuracy: 0.6868 - val_loss: 0.7428 - val_accuracy: 0.7006\n",
      "Epoch 3/40\n",
      "1000/1000 [==============================] - 1s 1ms/step - loss: 0.7931 - accuracy: 0.6895 - val_loss: 0.7451 - val_accuracy: 0.7040 loss: 0.8086 - ac\n",
      "Epoch 4/40\n",
      "1000/1000 [==============================] - 1s 1ms/step - loss: 0.7248 - accuracy: 0.7135 - val_loss: 0.7093 - val_accuracy: 0.7193\n",
      "Epoch 5/40\n",
      "1000/1000 [==============================] - 1s 1ms/step - loss: 0.7129 - accuracy: 0.7143 - val_loss: 1.4211 - val_accuracy: 0.5941\n",
      "Epoch 6/40\n",
      "1000/1000 [==============================] - 1s 1ms/step - loss: 0.7607 - accuracy: 0.6958 - val_loss: 0.7096 - val_accuracy: 0.7087\n",
      "Epoch 7/40\n",
      "1000/1000 [==============================] - 2s 2ms/step - loss: 0.8904 - accuracy: 0.6359 - val_loss: 1.2369 - val_accuracy: 0.5502\n",
      "Epoch 8/40\n",
      "1000/1000 [==============================] - 1s 1ms/step - loss: 1.1312 - accuracy: 0.5167 - val_loss: 1.2238 - val_accuracy: 0.4572\n",
      "Epoch 9/40\n",
      "1000/1000 [==============================] - 1s 1ms/step - loss: 1.2573 - accuracy: 0.4898 - val_loss: 1.5469 - val_accuracy: 0.3624\n",
      "500/500 [==============================] - 0s 773us/step - loss: 1.5366 - accuracy: 0.3623\n",
      "Epoch 1/40\n",
      "1000/1000 [==============================] - 3s 2ms/step - loss: 0.8578 - accuracy: 0.6604 - val_loss: 0.7138 - val_accuracy: 0.7096\n",
      "Epoch 2/40\n",
      "1000/1000 [==============================] - 2s 2ms/step - loss: 0.5968 - accuracy: 0.7736 - val_loss: 0.5546 - val_accuracy: 0.7943\n",
      "Epoch 3/40\n",
      "1000/1000 [==============================] - 1s 1ms/step - loss: 0.5328 - accuracy: 0.8089 - val_loss: 0.5304 - val_accuracy: 0.8140\n",
      "Epoch 4/40\n",
      "1000/1000 [==============================] - 1s 1ms/step - loss: 0.4918 - accuracy: 0.8284 - val_loss: 0.4811 - val_accuracy: 0.8378\n",
      "Epoch 5/40\n",
      "1000/1000 [==============================] - 1s 1ms/step - loss: 0.4668 - accuracy: 0.8375 - val_loss: 0.4964 - val_accuracy: 0.8270\n",
      "Epoch 6/40\n",
      "1000/1000 [==============================] - 1s 1ms/step - loss: 0.4541 - accuracy: 0.8410 - val_loss: 0.4536 - val_accuracy: 0.8414\n",
      "Epoch 7/40\n",
      "1000/1000 [==============================] - 1s 1ms/step - loss: 0.4444 - accuracy: 0.8441 - val_loss: 0.4561 - val_accuracy: 0.8367\n",
      "Epoch 8/40\n",
      "1000/1000 [==============================] - 1s 1ms/step - loss: 0.4327 - accuracy: 0.8496 - val_loss: 0.4939 - val_accuracy: 0.8374\n",
      "Epoch 9/40\n",
      "1000/1000 [==============================] - 2s 2ms/step - loss: 0.4266 - accuracy: 0.8513 - val_loss: 0.4552 - val_accuracy: 0.8418\n",
      "Epoch 10/40\n",
      "1000/1000 [==============================] - 2s 2ms/step - loss: 0.4208 - accuracy: 0.8525 - val_loss: 0.4650 - val_accuracy: 0.8381\n",
      "Epoch 11/40\n",
      "1000/1000 [==============================] - 2s 2ms/step - loss: 0.4131 - accuracy: 0.8546 - val_loss: 0.4477 - val_accuracy: 0.8438\n",
      "Epoch 12/40\n",
      "1000/1000 [==============================] - 2s 2ms/step - loss: 0.4099 - accuracy: 0.8560 - val_loss: 0.4405 - val_accuracy: 0.8467\n",
      "Epoch 13/40\n",
      "1000/1000 [==============================] - 2s 2ms/step - loss: 0.4060 - accuracy: 0.8580 - val_loss: 0.4440 - val_accuracy: 0.8538\n",
      "Epoch 14/40\n",
      "1000/1000 [==============================] - 1s 1ms/step - loss: 0.4049 - accuracy: 0.8581 - val_loss: 0.4717 - val_accuracy: 0.8440\n",
      "Epoch 15/40\n",
      "1000/1000 [==============================] - 1s 1ms/step - loss: 0.4006 - accuracy: 0.8589 - val_loss: 0.4381 - val_accuracy: 0.8538\n",
      "Epoch 16/40\n",
      "1000/1000 [==============================] - 1s 1ms/step - loss: 0.4006 - accuracy: 0.8614 - val_loss: 0.4578 - val_accuracy: 0.8480\n",
      "Epoch 17/40\n",
      "1000/1000 [==============================] - 1s 1ms/step - loss: 0.3950 - accuracy: 0.8620 - val_loss: 0.4811 - val_accuracy: 0.8355\n",
      "Epoch 18/40\n",
      "1000/1000 [==============================] - 2s 2ms/step - loss: 0.3883 - accuracy: 0.8635 - val_loss: 0.4295 - val_accuracy: 0.8538\n",
      "Epoch 19/40\n",
      "1000/1000 [==============================] - 2s 2ms/step - loss: 0.3884 - accuracy: 0.8642 - val_loss: 0.4603 - val_accuracy: 0.8468\n",
      "Epoch 20/40\n",
      "1000/1000 [==============================] - 1s 1ms/step - loss: 0.3837 - accuracy: 0.8632 - val_loss: 0.4447 - val_accuracy: 0.8500\n",
      "Epoch 21/40\n",
      "1000/1000 [==============================] - 1s 1ms/step - loss: 0.3809 - accuracy: 0.8643 - val_loss: 0.4428 - val_accuracy: 0.8470\n",
      "Epoch 22/40\n",
      "1000/1000 [==============================] - 1s 1ms/step - loss: 0.3793 - accuracy: 0.8629 - val_loss: 0.4535 - val_accuracy: 0.8504\n",
      "Epoch 23/40\n",
      "1000/1000 [==============================] - 1s 1ms/step - loss: 0.3786 - accuracy: 0.8651 - val_loss: 0.4283 - val_accuracy: 0.8568\n",
      "Epoch 24/40\n",
      "1000/1000 [==============================] - 2s 2ms/step - loss: 0.3795 - accuracy: 0.8661 - val_loss: 0.4459 - val_accuracy: 0.8461\n",
      "Epoch 25/40\n",
      "1000/1000 [==============================] - 2s 2ms/step - loss: 0.3738 - accuracy: 0.8687 - val_loss: 0.4287 - val_accuracy: 0.8564\n",
      "Epoch 26/40\n",
      "1000/1000 [==============================] - 2s 2ms/step - loss: 0.3752 - accuracy: 0.8701 - val_loss: 0.4522 - val_accuracy: 0.8508\n",
      "Epoch 27/40\n",
      "1000/1000 [==============================] - 2s 2ms/step - loss: 0.3706 - accuracy: 0.8694 - val_loss: 0.4526 - val_accuracy: 0.8489\n",
      "Epoch 28/40\n",
      "1000/1000 [==============================] - 2s 2ms/step - loss: 0.3616 - accuracy: 0.8714 - val_loss: 0.4797 - val_accuracy: 0.8447\n",
      "500/500 [==============================] - 1s 1ms/step - loss: 0.4737 - accuracy: 0.8512\n",
      "Epoch 1/40\n",
      "1000/1000 [==============================] - 3s 3ms/step - loss: 0.8486 - accuracy: 0.6786 - val_loss: 0.6135 - val_accuracy: 0.7700\n",
      "Epoch 2/40\n",
      "1000/1000 [==============================] - 2s 2ms/step - loss: 0.5825 - accuracy: 0.7873 - val_loss: 0.6473 - val_accuracy: 0.7822\n",
      "Epoch 3/40\n",
      "1000/1000 [==============================] - 2s 2ms/step - loss: 0.5347 - accuracy: 0.8056 - val_loss: 0.5473 - val_accuracy: 0.7989\n",
      "Epoch 4/40\n",
      "1000/1000 [==============================] - 2s 2ms/step - loss: 0.5071 - accuracy: 0.8184 - val_loss: 0.5020 - val_accuracy: 0.8230\n",
      "Epoch 5/40\n",
      "1000/1000 [==============================] - 2s 2ms/step - loss: 0.4840 - accuracy: 0.8249 - val_loss: 0.4617 - val_accuracy: 0.8358\n",
      "Epoch 6/40\n",
      "1000/1000 [==============================] - 1s 1ms/step - loss: 0.4665 - accuracy: 0.8314 - val_loss: 0.5080 - val_accuracy: 0.8256\n",
      "Epoch 7/40\n",
      "1000/1000 [==============================] - 2s 2ms/step - loss: 0.4585 - accuracy: 0.8367 - val_loss: 0.5100 - val_accuracy: 0.8170\n",
      "Epoch 8/40\n",
      "1000/1000 [==============================] - 2s 2ms/step - loss: 0.4477 - accuracy: 0.8396 - val_loss: 0.5160 - val_accuracy: 0.8223\n",
      "Epoch 9/40\n",
      "1000/1000 [==============================] - 1s 1ms/step - loss: 0.4397 - accuracy: 0.8440 - val_loss: 0.5348 - val_accuracy: 0.8198\n",
      "Epoch 10/40\n",
      "1000/1000 [==============================] - 1s 1ms/step - loss: 0.4320 - accuracy: 0.8465 - val_loss: 0.4764 - val_accuracy: 0.8343\n",
      "500/500 [==============================] - 0s 867us/step - loss: 0.4676 - accuracy: 0.8342\n",
      "Epoch 1/40\n",
      "1000/1000 [==============================] - 3s 3ms/step - loss: 1.0514 - accuracy: 0.5866 - val_loss: 0.7108 - val_accuracy: 0.7265\n",
      "Epoch 2/40\n",
      "1000/1000 [==============================] - 1s 1ms/step - loss: 0.6900 - accuracy: 0.7289 - val_loss: 0.6369 - val_accuracy: 0.7461\n",
      "Epoch 3/40\n",
      "1000/1000 [==============================] - 1s 1ms/step - loss: 0.6070 - accuracy: 0.7750 - val_loss: 0.5920 - val_accuracy: 0.7981\n",
      "Epoch 4/40\n",
      "1000/1000 [==============================] - 1s 1ms/step - loss: 0.5445 - accuracy: 0.8055 - val_loss: 0.5247 - val_accuracy: 0.7875\n",
      "Epoch 5/40\n",
      "1000/1000 [==============================] - 1s 1ms/step - loss: 0.5199 - accuracy: 0.8150 - val_loss: 0.5085 - val_accuracy: 0.8116\n",
      "Epoch 6/40\n",
      "1000/1000 [==============================] - 1s 1ms/step - loss: 0.4938 - accuracy: 0.8246 - val_loss: 0.4925 - val_accuracy: 0.8223\n",
      "Epoch 7/40\n",
      "1000/1000 [==============================] - 2s 2ms/step - loss: 0.4701 - accuracy: 0.8329 - val_loss: 0.4979 - val_accuracy: 0.8273\n",
      "Epoch 8/40\n",
      "1000/1000 [==============================] - 2s 2ms/step - loss: 0.4541 - accuracy: 0.8388 - val_loss: 0.4636 - val_accuracy: 0.8371\n",
      "Epoch 9/40\n",
      "1000/1000 [==============================] - 1s 1ms/step - loss: 0.4458 - accuracy: 0.8411 - val_loss: 0.5707 - val_accuracy: 0.8207\n",
      "Epoch 10/40\n",
      "1000/1000 [==============================] - 1s 1ms/step - loss: 0.4312 - accuracy: 0.8453 - val_loss: 0.4813 - val_accuracy: 0.8265\n",
      "Epoch 11/40\n",
      "1000/1000 [==============================] - 1s 1ms/step - loss: 0.4276 - accuracy: 0.8466 - val_loss: 0.4538 - val_accuracy: 0.8468\n",
      "Epoch 12/40\n",
      "1000/1000 [==============================] - 1s 1ms/step - loss: 0.4229 - accuracy: 0.8475 - val_loss: 0.4920 - val_accuracy: 0.8306\n",
      "Epoch 13/40\n",
      "1000/1000 [==============================] - 1s 1ms/step - loss: 0.4160 - accuracy: 0.8485 - val_loss: 0.4889 - val_accuracy: 0.8357\n",
      "Epoch 14/40\n",
      "1000/1000 [==============================] - 1s 1ms/step - loss: 0.4112 - accuracy: 0.8538 - val_loss: 0.5968 - val_accuracy: 0.8020\n",
      "Epoch 15/40\n",
      "1000/1000 [==============================] - 1s 1ms/step - loss: 0.4052 - accuracy: 0.8522 - val_loss: 0.4707 - val_accuracy: 0.8307\n",
      "Epoch 16/40\n",
      "1000/1000 [==============================] - 1s 1ms/step - loss: 0.4037 - accuracy: 0.8561 - val_loss: 0.5056 - val_accuracy: 0.8292\n",
      "500/500 [==============================] - 0s 846us/step - loss: 0.5087 - accuracy: 0.8268\n",
      "Epoch 1/40\n",
      "1000/1000 [==============================] - 4s 4ms/step - loss: 1.0353 - accuracy: 0.5999 - val_loss: 0.7002 - val_accuracy: 0.6985\n",
      "Epoch 2/40\n",
      "1000/1000 [==============================] - 2s 2ms/step - loss: 0.6044 - accuracy: 0.7771 - val_loss: 0.5510 - val_accuracy: 0.8088\n",
      "Epoch 3/40\n",
      "1000/1000 [==============================] - 2s 2ms/step - loss: 0.5373 - accuracy: 0.8042 - val_loss: 0.5845 - val_accuracy: 0.7958\n",
      "Epoch 4/40\n",
      "1000/1000 [==============================] - 2s 2ms/step - loss: 0.4973 - accuracy: 0.8227 - val_loss: 0.4730 - val_accuracy: 0.8332\n",
      "Epoch 5/40\n",
      "1000/1000 [==============================] - 1s 1ms/step - loss: 0.4745 - accuracy: 0.8310 - val_loss: 0.4829 - val_accuracy: 0.8275\n",
      "Epoch 6/40\n",
      "1000/1000 [==============================] - 1s 1ms/step - loss: 0.4597 - accuracy: 0.8357 - val_loss: 0.4705 - val_accuracy: 0.8282\n",
      "Epoch 7/40\n",
      "1000/1000 [==============================] - 2s 2ms/step - loss: 0.4371 - accuracy: 0.8439 - val_loss: 0.4871 - val_accuracy: 0.8145\n",
      "Epoch 8/40\n",
      "1000/1000 [==============================] - 2s 2ms/step - loss: 0.4340 - accuracy: 0.8446 - val_loss: 0.4352 - val_accuracy: 0.8427\n",
      "Epoch 9/40\n",
      "1000/1000 [==============================] - 2s 2ms/step - loss: 0.4227 - accuracy: 0.8474 - val_loss: 0.4649 - val_accuracy: 0.8388\n",
      "Epoch 10/40\n",
      "1000/1000 [==============================] - 2s 2ms/step - loss: 0.4118 - accuracy: 0.8528 - val_loss: 0.4183 - val_accuracy: 0.8545\n",
      "Epoch 11/40\n",
      "1000/1000 [==============================] - 2s 2ms/step - loss: 0.3990 - accuracy: 0.8558 - val_loss: 0.4403 - val_accuracy: 0.8433\n",
      "Epoch 12/40\n",
      "1000/1000 [==============================] - 2s 2ms/step - loss: 0.3908 - accuracy: 0.8579 - val_loss: 0.4365 - val_accuracy: 0.8438\n",
      "Epoch 13/40\n",
      "1000/1000 [==============================] - 2s 2ms/step - loss: 0.3866 - accuracy: 0.8578 - val_loss: 0.4463 - val_accuracy: 0.8435\n",
      "Epoch 14/40\n",
      "1000/1000 [==============================] - 2s 2ms/step - loss: 0.3797 - accuracy: 0.8608 - val_loss: 0.4125 - val_accuracy: 0.8551\n",
      "Epoch 15/40\n",
      "1000/1000 [==============================] - 2s 2ms/step - loss: 0.3764 - accuracy: 0.8629 - val_loss: 0.4573 - val_accuracy: 0.8360\n",
      "Epoch 16/40\n",
      "1000/1000 [==============================] - 2s 2ms/step - loss: 0.3695 - accuracy: 0.8673 - val_loss: 0.4076 - val_accuracy: 0.8592\n",
      "Epoch 17/40\n",
      "1000/1000 [==============================] - 2s 2ms/step - loss: 0.3651 - accuracy: 0.8675 - val_loss: 0.4163 - val_accuracy: 0.8570\n",
      "Epoch 18/40\n",
      "1000/1000 [==============================] - 2s 2ms/step - loss: 0.3681 - accuracy: 0.8650 - val_loss: 0.4554 - val_accuracy: 0.8341\n",
      "Epoch 19/40\n",
      "1000/1000 [==============================] - 2s 2ms/step - loss: 0.3622 - accuracy: 0.8688 - val_loss: 0.4306 - val_accuracy: 0.8558\n",
      "Epoch 20/40\n",
      "1000/1000 [==============================] - 2s 2ms/step - loss: 0.3592 - accuracy: 0.8692 - val_loss: 0.4254 - val_accuracy: 0.8531\n",
      "Epoch 21/40\n",
      "1000/1000 [==============================] - 1s 1ms/step - loss: 0.3497 - accuracy: 0.8718 - val_loss: 0.4337 - val_accuracy: 0.8496\n",
      "500/500 [==============================] - 0s 949us/step - loss: 0.4299 - accuracy: 0.8535\n",
      "Epoch 1/40\n",
      "1000/1000 [==============================] - 3s 2ms/step - loss: 1.0511 - accuracy: 0.5867 - val_loss: 0.6330 - val_accuracy: 0.7482\n",
      "Epoch 2/40\n",
      "1000/1000 [==============================] - 1s 1ms/step - loss: 0.6314 - accuracy: 0.7563 - val_loss: 0.6027 - val_accuracy: 0.7941\n",
      "Epoch 3/40\n",
      "1000/1000 [==============================] - 2s 2ms/step - loss: 0.5363 - accuracy: 0.8061 - val_loss: 0.5531 - val_accuracy: 0.7974\n",
      "Epoch 4/40\n",
      "1000/1000 [==============================] - 1s 1ms/step - loss: 0.4898 - accuracy: 0.8255 - val_loss: 0.4844 - val_accuracy: 0.8300\n",
      "Epoch 5/40\n",
      "1000/1000 [==============================] - 1s 1ms/step - loss: 0.4573 - accuracy: 0.8371 - val_loss: 0.4609 - val_accuracy: 0.8338\n",
      "Epoch 6/40\n",
      "1000/1000 [==============================] - 1s 1ms/step - loss: 0.4353 - accuracy: 0.8437 - val_loss: 0.4970 - val_accuracy: 0.8109\n",
      "Epoch 7/40\n",
      "1000/1000 [==============================] - 2s 2ms/step - loss: 0.4370 - accuracy: 0.8444 - val_loss: 0.4423 - val_accuracy: 0.8422\n",
      "Epoch 8/40\n",
      "1000/1000 [==============================] - 2s 2ms/step - loss: 0.4096 - accuracy: 0.8538 - val_loss: 0.4399 - val_accuracy: 0.8371\n",
      "Epoch 9/40\n",
      "1000/1000 [==============================] - 2s 2ms/step - loss: 0.4047 - accuracy: 0.8546 - val_loss: 0.4302 - val_accuracy: 0.8528\n",
      "Epoch 10/40\n",
      "1000/1000 [==============================] - 2s 2ms/step - loss: 0.3919 - accuracy: 0.8610 - val_loss: 0.4095 - val_accuracy: 0.8568\n",
      "Epoch 11/40\n",
      "1000/1000 [==============================] - 2s 2ms/step - loss: 0.3822 - accuracy: 0.8619 - val_loss: 0.4800 - val_accuracy: 0.8342\n",
      "Epoch 12/40\n",
      "1000/1000 [==============================] - 2s 2ms/step - loss: 0.3844 - accuracy: 0.8608 - val_loss: 0.4007 - val_accuracy: 0.8562\n",
      "Epoch 13/40\n",
      "1000/1000 [==============================] - 2s 2ms/step - loss: 0.3827 - accuracy: 0.8615 - val_loss: 0.4316 - val_accuracy: 0.8461\n",
      "Epoch 14/40\n",
      "1000/1000 [==============================] - 2s 2ms/step - loss: 0.3671 - accuracy: 0.8663 - val_loss: 0.4202 - val_accuracy: 0.8523\n",
      "Epoch 15/40\n",
      "1000/1000 [==============================] - 2s 2ms/step - loss: 0.3612 - accuracy: 0.8669 - val_loss: 0.4513 - val_accuracy: 0.8396\n",
      "Epoch 16/40\n",
      "1000/1000 [==============================] - 2s 2ms/step - loss: 0.3597 - accuracy: 0.8700 - val_loss: 0.4143 - val_accuracy: 0.8574\n",
      "Epoch 17/40\n",
      "1000/1000 [==============================] - 2s 2ms/step - loss: 0.3578 - accuracy: 0.8699 - val_loss: 0.4222 - val_accuracy: 0.8508\n",
      "500/500 [==============================] - 0s 799us/step - loss: 0.4192 - accuracy: 0.8528\n",
      "Epoch 1/40\n",
      "1000/1000 [==============================] - 3s 3ms/step - loss: 1.0616 - accuracy: 0.5910 - val_loss: 0.7350 - val_accuracy: 0.6979\n",
      "Epoch 2/40\n",
      "1000/1000 [==============================] - 2s 2ms/step - loss: 0.6765 - accuracy: 0.7358 - val_loss: 0.6239 - val_accuracy: 0.7632\n",
      "Epoch 3/40\n",
      "1000/1000 [==============================] - 2s 2ms/step - loss: 0.5717 - accuracy: 0.7888 - val_loss: 0.5368 - val_accuracy: 0.8081\n",
      "Epoch 4/40\n",
      "1000/1000 [==============================] - 2s 2ms/step - loss: 0.5478 - accuracy: 0.8026 - val_loss: 0.5588 - val_accuracy: 0.7997\n",
      "Epoch 5/40\n",
      "1000/1000 [==============================] - 2s 2ms/step - loss: 0.5140 - accuracy: 0.8174 - val_loss: 0.5113 - val_accuracy: 0.8179\n",
      "Epoch 6/40\n",
      "1000/1000 [==============================] - 2s 2ms/step - loss: 0.5111 - accuracy: 0.8187 - val_loss: 0.5074 - val_accuracy: 0.8152\n",
      "Epoch 7/40\n",
      "1000/1000 [==============================] - 2s 2ms/step - loss: 0.4948 - accuracy: 0.8257 - val_loss: 0.5380 - val_accuracy: 0.8196\n",
      "Epoch 8/40\n",
      "1000/1000 [==============================] - 2s 2ms/step - loss: 0.4718 - accuracy: 0.8314 - val_loss: 0.6119 - val_accuracy: 0.7851\n",
      "Epoch 9/40\n",
      "1000/1000 [==============================] - 2s 2ms/step - loss: 0.4653 - accuracy: 0.8361 - val_loss: 0.5544 - val_accuracy: 0.8164\n",
      "Epoch 10/40\n",
      "1000/1000 [==============================] - 2s 2ms/step - loss: 0.4485 - accuracy: 0.8387 - val_loss: 0.4815 - val_accuracy: 0.8286\n",
      "Epoch 11/40\n",
      "1000/1000 [==============================] - 2s 2ms/step - loss: 0.4364 - accuracy: 0.8453 - val_loss: 0.4696 - val_accuracy: 0.8388\n",
      "Epoch 12/40\n",
      "1000/1000 [==============================] - 2s 2ms/step - loss: 0.4190 - accuracy: 0.8485 - val_loss: 0.5044 - val_accuracy: 0.8186\n",
      "Epoch 13/40\n",
      "1000/1000 [==============================] - 2s 2ms/step - loss: 0.4161 - accuracy: 0.8527 - val_loss: 0.4802 - val_accuracy: 0.8417\n",
      "Epoch 14/40\n",
      "1000/1000 [==============================] - 2s 2ms/step - loss: 0.3985 - accuracy: 0.8577 - val_loss: 0.4535 - val_accuracy: 0.8448\n",
      "Epoch 15/40\n",
      "1000/1000 [==============================] - 1s 1ms/step - loss: 0.3935 - accuracy: 0.8576 - val_loss: 0.4474 - val_accuracy: 0.8428\n",
      "Epoch 16/40\n",
      "1000/1000 [==============================] - 2s 2ms/step - loss: 0.3968 - accuracy: 0.8583 - val_loss: 0.4678 - val_accuracy: 0.8457\n",
      "Epoch 17/40\n",
      "1000/1000 [==============================] - 2s 2ms/step - loss: 0.3865 - accuracy: 0.8608 - val_loss: 0.4728 - val_accuracy: 0.8403\n",
      "Epoch 18/40\n",
      "1000/1000 [==============================] - 2s 2ms/step - loss: 0.3819 - accuracy: 0.8614 - val_loss: 0.4466 - val_accuracy: 0.8416\n",
      "Epoch 19/40\n",
      "1000/1000 [==============================] - 2s 2ms/step - loss: 0.3834 - accuracy: 0.8641 - val_loss: 0.4389 - val_accuracy: 0.8493\n",
      "Epoch 20/40\n",
      "1000/1000 [==============================] - 2s 2ms/step - loss: 0.3760 - accuracy: 0.8658 - val_loss: 0.4277 - val_accuracy: 0.8542\n",
      "Epoch 21/40\n",
      "1000/1000 [==============================] - 2s 2ms/step - loss: 0.3753 - accuracy: 0.8646 - val_loss: 0.4636 - val_accuracy: 0.8339\n",
      "Epoch 22/40\n",
      "1000/1000 [==============================] - 1s 1ms/step - loss: 0.3853 - accuracy: 0.8623 - val_loss: 0.5312 - val_accuracy: 0.8150\n",
      "Epoch 23/40\n",
      "1000/1000 [==============================] - 1s 1ms/step - loss: 0.3621 - accuracy: 0.8713 - val_loss: 0.4250 - val_accuracy: 0.8516\n",
      "Epoch 24/40\n",
      "1000/1000 [==============================] - 1s 1ms/step - loss: 0.3597 - accuracy: 0.8712 - val_loss: 0.4456 - val_accuracy: 0.8352\n",
      "Epoch 25/40\n",
      "1000/1000 [==============================] - 1s 1ms/step - loss: 0.3559 - accuracy: 0.8707 - val_loss: 0.4407 - val_accuracy: 0.8502\n",
      "Epoch 26/40\n",
      "1000/1000 [==============================] - 2s 2ms/step - loss: 0.3504 - accuracy: 0.8730 - val_loss: 0.4518 - val_accuracy: 0.8509\n",
      "Epoch 27/40\n",
      "1000/1000 [==============================] - 2s 2ms/step - loss: 0.3474 - accuracy: 0.8752 - val_loss: 0.4095 - val_accuracy: 0.8597\n",
      "Epoch 28/40\n",
      "1000/1000 [==============================] - 2s 2ms/step - loss: 0.3440 - accuracy: 0.8757 - val_loss: 0.4584 - val_accuracy: 0.8445\n",
      "Epoch 29/40\n",
      "1000/1000 [==============================] - 2s 2ms/step - loss: 0.3438 - accuracy: 0.8763 - val_loss: 0.4212 - val_accuracy: 0.8583\n",
      "Epoch 30/40\n",
      "1000/1000 [==============================] - 2s 2ms/step - loss: 0.3403 - accuracy: 0.8765 - val_loss: 0.4128 - val_accuracy: 0.8581\n",
      "Epoch 31/40\n",
      "1000/1000 [==============================] - 2s 2ms/step - loss: 0.3454 - accuracy: 0.8755 - val_loss: 0.4259 - val_accuracy: 0.8533\n",
      "Epoch 32/40\n",
      "1000/1000 [==============================] - 2s 2ms/step - loss: 0.3412 - accuracy: 0.8777 - val_loss: 0.4173 - val_accuracy: 0.8585\n",
      "500/500 [==============================] - 1s 1ms/step - loss: 0.4171 - accuracy: 0.8556\n",
      "Epoch 1/40\n",
      "1000/1000 [==============================] - 3s 3ms/step - loss: 1.3031 - accuracy: 0.4674 - val_loss: 0.9655 - val_accuracy: 0.6303\n",
      "Epoch 2/40\n",
      "1000/1000 [==============================] - 2s 2ms/step - loss: 0.8629 - accuracy: 0.6548 - val_loss: 0.8376 - val_accuracy: 0.6570\n",
      "Epoch 3/40\n",
      "1000/1000 [==============================] - 2s 2ms/step - loss: 0.7385 - accuracy: 0.6983 - val_loss: 0.7230 - val_accuracy: 0.6902\n",
      "Epoch 4/40\n",
      "1000/1000 [==============================] - 1s 1ms/step - loss: 0.9520 - accuracy: 0.6108 - val_loss: 0.9598 - val_accuracy: 0.6093\n",
      "Epoch 5/40\n",
      "1000/1000 [==============================] - 1s 1ms/step - loss: 1.9219 - accuracy: 0.5002 - val_loss: 1.6277 - val_accuracy: 0.2864\n",
      "Epoch 6/40\n",
      "1000/1000 [==============================] - 1s 996us/step - loss: 1.3844 - accuracy: 0.3575 - val_loss: 1.4279 - val_accuracy: 0.2869\n",
      "Epoch 7/40\n",
      "1000/1000 [==============================] - 1s 1ms/step - loss: 1.7284 - accuracy: 0.2239 - val_loss: 1.7330 - val_accuracy: 0.1983\n",
      "Epoch 8/40\n",
      "1000/1000 [==============================] - 1s 1ms/step - loss: 1.7193 - accuracy: 0.2155 - val_loss: 1.7491 - val_accuracy: 0.2048\n",
      "500/500 [==============================] - 0s 672us/step - loss: 1.7494 - accuracy: 0.2009\n",
      "Epoch 1/40\n",
      "1000/1000 [==============================] - 3s 3ms/step - loss: 1.6127 - accuracy: 0.2805 - val_loss: 1.6702 - val_accuracy: 0.2230\n",
      "Epoch 2/40\n",
      "1000/1000 [==============================] - 1s 1ms/step - loss: 1.5023 - accuracy: 0.3233 - val_loss: 1.3398 - val_accuracy: 0.4692\n",
      "Epoch 3/40\n",
      "1000/1000 [==============================] - 1s 1ms/step - loss: 1.5373 - accuracy: 0.3846 - val_loss: 1.5169 - val_accuracy: 0.2921\n",
      "Epoch 4/40\n",
      "1000/1000 [==============================] - 1s 1ms/step - loss: 1.5537 - accuracy: 0.2764 - val_loss: 1.5200 - val_accuracy: 0.2900\n",
      "Epoch 5/40\n",
      "1000/1000 [==============================] - 1s 1ms/step - loss: 1.4959 - accuracy: 0.2814 - val_loss: 1.4642 - val_accuracy: 0.2932\n",
      "Epoch 6/40\n",
      "1000/1000 [==============================] - 1s 1ms/step - loss: 1.5118 - accuracy: 0.2828 - val_loss: 1.4742 - val_accuracy: 0.2894\n",
      "Epoch 7/40\n",
      "1000/1000 [==============================] - 1s 1ms/step - loss: 1.4638 - accuracy: 0.2904 - val_loss: 1.4583 - val_accuracy: 0.2887\n",
      "500/500 [==============================] - 0s 638us/step - loss: 1.4512 - accuracy: 0.2865\n",
      "Epoch 1/40\n",
      "1000/1000 [==============================] - 3s 3ms/step - loss: 1.6642 - accuracy: 0.2806 - val_loss: 1.7158 - val_accuracy: 0.1982\n",
      "Epoch 2/40\n",
      "1000/1000 [==============================] - 1s 1ms/step - loss: 1.7707 - accuracy: 0.2136 - val_loss: 1.7640 - val_accuracy: 0.1892\n",
      "Epoch 3/40\n",
      "1000/1000 [==============================] - 1s 1ms/step - loss: 2.0154 - accuracy: 0.1496 - val_loss: 2.3058 - val_accuracy: 0.1002\n",
      "Epoch 4/40\n",
      "1000/1000 [==============================] - 1s 1ms/step - loss: 2.3142 - accuracy: 0.1026 - val_loss: 2.3230 - val_accuracy: 0.0997\n",
      "Epoch 5/40\n",
      "1000/1000 [==============================] - 1s 1ms/step - loss: 2.3134 - accuracy: 0.1009 - val_loss: 2.3086 - val_accuracy: 0.0997\n",
      "Epoch 6/40\n",
      "1000/1000 [==============================] - 1s 1ms/step - loss: 2.3120 - accuracy: 0.0990 - val_loss: 2.3128 - val_accuracy: 0.0997\n",
      "500/500 [==============================] - 0s 886us/step - loss: 2.3131 - accuracy: 0.0978\n",
      "Epoch 1/40\n",
      "1000/1000 [==============================] - 4s 4ms/step - loss: 1.0620 - accuracy: 0.5695 - val_loss: 0.7612 - val_accuracy: 0.6721\n",
      "Epoch 2/40\n",
      "1000/1000 [==============================] - 2s 2ms/step - loss: 0.6739 - accuracy: 0.7218 - val_loss: 0.6169 - val_accuracy: 0.7494\n",
      "Epoch 3/40\n",
      "1000/1000 [==============================] - 2s 2ms/step - loss: 0.6155 - accuracy: 0.7463 - val_loss: 0.6077 - val_accuracy: 0.7408\n",
      "Epoch 4/40\n",
      "1000/1000 [==============================] - 2s 2ms/step - loss: 0.5941 - accuracy: 0.7643 - val_loss: 0.5759 - val_accuracy: 0.7676\n",
      "Epoch 5/40\n",
      "1000/1000 [==============================] - 1s 1ms/step - loss: 0.5550 - accuracy: 0.7824 - val_loss: 0.6824 - val_accuracy: 0.7640\n",
      "Epoch 6/40\n",
      "1000/1000 [==============================] - 1s 1ms/step - loss: 0.5457 - accuracy: 0.7859 - val_loss: 0.5589 - val_accuracy: 0.7780\n",
      "Epoch 7/40\n",
      "1000/1000 [==============================] - 2s 2ms/step - loss: 0.5299 - accuracy: 0.7929 - val_loss: 0.5658 - val_accuracy: 0.7926\n",
      "Epoch 8/40\n",
      "1000/1000 [==============================] - 1s 1ms/step - loss: 0.5099 - accuracy: 0.7997 - val_loss: 0.5313 - val_accuracy: 0.8016\n",
      "Epoch 9/40\n",
      "1000/1000 [==============================] - 1s 1ms/step - loss: 0.5029 - accuracy: 0.8071 - val_loss: 0.5176 - val_accuracy: 0.8102\n",
      "Epoch 10/40\n",
      "1000/1000 [==============================] - 2s 2ms/step - loss: 0.4867 - accuracy: 0.8225 - val_loss: 0.4913 - val_accuracy: 0.8214\n",
      "Epoch 11/40\n",
      "1000/1000 [==============================] - 2s 2ms/step - loss: 0.4741 - accuracy: 0.8280 - val_loss: 0.5293 - val_accuracy: 0.8127\n",
      "Epoch 12/40\n",
      "1000/1000 [==============================] - 2s 2ms/step - loss: 0.4734 - accuracy: 0.8297 - val_loss: 0.4684 - val_accuracy: 0.8373\n",
      "Epoch 13/40\n",
      "1000/1000 [==============================] - 2s 2ms/step - loss: 0.4591 - accuracy: 0.8374 - val_loss: 0.4864 - val_accuracy: 0.8299\n",
      "Epoch 14/40\n",
      "1000/1000 [==============================] - 1s 1ms/step - loss: 0.4646 - accuracy: 0.8367 - val_loss: 0.4970 - val_accuracy: 0.8197\n",
      "Epoch 15/40\n",
      "1000/1000 [==============================] - 2s 2ms/step - loss: 0.4521 - accuracy: 0.8398 - val_loss: 0.4818 - val_accuracy: 0.8335\n",
      "Epoch 16/40\n",
      "1000/1000 [==============================] - 2s 2ms/step - loss: 0.4365 - accuracy: 0.8456 - val_loss: 0.4655 - val_accuracy: 0.8452\n",
      "Epoch 17/40\n",
      "1000/1000 [==============================] - 2s 2ms/step - loss: 0.4400 - accuracy: 0.8440 - val_loss: 0.4780 - val_accuracy: 0.8273\n",
      "Epoch 18/40\n",
      "1000/1000 [==============================] - 2s 2ms/step - loss: 0.4351 - accuracy: 0.8451 - val_loss: 0.4809 - val_accuracy: 0.8375\n",
      "Epoch 19/40\n",
      "1000/1000 [==============================] - 2s 2ms/step - loss: 0.4325 - accuracy: 0.8452 - val_loss: 0.5487 - val_accuracy: 0.8162\n",
      "Epoch 20/40\n",
      "1000/1000 [==============================] - 2s 2ms/step - loss: 0.4191 - accuracy: 0.8499 - val_loss: 0.4618 - val_accuracy: 0.8443\n",
      "Epoch 21/40\n",
      "1000/1000 [==============================] - 2s 2ms/step - loss: 0.4294 - accuracy: 0.8492 - val_loss: 0.4914 - val_accuracy: 0.8201\n",
      "Epoch 22/40\n",
      "1000/1000 [==============================] - 2s 2ms/step - loss: 0.4408 - accuracy: 0.8448 - val_loss: 0.5458 - val_accuracy: 0.8241\n",
      "Epoch 23/40\n",
      "1000/1000 [==============================] - 1s 1ms/step - loss: 0.4675 - accuracy: 0.8346 - val_loss: 0.4849 - val_accuracy: 0.8307\n",
      "Epoch 24/40\n",
      "1000/1000 [==============================] - 2s 2ms/step - loss: 0.4191 - accuracy: 0.8501 - val_loss: 0.4604 - val_accuracy: 0.8435\n",
      "Epoch 25/40\n",
      "1000/1000 [==============================] - 2s 2ms/step - loss: 0.4343 - accuracy: 0.8509 - val_loss: 0.4610 - val_accuracy: 0.8512\n",
      "Epoch 26/40\n",
      "1000/1000 [==============================] - 1s 1ms/step - loss: 0.4075 - accuracy: 0.8564 - val_loss: 0.5189 - val_accuracy: 0.8414\n",
      "Epoch 27/40\n",
      "1000/1000 [==============================] - 1s 1ms/step - loss: 0.4223 - accuracy: 0.8499 - val_loss: 0.4562 - val_accuracy: 0.8444\n",
      "Epoch 28/40\n",
      "1000/1000 [==============================] - 1s 1ms/step - loss: 0.4018 - accuracy: 0.8565 - val_loss: 0.4394 - val_accuracy: 0.8489\n",
      "Epoch 29/40\n",
      "1000/1000 [==============================] - 2s 2ms/step - loss: 0.4028 - accuracy: 0.8577 - val_loss: 0.4668 - val_accuracy: 0.8464\n",
      "Epoch 30/40\n",
      "1000/1000 [==============================] - 2s 2ms/step - loss: 0.4162 - accuracy: 0.8533 - val_loss: 0.5459 - val_accuracy: 0.8181\n",
      "Epoch 31/40\n",
      "1000/1000 [==============================] - 2s 2ms/step - loss: 0.4012 - accuracy: 0.8577 - val_loss: 0.4466 - val_accuracy: 0.8433\n",
      "Epoch 32/40\n",
      "1000/1000 [==============================] - 2s 2ms/step - loss: 0.4063 - accuracy: 0.8577 - val_loss: 0.4800 - val_accuracy: 0.8405\n",
      "Epoch 33/40\n",
      "1000/1000 [==============================] - 2s 2ms/step - loss: 0.3932 - accuracy: 0.8587 - val_loss: 0.4644 - val_accuracy: 0.8426\n",
      "500/500 [==============================] - 1s 996us/step - loss: 0.4468 - accuracy: 0.8468\n",
      "Epoch 1/40\n",
      "1000/1000 [==============================] - 3s 3ms/step - loss: 1.1706 - accuracy: 0.5297 - val_loss: 0.8237 - val_accuracy: 0.6604\n",
      "Epoch 2/40\n",
      "1000/1000 [==============================] - 1s 1ms/step - loss: 0.7739 - accuracy: 0.6829 - val_loss: 0.6785 - val_accuracy: 0.7170\n",
      "Epoch 3/40\n",
      "1000/1000 [==============================] - 1s 1ms/step - loss: 0.6819 - accuracy: 0.7155 - val_loss: 0.6663 - val_accuracy: 0.7132\n",
      "Epoch 4/40\n",
      "1000/1000 [==============================] - 1s 1ms/step - loss: 0.6419 - accuracy: 0.7300 - val_loss: 0.6541 - val_accuracy: 0.7263\n",
      "Epoch 5/40\n",
      "1000/1000 [==============================] - 1s 1ms/step - loss: 0.6688 - accuracy: 0.7324 - val_loss: 0.6057 - val_accuracy: 0.7763\n",
      "Epoch 6/40\n",
      "1000/1000 [==============================] - 2s 2ms/step - loss: 0.5932 - accuracy: 0.7745 - val_loss: 0.5836 - val_accuracy: 0.7657\n",
      "Epoch 7/40\n",
      "1000/1000 [==============================] - 2s 2ms/step - loss: 0.5680 - accuracy: 0.7863 - val_loss: 0.5554 - val_accuracy: 0.7955\n",
      "Epoch 8/40\n",
      "1000/1000 [==============================] - 1s 1ms/step - loss: 0.5615 - accuracy: 0.7902 - val_loss: 0.5673 - val_accuracy: 0.7887\n",
      "Epoch 9/40\n",
      "1000/1000 [==============================] - 2s 2ms/step - loss: 0.5490 - accuracy: 0.7942 - val_loss: 0.5643 - val_accuracy: 0.7934\n",
      "Epoch 10/40\n",
      "1000/1000 [==============================] - 1s 1ms/step - loss: 0.5440 - accuracy: 0.7973 - val_loss: 0.5569 - val_accuracy: 0.7936\n",
      "Epoch 11/40\n",
      "1000/1000 [==============================] - 1s 1ms/step - loss: 0.5346 - accuracy: 0.8016 - val_loss: 0.5190 - val_accuracy: 0.8197\n",
      "Epoch 12/40\n",
      "1000/1000 [==============================] - 1s 1ms/step - loss: 0.5195 - accuracy: 0.8230 - val_loss: 0.5114 - val_accuracy: 0.8263\n",
      "Epoch 13/40\n",
      "1000/1000 [==============================] - 1s 1ms/step - loss: 0.4962 - accuracy: 0.8289 - val_loss: 0.5044 - val_accuracy: 0.8324\n",
      "Epoch 14/40\n",
      "1000/1000 [==============================] - 1s 1ms/step - loss: 0.4838 - accuracy: 0.8364 - val_loss: 0.5226 - val_accuracy: 0.8358\n",
      "Epoch 15/40\n",
      "1000/1000 [==============================] - 1s 1ms/step - loss: 0.4689 - accuracy: 0.8418 - val_loss: 0.5580 - val_accuracy: 0.7974\n",
      "Epoch 16/40\n",
      "1000/1000 [==============================] - 1s 1ms/step - loss: 0.4725 - accuracy: 0.8408 - val_loss: 0.4888 - val_accuracy: 0.8371\n",
      "Epoch 17/40\n",
      "1000/1000 [==============================] - 2s 2ms/step - loss: 0.4686 - accuracy: 0.8405 - val_loss: 0.5142 - val_accuracy: 0.8352\n",
      "Epoch 18/40\n",
      "1000/1000 [==============================] - 2s 2ms/step - loss: 0.4650 - accuracy: 0.8432 - val_loss: 0.5493 - val_accuracy: 0.8132\n",
      "Epoch 19/40\n",
      "1000/1000 [==============================] - 1s 1ms/step - loss: 0.4643 - accuracy: 0.8438 - val_loss: 0.5012 - val_accuracy: 0.8374\n",
      "Epoch 20/40\n",
      "1000/1000 [==============================] - 1s 1ms/step - loss: 0.4547 - accuracy: 0.8458 - val_loss: 0.4890 - val_accuracy: 0.8342\n",
      "Epoch 21/40\n",
      "1000/1000 [==============================] - 1s 1ms/step - loss: 0.4574 - accuracy: 0.8445 - val_loss: 0.4911 - val_accuracy: 0.8363\n",
      "500/500 [==============================] - 1s 1ms/step - loss: 0.4732 - accuracy: 0.8409\n",
      "Epoch 1/40\n",
      "1000/1000 [==============================] - 4s 3ms/step - loss: 1.0347 - accuracy: 0.5887 - val_loss: 0.7161 - val_accuracy: 0.7075\n",
      "Epoch 2/40\n",
      "1000/1000 [==============================] - 1s 1ms/step - loss: 0.6943 - accuracy: 0.7278 - val_loss: 0.6768 - val_accuracy: 0.7233\n",
      "Epoch 3/40\n",
      "1000/1000 [==============================] - 2s 2ms/step - loss: 0.7026 - accuracy: 0.7320 - val_loss: 0.6448 - val_accuracy: 0.7279\n",
      "Epoch 4/40\n",
      "1000/1000 [==============================] - 2s 2ms/step - loss: 0.6040 - accuracy: 0.7662 - val_loss: 0.6005 - val_accuracy: 0.7849\n",
      "Epoch 5/40\n",
      "1000/1000 [==============================] - 2s 2ms/step - loss: 0.6028 - accuracy: 0.7767 - val_loss: 0.5459 - val_accuracy: 0.8003\n",
      "Epoch 6/40\n",
      "1000/1000 [==============================] - 1s 1ms/step - loss: 0.5392 - accuracy: 0.8018 - val_loss: 0.5643 - val_accuracy: 0.7984\n",
      "Epoch 7/40\n",
      "1000/1000 [==============================] - 1s 1ms/step - loss: 0.5184 - accuracy: 0.8134 - val_loss: 0.5878 - val_accuracy: 0.8013\n",
      "Epoch 8/40\n",
      "1000/1000 [==============================] - 1s 1ms/step - loss: 0.5042 - accuracy: 0.8188 - val_loss: 0.4882 - val_accuracy: 0.8245\n",
      "Epoch 9/40\n",
      "1000/1000 [==============================] - 1s 1ms/step - loss: 0.5001 - accuracy: 0.8185 - val_loss: 0.5233 - val_accuracy: 0.8108\n",
      "Epoch 10/40\n",
      "1000/1000 [==============================] - 1s 1ms/step - loss: 0.4758 - accuracy: 0.8282 - val_loss: 0.5346 - val_accuracy: 0.8094\n",
      "Epoch 11/40\n",
      "1000/1000 [==============================] - 2s 2ms/step - loss: 0.4684 - accuracy: 0.8295 - val_loss: 0.4980 - val_accuracy: 0.8277\n",
      "Epoch 12/40\n",
      "1000/1000 [==============================] - 1s 1ms/step - loss: 0.4687 - accuracy: 0.8347 - val_loss: 0.4872 - val_accuracy: 0.8275\n",
      "Epoch 13/40\n",
      "1000/1000 [==============================] - 1s 1ms/step - loss: 0.4607 - accuracy: 0.8362 - val_loss: 0.5005 - val_accuracy: 0.8048\n",
      "Epoch 14/40\n",
      "1000/1000 [==============================] - 2s 2ms/step - loss: 0.4571 - accuracy: 0.8380 - val_loss: 0.4811 - val_accuracy: 0.8303\n",
      "Epoch 15/40\n",
      "1000/1000 [==============================] - 2s 2ms/step - loss: 0.4583 - accuracy: 0.8377 - val_loss: 0.5196 - val_accuracy: 0.8077\n",
      "Epoch 16/40\n",
      "1000/1000 [==============================] - 2s 2ms/step - loss: 0.4489 - accuracy: 0.8433 - val_loss: 0.4967 - val_accuracy: 0.8296\n",
      "Epoch 17/40\n",
      "1000/1000 [==============================] - 1s 1ms/step - loss: 0.4436 - accuracy: 0.8442 - val_loss: 0.5505 - val_accuracy: 0.8106\n",
      "Epoch 18/40\n",
      "1000/1000 [==============================] - 1s 1ms/step - loss: 0.4677 - accuracy: 0.8363 - val_loss: 0.5711 - val_accuracy: 0.7936\n",
      "Epoch 19/40\n",
      "1000/1000 [==============================] - 1s 1ms/step - loss: 0.4694 - accuracy: 0.8366 - val_loss: 0.5298 - val_accuracy: 0.8174\n",
      "500/500 [==============================] - 0s 960us/step - loss: 0.5275 - accuracy: 0.8188\n",
      "Epoch 1/40\n",
      "1500/1500 [==============================] - 5s 3ms/step - loss: 0.9436 - accuracy: 0.6306 - val_loss: 0.6329 - val_accuracy: 0.7308\n",
      "Epoch 2/40\n",
      "1500/1500 [==============================] - 3s 2ms/step - loss: 0.5789 - accuracy: 0.7821 - val_loss: 0.6549 - val_accuracy: 0.7720\n",
      "Epoch 3/40\n",
      "1500/1500 [==============================] - 3s 2ms/step - loss: 0.5124 - accuracy: 0.8149 - val_loss: 0.5193 - val_accuracy: 0.8145\n",
      "Epoch 4/40\n",
      "1500/1500 [==============================] - 2s 2ms/step - loss: 0.4775 - accuracy: 0.8283 - val_loss: 0.4614 - val_accuracy: 0.8404\n",
      "Epoch 5/40\n",
      "1500/1500 [==============================] - 2s 2ms/step - loss: 0.4471 - accuracy: 0.8387 - val_loss: 0.4705 - val_accuracy: 0.8280\n",
      "Epoch 6/40\n",
      "1500/1500 [==============================] - 2s 2ms/step - loss: 0.4313 - accuracy: 0.8426 - val_loss: 0.4480 - val_accuracy: 0.8328\n",
      "Epoch 7/40\n",
      "1500/1500 [==============================] - 2s 2ms/step - loss: 0.4198 - accuracy: 0.8476 - val_loss: 0.4474 - val_accuracy: 0.8417\n",
      "Epoch 8/40\n",
      "1500/1500 [==============================] - 2s 2ms/step - loss: 0.4118 - accuracy: 0.8512 - val_loss: 0.4164 - val_accuracy: 0.8489\n",
      "Epoch 9/40\n",
      "1500/1500 [==============================] - 3s 2ms/step - loss: 0.4006 - accuracy: 0.8560 - val_loss: 0.4766 - val_accuracy: 0.8257\n",
      "Epoch 10/40\n",
      "1500/1500 [==============================] - 3s 2ms/step - loss: 0.3933 - accuracy: 0.8567 - val_loss: 0.4295 - val_accuracy: 0.8527\n",
      "Epoch 11/40\n",
      "1500/1500 [==============================] - 2s 2ms/step - loss: 0.3932 - accuracy: 0.8581 - val_loss: 0.4296 - val_accuracy: 0.8431\n",
      "Epoch 12/40\n",
      "1500/1500 [==============================] - 2s 2ms/step - loss: 0.3850 - accuracy: 0.8596 - val_loss: 0.4184 - val_accuracy: 0.8517\n",
      "Epoch 13/40\n",
      "1500/1500 [==============================] - 2s 2ms/step - loss: 0.3821 - accuracy: 0.8609 - val_loss: 0.4592 - val_accuracy: 0.8382\n"
     ]
    },
    {
     "data": {
      "text/plain": [
       "RandomizedSearchCV(cv=3, error_score=nan,\n",
       "                   estimator=<tensorflow.python.keras.wrappers.scikit_learn.KerasRegressor object at 0x0000020AE0858F88>,\n",
       "                   iid='deprecated', n_iter=5, n_jobs=None,\n",
       "                   param_distributions={'n_hidden': [3, 5, 7],\n",
       "                                        'n_neurons': [10, 25, 50]},\n",
       "                   pre_dispatch='2*n_jobs', random_state=None, refit=True,\n",
       "                   return_train_score=False, scoring=None, verbose=0)"
      ]
     },
     "execution_count": 23,
     "metadata": {},
     "output_type": "execute_result"
    }
   ],
   "source": [
    "import math\n",
    "\n",
    "def build_model(n_hidden=10, n_neurons=30,learning_rate=3e-1, input_shape=X_train.shape[1:]):\n",
    "    model = keras.models.Sequential() \n",
    "    model.add(keras.layers.Flatten(input_shape=X_train.shape[1:]))  #if we used inputLayer here instead Flatten, than we may have problem . Why? in the book .d\n",
    "    for layer in range(n_hidden):\n",
    "        model.add(keras.layers.Dense(n_neurons, activation=\"relu\"))\n",
    "    model.add(keras.layers.Dense(10, activation=\"softmax\"))\n",
    "    model.compile(loss=\"sparse_categorical_crossentropy\",\n",
    "                  optimizer=keras.optimizers.SGD(lr=learning_rate),\n",
    "                  metrics=[\"accuracy\"])\n",
    "    return model\n",
    "\n",
    "# mse_test = keras_reg.score(X_test, y_test)\n",
    "# y_pred = keras_reg.predict(X_new)\n",
    "from scipy.stats import reciprocal\n",
    "from sklearn.model_selection import RandomizedSearchCV\n",
    "\n",
    "\n",
    "param_distribs = {\n",
    "    \"n_hidden\": [3, 5, 7],\n",
    "    \"n_neurons\": [10, 25, 50]\n",
    "}\n",
    "\n",
    "early_stopping_cb = keras.callbacks.EarlyStopping(patience=5)\n",
    "checkpoint_cb = keras.callbacks.ModelCheckpoint(\"my_mnist_model.h5\", save_best_only=True)\n",
    "tensorboard_cb = keras.callbacks.TensorBoard(run_logdir)\n",
    "\n",
    "keras_reg = keras.wrappers.scikit_learn.KerasRegressor(build_model)\n",
    "keras_reg.fit(X_train, y_train, epochs=40,\n",
    "                    validation_data=(X_valid, y_valid),\n",
    "                    callbacks=[checkpoint_cb, early_stopping_cb, tensorboard_cb])\n",
    "\n",
    "\n",
    "\n",
    "\n",
    "\n",
    "rnd_search_cv = RandomizedSearchCV(keras_reg, param_distribs, n_iter=5, cv=3)\n",
    "rnd_search_cv.fit(X_train, y_train, epochs=40,\n",
    "                  validation_data=(X_valid, y_valid),\n",
    "                  callbacks=[checkpoint_cb, early_stopping_cb, tensorboard_cb])\n"
   ]
  },
  {
   "cell_type": "code",
   "execution_count": 24,
   "metadata": {},
   "outputs": [
    {
     "data": {
      "text/plain": [
       "{'n_neurons': 50, 'n_hidden': 5}"
      ]
     },
     "execution_count": 24,
     "metadata": {},
     "output_type": "execute_result"
    }
   ],
   "source": [
    "rnd_search_cv.best_params_"
   ]
  },
  {
   "cell_type": "code",
   "execution_count": 25,
   "metadata": {},
   "outputs": [
    {
     "data": {
      "text/plain": [
       "-0.4220743179321289"
      ]
     },
     "execution_count": 25,
     "metadata": {},
     "output_type": "execute_result"
    }
   ],
   "source": [
    "rnd_search_cv.best_score_"
   ]
  },
  {
   "cell_type": "code",
   "execution_count": null,
   "metadata": {},
   "outputs": [],
   "source": [
    "### DENE DENE DENE DENE DENE DENE DENE DENE DENE DENE DENE DENE DENE DENE DENE DENE DENE DENE DENE DENE DENE DENE DENE DENE DENE DENE DENE DENE DENE DENE DENE DENE DENE DENE DENE DENE DENE DENE DENE DENE DENE DENE ###\n",
    "def model_():\n",
    "    \n",
    "    model = keras.models.Sequential([\n",
    "        keras.layers.Flatten(input_shape=[28, 28]),\n",
    "        keras.layers.Dense(50, activation=\"relu\"),        \n",
    "        keras.layers.Dense(50, activation=\"relu\"),\n",
    "        keras.layers.Dense(50, activation=\"relu\"),\n",
    "        keras.layers.Dense(50, activation=\"relu\"),\n",
    "        keras.layers.Dense(50, activation=\"relu\"),\n",
    "        keras.layers.Dense(10, activation=\"softmax\")#  If we were doing binary classification or multilabel binary classification, then we would use the \"sigmoid\"\n",
    "                                                    #  (i.e., logistic) activation function in the output layer instead of the \"softmax\"\n",
    "                                                    #  activation function, and we would use the \"binary_crossentropy\" loss.      \n",
    "    ])\n",
    "model=model\n",
    "model.compile(loss=\"sparse_categorical_crossentropy\",\n",
    "              optimizer=keras.optimizers.SGD(lr=3e-1),\n",
    "              metrics=[\"accuracy\"])\n",
    "\n",
    "early_stopping_cb = keras.callbacks.EarlyStopping(patience=5)\n",
    "checkpoint_cb = keras.callbacks.ModelCheckpoint(\"my_mnist_model.h5\", save_best_only=True)\n",
    "tensorboard_cb = keras.callbacks.TensorBoard(run_logdir)\n",
    "\n",
    "model.fit(X_train, y_train, epochs=100,\n",
    "                    validation_data=(X_valid, y_valid),\n",
    "                    callbacks=[checkpoint_cb, early_stopping_cb, tensorboard_cb])"
   ]
  },
  {
   "cell_type": "code",
   "execution_count": null,
   "metadata": {},
   "outputs": [],
   "source": [
    "model = keras.models.load_model(\"my_keras_model.h5\")\n",
    "model.evaluate(X_test, y_test) \n",
    "### DENE DENE DENE DENE DENE DENE DENE DENE DENE DENE DENE DENE DENE DENE DENE DENE DENE DENE DENE DENE DENE DENE DENE DENE DENE DENE DENE DENE DENE DENE DENE DENE DENE DENE DENE DENE DENE DENE DENE DENE DENE DENE ###\n"
   ]
  },
  {
   "cell_type": "code",
   "execution_count": null,
   "metadata": {},
   "outputs": [],
   "source": [
    "early_stopping_cb = keras.callbacks.EarlyStopping(patience=10)\n",
    "checkpoint_cb = keras.callbacks.ModelCheckpoint(\"my_mnist_model.h5\", save_best_only=True)\n",
    "tensorboard_cb = keras.callbacks.TensorBoard(run_logdir)\n",
    "\n",
    "keras_reg = keras.wrappers.scikit_learn.KerasRegressor(build_model)\n",
    "keras_reg.fit(X_train, y_train, epochs=3,\n",
    "                    validation_data=(X_valid, y_valid),\n",
    "                    callbacks=[checkpoint_cb, early_stopping_cb, tensorboard_cb])"
   ]
  },
  {
   "cell_type": "code",
   "execution_count": 26,
   "metadata": {},
   "outputs": [
    {
     "name": "stdout",
     "output_type": "stream",
     "text": [
      "1500/1500 [==============================] - 2s 2ms/step - loss: 0.2534 - accuracy: 0.9063 - val_loss: 0.4131 - val_accuracy: 0.8696\n"
     ]
    }
   ],
   "source": [
    "history = model.fit(X_train, y_train, epochs=1,\n",
    "                    validation_data=(X_valid, y_valid),\n",
    "                    callbacks=[tensorboard_cb,\n",
    "                              tf.keras.callbacks.EarlyStopping(patience=3, monitor=\"val_loss\")]\n",
    "                   )\n"
   ]
  },
  {
   "cell_type": "markdown",
   "metadata": {},
   "source": [
    "as we can see, our best hyperparameters is: ___{'n_neurons': 50, 'n_hidden': 5}___\n",
    "\n",
    "So let's build last one model:"
   ]
  },
  {
   "cell_type": "code",
   "execution_count": 40,
   "metadata": {
    "collapsed": true,
    "jupyter": {
     "outputs_hidden": true
    }
   },
   "outputs": [
    {
     "name": "stdout",
     "output_type": "stream",
     "text": [
      "Epoch 1/50\n",
      "1500/1500 [==============================] - 5s 3ms/step - loss: 0.8478 - accuracy: 0.6711 - val_loss: 0.5931 - val_accuracy: 0.7509\n",
      "Epoch 2/50\n",
      "1500/1500 [==============================] - 3s 2ms/step - loss: 0.5444 - accuracy: 0.7997 - val_loss: 0.6320 - val_accuracy: 0.7769\n",
      "Epoch 3/50\n",
      "1500/1500 [==============================] - 3s 2ms/step - loss: 0.4836 - accuracy: 0.8271 - val_loss: 0.4721 - val_accuracy: 0.8335\n",
      "Epoch 4/50\n",
      "1500/1500 [==============================] - 3s 2ms/step - loss: 0.4444 - accuracy: 0.8380 - val_loss: 0.4302 - val_accuracy: 0.8501\n",
      "Epoch 5/50\n",
      "1500/1500 [==============================] - 2s 2ms/step - loss: 0.4236 - accuracy: 0.8479 - val_loss: 0.4567 - val_accuracy: 0.8402\n",
      "Epoch 6/50\n",
      "1500/1500 [==============================] - 3s 2ms/step - loss: 0.4129 - accuracy: 0.8497 - val_loss: 0.4494 - val_accuracy: 0.8380\n",
      "Epoch 7/50\n",
      "1500/1500 [==============================] - 2s 2ms/step - loss: 0.3967 - accuracy: 0.8556 - val_loss: 0.4572 - val_accuracy: 0.8358\n",
      "Epoch 8/50\n",
      "1500/1500 [==============================] - 3s 2ms/step - loss: 0.3882 - accuracy: 0.8595 - val_loss: 0.3957 - val_accuracy: 0.8578\n",
      "Epoch 9/50\n",
      "1500/1500 [==============================] - 3s 2ms/step - loss: 0.3791 - accuracy: 0.8638 - val_loss: 0.4164 - val_accuracy: 0.8520\n",
      "Epoch 10/50\n",
      "1500/1500 [==============================] - 3s 2ms/step - loss: 0.3675 - accuracy: 0.8658 - val_loss: 0.4349 - val_accuracy: 0.8518\n",
      "Epoch 11/50\n",
      "1500/1500 [==============================] - 3s 2ms/step - loss: 0.3708 - accuracy: 0.8659 - val_loss: 0.4023 - val_accuracy: 0.8561\n",
      "Epoch 12/50\n",
      "1500/1500 [==============================] - 3s 2ms/step - loss: 0.3602 - accuracy: 0.8685 - val_loss: 0.3831 - val_accuracy: 0.8628\n",
      "Epoch 13/50\n",
      "1500/1500 [==============================] - 2s 2ms/step - loss: 0.3542 - accuracy: 0.8692 - val_loss: 0.4065 - val_accuracy: 0.8585\n",
      "Epoch 14/50\n",
      "1500/1500 [==============================] - 3s 2ms/step - loss: 0.3506 - accuracy: 0.8733 - val_loss: 0.3969 - val_accuracy: 0.8668\n",
      "Epoch 15/50\n",
      "1500/1500 [==============================] - 3s 2ms/step - loss: 0.3446 - accuracy: 0.8740 - val_loss: 0.3966 - val_accuracy: 0.8577\n",
      "Epoch 16/50\n",
      "1500/1500 [==============================] - 3s 2ms/step - loss: 0.3397 - accuracy: 0.8755 - val_loss: 0.3928 - val_accuracy: 0.8667\n",
      "Epoch 17/50\n",
      "1500/1500 [==============================] - 3s 2ms/step - loss: 0.3374 - accuracy: 0.8767 - val_loss: 0.3895 - val_accuracy: 0.8668\n",
      "Epoch 18/50\n",
      "1500/1500 [==============================] - 3s 2ms/step - loss: 0.3346 - accuracy: 0.8775 - val_loss: 0.4011 - val_accuracy: 0.8554\n",
      "Epoch 19/50\n",
      "1500/1500 [==============================] - 3s 2ms/step - loss: 0.3297 - accuracy: 0.8801 - val_loss: 0.4012 - val_accuracy: 0.8643\n",
      "Epoch 20/50\n",
      "1500/1500 [==============================] - 3s 2ms/step - loss: 0.3302 - accuracy: 0.8806 - val_loss: 0.4204 - val_accuracy: 0.8591\n",
      "Epoch 21/50\n",
      "1500/1500 [==============================] - 3s 2ms/step - loss: 0.3325 - accuracy: 0.8789 - val_loss: 0.3809 - val_accuracy: 0.8680\n",
      "Epoch 22/50\n",
      "1500/1500 [==============================] - 5s 3ms/step - loss: 0.3201 - accuracy: 0.8825 - val_loss: 0.3896 - val_accuracy: 0.8717\n",
      "Epoch 23/50\n",
      "1500/1500 [==============================] - 3s 2ms/step - loss: 0.3191 - accuracy: 0.8837 - val_loss: 0.4343 - val_accuracy: 0.8581\n",
      "Epoch 24/50\n",
      "1500/1500 [==============================] - 3s 2ms/step - loss: 0.3208 - accuracy: 0.8832 - val_loss: 0.4110 - val_accuracy: 0.8636\n",
      "Epoch 25/50\n",
      "1500/1500 [==============================] - 3s 2ms/step - loss: 0.3227 - accuracy: 0.8821 - val_loss: 0.4290 - val_accuracy: 0.8559\n",
      "Epoch 26/50\n",
      "1500/1500 [==============================] - 3s 2ms/step - loss: 0.3291 - accuracy: 0.8816 - val_loss: 0.3965 - val_accuracy: 0.8713\n",
      "Epoch 27/50\n",
      "1500/1500 [==============================] - 3s 2ms/step - loss: 0.3202 - accuracy: 0.8844 - val_loss: 0.3800 - val_accuracy: 0.8731\n",
      "Epoch 28/50\n",
      "1500/1500 [==============================] - 3s 2ms/step - loss: 0.3095 - accuracy: 0.8869 - val_loss: 0.3914 - val_accuracy: 0.8722\n",
      "Epoch 29/50\n",
      "1500/1500 [==============================] - 3s 2ms/step - loss: 0.3086 - accuracy: 0.8872 - val_loss: 0.4246 - val_accuracy: 0.8595\n",
      "Epoch 30/50\n",
      "1500/1500 [==============================] - 3s 2ms/step - loss: 0.3074 - accuracy: 0.8873 - val_loss: 0.4309 - val_accuracy: 0.8659\n",
      "Epoch 31/50\n",
      "1500/1500 [==============================] - 3s 2ms/step - loss: 0.3065 - accuracy: 0.8884 - val_loss: 0.4870 - val_accuracy: 0.8492\n",
      "Epoch 32/50\n",
      "1500/1500 [==============================] - 4s 3ms/step - loss: 0.3086 - accuracy: 0.8879 - val_loss: 0.3973 - val_accuracy: 0.8634\n",
      "Epoch 33/50\n",
      "1500/1500 [==============================] - 3s 2ms/step - loss: 0.3032 - accuracy: 0.8897 - val_loss: 0.3917 - val_accuracy: 0.8679\n",
      "Epoch 34/50\n",
      "1500/1500 [==============================] - 3s 2ms/step - loss: 0.3091 - accuracy: 0.8896 - val_loss: 0.3764 - val_accuracy: 0.8759\n",
      "Epoch 35/50\n",
      "1500/1500 [==============================] - 3s 2ms/step - loss: 0.3028 - accuracy: 0.8906 - val_loss: 0.4068 - val_accuracy: 0.8665\n",
      "Epoch 36/50\n",
      "1500/1500 [==============================] - 3s 2ms/step - loss: 0.3009 - accuracy: 0.8890 - val_loss: 0.4307 - val_accuracy: 0.8603\n",
      "Epoch 37/50\n",
      "1500/1500 [==============================] - 3s 2ms/step - loss: 0.3084 - accuracy: 0.8892 - val_loss: 0.3995 - val_accuracy: 0.8726\n",
      "Epoch 38/50\n",
      "1500/1500 [==============================] - 3s 2ms/step - loss: 0.3051 - accuracy: 0.8910 - val_loss: 0.3911 - val_accuracy: 0.8768\n",
      "Epoch 39/50\n",
      "1500/1500 [==============================] - 4s 3ms/step - loss: 0.3055 - accuracy: 0.8915 - val_loss: 0.4082 - val_accuracy: 0.8693\n",
      "Epoch 40/50\n",
      "1500/1500 [==============================] - 3s 2ms/step - loss: 0.3066 - accuracy: 0.8925 - val_loss: 0.5243 - val_accuracy: 0.8427\n",
      "Epoch 41/50\n",
      "1500/1500 [==============================] - 3s 2ms/step - loss: 0.2940 - accuracy: 0.8946 - val_loss: 0.3983 - val_accuracy: 0.8719\n",
      "Epoch 42/50\n",
      "1500/1500 [==============================] - 3s 2ms/step - loss: 0.2927 - accuracy: 0.8962 - val_loss: 0.3953 - val_accuracy: 0.8733\n",
      "Epoch 43/50\n",
      "1500/1500 [==============================] - 3s 2ms/step - loss: 0.2895 - accuracy: 0.8974 - val_loss: 0.3959 - val_accuracy: 0.8715\n",
      "Epoch 44/50\n",
      "1500/1500 [==============================] - 3s 2ms/step - loss: 0.3071 - accuracy: 0.8903 - val_loss: 0.4105 - val_accuracy: 0.8584\n"
     ]
    },
    {
     "data": {
      "text/plain": [
       "<tensorflow.python.keras.callbacks.History at 0x25d957d77c8>"
      ]
     },
     "execution_count": 40,
     "metadata": {},
     "output_type": "execute_result"
    }
   ],
   "source": [
    "N_NEURONS= 50\n",
    "N_HIDDEN= 5\n",
    "\n",
    "model_manuelly=keras.models.Sequential()\n",
    "model_manuelly.add(keras.layers.Flatten(input_shape=X_train.shape[1:]))\n",
    "for layer in range(N_HIDDEN):\n",
    "        model_manuelly.add(keras.layers.Dense(N_NEURONS, activation=\"relu\"))\n",
    "model_manuelly.add(keras.layers.Dense(10, activation=\"softmax\"))\n",
    "        \n",
    "model_manuelly.compile(loss=\"sparse_categorical_crossentropy\",\n",
    "    optimizer=keras.optimizers.SGD(lr=3e-1),\n",
    "    metrics=[\"accuracy\"]) \n",
    "\n",
    "model_manuelly.fit(X_train, y_train, epochs=50, validation_data=(X_valid, y_valid),\n",
    "    callbacks=[[tensorboard_cb], [keras.callbacks.EarlyStopping(patience=10)]])        \n"
   ]
  },
  {
   "cell_type": "code",
   "execution_count": 27,
   "metadata": {},
   "outputs": [
    {
     "name": "stdout",
     "output_type": "stream",
     "text": [
      "Epoch 1/50\n",
      "1500/1500 [==============================] - 3s 2ms/step - loss: 0.3712 - accuracy: 0.8657 - val_loss: 0.4244 - val_accuracy: 0.8474\n",
      "Epoch 2/50\n",
      "1500/1500 [==============================] - 2s 2ms/step - loss: 0.3682 - accuracy: 0.8669 - val_loss: 0.4695 - val_accuracy: 0.8406\n",
      "Epoch 3/50\n",
      "1500/1500 [==============================] - 3s 2ms/step - loss: 0.3696 - accuracy: 0.8662 - val_loss: 0.4102 - val_accuracy: 0.8572\n",
      "Epoch 4/50\n",
      "1500/1500 [==============================] - 2s 2ms/step - loss: 0.3623 - accuracy: 0.8680 - val_loss: 0.4016 - val_accuracy: 0.8614\n",
      "Epoch 5/50\n",
      "1500/1500 [==============================] - 2s 2ms/step - loss: 0.3554 - accuracy: 0.8697 - val_loss: 0.4602 - val_accuracy: 0.8399\n",
      "Epoch 6/50\n",
      "1500/1500 [==============================] - 2s 2ms/step - loss: 0.3522 - accuracy: 0.8710 - val_loss: 0.4078 - val_accuracy: 0.8557\n",
      "Epoch 7/50\n",
      "1500/1500 [==============================] - 2s 2ms/step - loss: 0.3507 - accuracy: 0.8730 - val_loss: 0.4162 - val_accuracy: 0.8591\n",
      "Epoch 8/50\n",
      "1500/1500 [==============================] - 2s 1ms/step - loss: 0.3545 - accuracy: 0.8732 - val_loss: 0.3919 - val_accuracy: 0.8633\n",
      "Epoch 9/50\n",
      "1500/1500 [==============================] - 3s 2ms/step - loss: 0.3578 - accuracy: 0.8721 - val_loss: 0.4365 - val_accuracy: 0.8497\n",
      "Epoch 10/50\n",
      "1500/1500 [==============================] - 3s 2ms/step - loss: 0.3644 - accuracy: 0.8696 - val_loss: 0.4141 - val_accuracy: 0.8597\n",
      "Epoch 11/50\n",
      "1500/1500 [==============================] - 3s 2ms/step - loss: 0.3586 - accuracy: 0.8712 - val_loss: 0.4414 - val_accuracy: 0.8462\n",
      "Epoch 12/50\n",
      "1500/1500 [==============================] - 2s 2ms/step - loss: 0.3586 - accuracy: 0.8719 - val_loss: 0.4049 - val_accuracy: 0.8589\n",
      "Epoch 13/50\n",
      "1500/1500 [==============================] - 3s 2ms/step - loss: 0.3505 - accuracy: 0.8746 - val_loss: 0.3908 - val_accuracy: 0.8644\n",
      "Epoch 14/50\n",
      "1500/1500 [==============================] - 2s 2ms/step - loss: 0.3446 - accuracy: 0.8775 - val_loss: 0.4143 - val_accuracy: 0.8466\n",
      "Epoch 15/50\n",
      "1500/1500 [==============================] - 2s 1ms/step - loss: 0.3465 - accuracy: 0.8757 - val_loss: 0.4144 - val_accuracy: 0.8577\n",
      "Epoch 16/50\n",
      "1500/1500 [==============================] - 2s 1ms/step - loss: 0.3404 - accuracy: 0.8763 - val_loss: 0.4423 - val_accuracy: 0.8512\n",
      "Epoch 17/50\n",
      "1500/1500 [==============================] - 2s 1ms/step - loss: 0.3392 - accuracy: 0.8790 - val_loss: 0.3891 - val_accuracy: 0.8685\n",
      "Epoch 18/50\n",
      "1500/1500 [==============================] - 2s 1ms/step - loss: 0.3368 - accuracy: 0.8790 - val_loss: 0.4161 - val_accuracy: 0.8647\n",
      "Epoch 19/50\n",
      "1500/1500 [==============================] - 2s 1ms/step - loss: 0.3271 - accuracy: 0.8814 - val_loss: 0.4617 - val_accuracy: 0.8587\n",
      "Epoch 20/50\n",
      "1500/1500 [==============================] - 3s 2ms/step - loss: 0.3501 - accuracy: 0.8737 - val_loss: 0.4214 - val_accuracy: 0.8608\n",
      "Epoch 21/50\n",
      "1500/1500 [==============================] - 2s 2ms/step - loss: 0.3317 - accuracy: 0.8802 - val_loss: 0.4987 - val_accuracy: 0.8014\n",
      "Epoch 22/50\n",
      "1500/1500 [==============================] - 3s 2ms/step - loss: 0.3301 - accuracy: 0.8810 - val_loss: 0.4294 - val_accuracy: 0.8521\n",
      "Epoch 23/50\n",
      "1500/1500 [==============================] - 2s 2ms/step - loss: 0.3326 - accuracy: 0.8795 - val_loss: 0.4460 - val_accuracy: 0.8552\n",
      "Epoch 24/50\n",
      "1500/1500 [==============================] - 2s 1ms/step - loss: 0.3366 - accuracy: 0.8791 - val_loss: 0.4568 - val_accuracy: 0.8487\n",
      "Epoch 25/50\n",
      "1500/1500 [==============================] - 3s 2ms/step - loss: 0.3259 - accuracy: 0.8832 - val_loss: 0.4203 - val_accuracy: 0.8575\n",
      "Epoch 26/50\n",
      "1500/1500 [==============================] - 3s 2ms/step - loss: 0.3284 - accuracy: 0.8807 - val_loss: 0.4232 - val_accuracy: 0.8614\n",
      "Epoch 27/50\n",
      "1500/1500 [==============================] - 2s 2ms/step - loss: 0.3183 - accuracy: 0.8848 - val_loss: 0.4017 - val_accuracy: 0.8655\n"
     ]
    },
    {
     "data": {
      "text/plain": [
       "<tensorflow.python.keras.callbacks.History at 0x20afd27ed48>"
      ]
     },
     "execution_count": 27,
     "metadata": {},
     "output_type": "execute_result"
    }
   ],
   "source": [
    "model = rnd_search_cv.best_estimator_.model\n",
    "\n",
    "\n",
    "model.fit(X_train, y_train, epochs=50, validation_data=(X_valid, y_valid),\n",
    "             callbacks=[[tensorboard_cb], \n",
    "                        [keras.callbacks.EarlyStopping(patience=10)],\n",
    "                       [keras.callbacks.ModelCheckpoint(\"my_mnist_model.h5\", save_best_only=True)]])"
   ]
  },
  {
   "cell_type": "code",
   "execution_count": 28,
   "metadata": {},
   "outputs": [],
   "source": [
    "model = keras.models.load_model(\"my_keras_model.h5\")"
   ]
  },
  {
   "cell_type": "code",
   "execution_count": 29,
   "metadata": {},
   "outputs": [
    {
     "name": "stdout",
     "output_type": "stream",
     "text": [
      "313/313 [==============================] - 0s 1ms/step - loss: 0.4139 - accuracy: 0.8567\n"
     ]
    },
    {
     "data": {
      "text/plain": [
       "[0.41390350461006165, 0.8567000031471252]"
      ]
     },
     "execution_count": 29,
     "metadata": {},
     "output_type": "execute_result"
    }
   ],
   "source": [
    "model.evaluate(X_test, y_test) "
   ]
  },
  {
   "cell_type": "markdown",
   "metadata": {},
   "source": [
    "Now lest's apply ***Hyperas***"
   ]
  },
  {
   "cell_type": "markdown",
   "metadata": {},
   "source": [
    "need to download:"
   ]
  },
  {
   "cell_type": "code",
   "execution_count": 33,
   "metadata": {},
   "outputs": [
    {
     "name": "stdout",
     "output_type": "stream",
     "text": [
      "Requirement already satisfied: hyperas in c:\\users\\bedir\\anaconda3\\lib\\site-packages (0.4.1)\n",
      "Requirement already satisfied: hyperopt in c:\\users\\bedir\\anaconda3\\lib\\site-packages (from hyperas) (0.2.5)\n",
      "Requirement already satisfied: nbformat in c:\\users\\bedir\\anaconda3\\lib\\site-packages (from hyperas) (5.0.4)\n",
      "Requirement already satisfied: keras in c:\\users\\bedir\\anaconda3\\lib\\site-packages (from hyperas) (2.4.3)\n",
      "Requirement already satisfied: jupyter in c:\\users\\bedir\\anaconda3\\lib\\site-packages (from hyperas) (1.0.0)\n",
      "Requirement already satisfied: nbconvert in c:\\users\\bedir\\anaconda3\\lib\\site-packages (from hyperas) (5.6.1)\n",
      "Requirement already satisfied: entrypoints in c:\\users\\bedir\\anaconda3\\lib\\site-packages (from hyperas) (0.3)\n",
      "Requirement already satisfied: scipy in c:\\users\\bedir\\anaconda3\\lib\\site-packages (from hyperopt->hyperas) (1.4.1)\n",
      "Requirement already satisfied: future in c:\\users\\bedir\\anaconda3\\lib\\site-packages (from hyperopt->hyperas) (0.18.2)\n",
      "Requirement already satisfied: numpy in c:\\users\\bedir\\anaconda3\\lib\\site-packages (from hyperopt->hyperas) (1.19.5)\n",
      "Requirement already satisfied: networkx>=2.2 in c:\\users\\bedir\\anaconda3\\lib\\site-packages (from hyperopt->hyperas) (2.4)\n",
      "Requirement already satisfied: cloudpickle in c:\\users\\bedir\\anaconda3\\lib\\site-packages (from hyperopt->hyperas) (1.3.0)\n",
      "Requirement already satisfied: six in c:\\users\\bedir\\anaconda3\\lib\\site-packages (from hyperopt->hyperas) (1.15.0)\n",
      "Requirement already satisfied: tqdm in c:\\users\\bedir\\anaconda3\\lib\\site-packages (from hyperopt->hyperas) (4.42.1)\n",
      "Requirement already satisfied: jsonschema!=2.5.0,>=2.4 in c:\\users\\bedir\\anaconda3\\lib\\site-packages (from nbformat->hyperas) (3.2.0)\n",
      "Requirement already satisfied: jupyter-core in c:\\users\\bedir\\anaconda3\\lib\\site-packages (from nbformat->hyperas) (4.6.1)\n",
      "Requirement already satisfied: ipython-genutils in c:\\users\\bedir\\anaconda3\\lib\\site-packages (from nbformat->hyperas) (0.2.0)\n",
      "Requirement already satisfied: traitlets>=4.1 in c:\\users\\bedir\\anaconda3\\lib\\site-packages (from nbformat->hyperas) (4.3.3)\n",
      "Requirement already satisfied: h5py in c:\\users\\bedir\\anaconda3\\lib\\site-packages (from keras->hyperas) (3.1.0)\n",
      "Requirement already satisfied: pyyaml in c:\\users\\bedir\\anaconda3\\lib\\site-packages (from keras->hyperas) (5.3)\n",
      "Requirement already satisfied: ipywidgets in c:\\users\\bedir\\anaconda3\\lib\\site-packages (from jupyter->hyperas) (7.5.1)\n",
      "Requirement already satisfied: ipykernel in c:\\users\\bedir\\anaconda3\\lib\\site-packages (from jupyter->hyperas) (5.1.4)\n",
      "Requirement already satisfied: notebook in c:\\users\\bedir\\anaconda3\\lib\\site-packages (from jupyter->hyperas) (6.0.3)\n",
      "Requirement already satisfied: qtconsole in c:\\users\\bedir\\anaconda3\\lib\\site-packages (from jupyter->hyperas) (4.6.0)\n",
      "Requirement already satisfied: jupyter-console in c:\\users\\bedir\\anaconda3\\lib\\site-packages (from jupyter->hyperas) (6.1.0)\n",
      "Requirement already satisfied: pygments in c:\\users\\bedir\\anaconda3\\lib\\site-packages (from nbconvert->hyperas) (2.5.2)\n",
      "Requirement already satisfied: defusedxml in c:\\users\\bedir\\anaconda3\\lib\\site-packages (from nbconvert->hyperas) (0.6.0)\n",
      "Requirement already satisfied: bleach in c:\\users\\bedir\\anaconda3\\lib\\site-packages (from nbconvert->hyperas) (3.1.0)\n",
      "Requirement already satisfied: pandocfilters>=1.4.1 in c:\\users\\bedir\\anaconda3\\lib\\site-packages (from nbconvert->hyperas) (1.4.2)\n",
      "Requirement already satisfied: mistune<2,>=0.8.1 in c:\\users\\bedir\\anaconda3\\lib\\site-packages (from nbconvert->hyperas) (0.8.4)\n",
      "Requirement already satisfied: jinja2>=2.4 in c:\\users\\bedir\\anaconda3\\lib\\site-packages (from nbconvert->hyperas) (2.11.1)\n",
      "Requirement already satisfied: testpath in c:\\users\\bedir\\anaconda3\\lib\\site-packages (from nbconvert->hyperas) (0.4.4)\n",
      "Requirement already satisfied: decorator>=4.3.0 in c:\\users\\bedir\\anaconda3\\lib\\site-packages (from networkx>=2.2->hyperopt->hyperas) (4.4.1)\n",
      "Requirement already satisfied: importlib-metadata; python_version < \"3.8\" in c:\\users\\bedir\\anaconda3\\lib\\site-packages (from jsonschema!=2.5.0,>=2.4->nbformat->hyperas) (1.7.0)\n",
      "Requirement already satisfied: attrs>=17.4.0 in c:\\users\\bedir\\anaconda3\\lib\\site-packages (from jsonschema!=2.5.0,>=2.4->nbformat->hyperas) (19.3.0)\n",
      "Requirement already satisfied: pyrsistent>=0.14.0 in c:\\users\\bedir\\anaconda3\\lib\\site-packages (from jsonschema!=2.5.0,>=2.4->nbformat->hyperas) (0.15.7)\n",
      "Requirement already satisfied: setuptools in c:\\users\\bedir\\anaconda3\\lib\\site-packages (from jsonschema!=2.5.0,>=2.4->nbformat->hyperas) (45.2.0.post20200210)\n",
      "Requirement already satisfied: pywin32>=1.0; sys_platform == \"win32\" in c:\\users\\bedir\\anaconda3\\lib\\site-packages (from jupyter-core->nbformat->hyperas) (227)\n",
      "Requirement already satisfied: cached-property; python_version < \"3.8\" in c:\\users\\bedir\\anaconda3\\lib\\site-packages (from h5py->keras->hyperas) (1.5.2)\n",
      "Requirement already satisfied: ipython>=4.0.0; python_version >= \"3.3\" in c:\\users\\bedir\\anaconda3\\lib\\site-packages (from ipywidgets->jupyter->hyperas) (7.12.0)\n",
      "Requirement already satisfied: widgetsnbextension~=3.5.0 in c:\\users\\bedir\\anaconda3\\lib\\site-packages (from ipywidgets->jupyter->hyperas) (3.5.1)\n",
      "Requirement already satisfied: tornado>=4.2 in c:\\users\\bedir\\anaconda3\\lib\\site-packages (from ipykernel->jupyter->hyperas) (6.0.3)\n",
      "Requirement already satisfied: jupyter-client in c:\\users\\bedir\\anaconda3\\lib\\site-packages (from ipykernel->jupyter->hyperas) (5.3.4)\n",
      "Requirement already satisfied: prometheus-client in c:\\users\\bedir\\anaconda3\\lib\\site-packages (from notebook->jupyter->hyperas) (0.7.1)\n",
      "Requirement already satisfied: pyzmq>=17 in c:\\users\\bedir\\anaconda3\\lib\\site-packages (from notebook->jupyter->hyperas) (18.1.1)\n",
      "Requirement already satisfied: Send2Trash in c:\\users\\bedir\\anaconda3\\lib\\site-packages (from notebook->jupyter->hyperas) (1.5.0)\n",
      "Requirement already satisfied: terminado>=0.8.1 in c:\\users\\bedir\\anaconda3\\lib\\site-packages (from notebook->jupyter->hyperas) (0.8.3)\n",
      "Requirement already satisfied: prompt-toolkit!=3.0.0,!=3.0.1,<3.1.0,>=2.0.0 in c:\\users\\bedir\\anaconda3\\lib\\site-packages (from jupyter-console->jupyter->hyperas) (3.0.3)\n",
      "Requirement already satisfied: webencodings in c:\\users\\bedir\\anaconda3\\lib\\site-packages (from bleach->nbconvert->hyperas) (0.5.1)\n",
      "Requirement already satisfied: MarkupSafe>=0.23 in c:\\users\\bedir\\anaconda3\\lib\\site-packages (from jinja2>=2.4->nbconvert->hyperas) (1.1.1)\n",
      "Requirement already satisfied: zipp>=0.5 in c:\\users\\bedir\\anaconda3\\lib\\site-packages (from importlib-metadata; python_version < \"3.8\"->jsonschema!=2.5.0,>=2.4->nbformat->hyperas) (2.2.0)\n",
      "Requirement already satisfied: colorama; sys_platform == \"win32\" in c:\\users\\bedir\\anaconda3\\lib\\site-packages (from ipython>=4.0.0; python_version >= \"3.3\"->ipywidgets->jupyter->hyperas) (0.4.3)\n",
      "Requirement already satisfied: jedi>=0.10 in c:\\users\\bedir\\anaconda3\\lib\\site-packages (from ipython>=4.0.0; python_version >= \"3.3\"->ipywidgets->jupyter->hyperas) (0.14.1)\n",
      "Requirement already satisfied: pickleshare in c:\\users\\bedir\\anaconda3\\lib\\site-packages (from ipython>=4.0.0; python_version >= \"3.3\"->ipywidgets->jupyter->hyperas) (0.7.5)\n",
      "Requirement already satisfied: backcall in c:\\users\\bedir\\anaconda3\\lib\\site-packages (from ipython>=4.0.0; python_version >= \"3.3\"->ipywidgets->jupyter->hyperas) (0.1.0)\n",
      "Requirement already satisfied: python-dateutil>=2.1 in c:\\users\\bedir\\anaconda3\\lib\\site-packages (from jupyter-client->ipykernel->jupyter->hyperas) (2.8.1)\n",
      "Requirement already satisfied: wcwidth in c:\\users\\bedir\\anaconda3\\lib\\site-packages (from prompt-toolkit!=3.0.0,!=3.0.1,<3.1.0,>=2.0.0->jupyter-console->jupyter->hyperas) (0.1.8)\n",
      "Requirement already satisfied: parso>=0.5.0 in c:\\users\\bedir\\anaconda3\\lib\\site-packages (from jedi>=0.10->ipython>=4.0.0; python_version >= \"3.3\"->ipywidgets->jupyter->hyperas) (0.5.2)\n",
      "Note: you may need to restart the kernel to use updated packages.\n"
     ]
    }
   ],
   "source": [
    "pip install hyperas"
   ]
  },
  {
   "cell_type": "code",
   "execution_count": null,
   "metadata": {},
   "outputs": [],
   "source": []
  }
 ],
 "metadata": {
  "kernelspec": {
   "display_name": "Python 3",
   "language": "python",
   "name": "python3"
  },
  "language_info": {
   "codemirror_mode": {
    "name": "ipython",
    "version": 3
   },
   "file_extension": ".py",
   "mimetype": "text/x-python",
   "name": "python",
   "nbconvert_exporter": "python",
   "pygments_lexer": "ipython3",
   "version": "3.7.6"
  }
 },
 "nbformat": 4,
 "nbformat_minor": 4
}
